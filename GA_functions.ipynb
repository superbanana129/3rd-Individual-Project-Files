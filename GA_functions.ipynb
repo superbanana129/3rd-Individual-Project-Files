{
 "cells": [
  {
   "cell_type": "code",
   "execution_count": 1,
   "metadata": {},
   "outputs": [],
   "source": [
    "import numpy as np\n",
    "import tidy3d as td\n",
    "import math\n",
    "from collections import namedtuple\n",
    "import matplotlib.pyplot as plt\n",
    "import random\n",
    "import tidy3d as td\n",
    "import tidy3d.web as web\n",
    "import itertools\n",
    "from shapely.geometry import Point, Polygon, MultiPoint\n",
    "import pandas as pd\n",
    "from descartes import PolygonPatch\n",
    "import alphashape\n",
    "import matplotlib.pyplot as plt\n",
    "from scipy.spatial import ConvexHull\n",
    "import pygad\n",
    "import time\n",
    "import h5py\n",
    "import os\n",
    "import gdstk\n",
    "import nbimporter\n",
    "%run fan_generation.ipynb\n",
    "\n",
    "\n",
    "desired_temperature = 450\n"
   ]
  },
  {
   "cell_type": "code",
   "execution_count": 2,
   "metadata": {},
   "outputs": [],
   "source": [
    "#function to prepare the simulation\n",
    "def make_sim(solution):\n",
    "    fans =  generate_fan_list(solution)\n",
    "    fan_structure_0 = fan_structure.generate_fan_from_centre(fans[0])\n",
    "    fan_structure_1 = fan_structure.generate_fan_from_centre(fans[1])\n",
    "    fan_structure_2 = fan_structure.generate_fan_from_centre(fans[2])\n",
    "    fan_structure_3 = fan_structure.generate_fan_from_centre(fans[3])\n",
    "\n",
    "\n",
    "\n",
    "    scene_planar = td.Scene(\n",
    "        structures= [planar_vac]  + [planar_bottom_layer] + fan_structure_0 + fan_structure_1 + fan_structure_2+ fan_structure_3  + [planar_top_layer]  + [planar_vac2],\n",
    "        medium=background_medium,\n",
    "    )\n",
    "    # simulation domain parameter\n",
    "    heat_sim_planar = td.HeatSimulation(\n",
    "        center=(r1/2, r1/2, 4),\n",
    "        size=(r1 + 0.1, r1 + 0.1, 24.5),\n",
    "        medium=scene_planar.medium,\n",
    "        structures= scene_planar.structures,\n",
    "        boundary_spec=[bc_side, bc_vac],\n",
    "        sources=[source_top],\n",
    "        grid_spec=td.UniformUnstructuredGrid(dl = 0.25),\n",
    "        #grid_spec=td.DistanceUnstructuredGrid(dl_interface=0.05, distance_interface=0.2, dl_bulk=0.25, distance_bulk=0.5),\n",
    "        monitors=[temp_mnt, temp_mnt_ugrid],\n",
    "        symmetry=(0, 0, 0)\n",
    "    )\n",
    "    return heat_sim_planar"
   ]
  },
  {
   "cell_type": "code",
   "execution_count": 3,
   "metadata": {},
   "outputs": [],
   "source": [
    "#function to prepare the simulation\n",
    "def make_sim_petal(solution):\n",
    "    fans = generate_petal_fan_list(solution)\n",
    "    fan_structure_list = []\n",
    "    fans_on_top = []\n",
    "    fans_on_top_objects = []\n",
    "    fan_structure_list.append(fan_structure.generate_petal_fan(fans[0], solution[2], solution[3]))\n",
    "\n",
    "    fans_on_top.extend(fan_structure.generate_nonlinear_fan_on_top(fans[0], 1, 2, 40, 3)[0])\n",
    "    fans_on_top_objects.extend(fan_structure.generate_nonlinear_fan_on_top(fans[0], 1, 2, 40, 3)[1])\n",
    "\n",
    "    i = 4\n",
    "    for z in range(1, 4):\n",
    "        fan_structure_list[0] += fan_structure.generate_petal_fan(fans[z], solution[i+2], solution[i+3])\n",
    "        fans_on_top.extend(fan_structure.generate_nonlinear_fan_on_top(fans[z], 1, 2, 40, 3)[0])\n",
    "        fans_on_top_objects.extend(fan_structure.generate_nonlinear_fan_on_top(fans[z], 1, 2, 40, 3)[1])\n",
    "        i += 4\n",
    "    \n",
    "    # for i in range(3):\n",
    "    #     fan_structure_list[0] += fans_on_top[i]\n",
    "\n",
    "\n",
    "    scene_planar = td.Scene(\n",
    "        structures= [planar_vac]  + [planar_bottom_layer] + fan_structure_list[0]  + [planar_top_layer]  + [planar_vac2],\n",
    "        medium=background_medium,\n",
    "    )\n",
    "    # simulation domain parameter\n",
    "    heat_sim_planar = td.HeatSimulation(\n",
    "        center=(r1/2, r1/2, 4),\n",
    "        size=(r1 + 0.1, r1 + 0.1, 24.5),\n",
    "        medium=scene_planar.medium,\n",
    "        structures= scene_planar.structures,\n",
    "        boundary_spec=[bc_side, bc_vac],\n",
    "        sources=[source_top],\n",
    "        grid_spec=td.UniformUnstructuredGrid(dl = 0.5),\n",
    "        #grid_spec=td.DistanceUnstructuredGrid(dl_interface=0.05, distance_interface=0.2, dl_bulk=0.25, distance_bulk=0.5),\n",
    "        monitors=[temp_mnt, temp_mnt_ugrid],\n",
    "        symmetry=(0, 0, 0)\n",
    "    )\n",
    "    return heat_sim_planar"
   ]
  },
  {
   "cell_type": "code",
   "execution_count": 4,
   "metadata": {},
   "outputs": [
    {
     "data": {
      "image/png": "[encoded data removed]",
      "text/plain": [
       "<Figure size 640x480 with 1 Axes>"
      ]
     },
     "metadata": {},
     "output_type": "display_data"
    }
   ],
   "source": [
    "solution = custom_initial_population_petal(1, 4)\n",
    "sim = make_sim_petal(solution[0])\n",
    "sim.plot(z=0.4)\n",
    "plt.show()\n"
   ]
  },
  {
   "cell_type": "code",
   "execution_count": 9,
   "metadata": {},
   "outputs": [],
   "source": [
    "alpha = 1\n",
    "\n",
    "\n",
    "def fitness_function(ga_instance, solution_array, solution_indices):\n",
    "    center_x, center_y = 31, 31  \n",
    "    inner_half_width = 5  \n",
    "    outer_half_width = 10  \n",
    "    z_plane = 0.4  \n",
    "\n",
    "    sims = {}\n",
    "    fitness = []\n",
    "    solution_array = np.array(solution_array)\n",
    "\n",
    "    # 1. Create simulations\n",
    "    for i, sol in enumerate(solution_array):\n",
    "        sim = make_sim_petal(sol)\n",
    "        sims[f\"sim_{i}\"] = sim\n",
    "\n",
    "    # 2. Submit as batch\n",
    "    batch = web.Batch(simulations=sims, verbose=False)\n",
    "    batch_results = batch.run(path_dir=\"data\")\n",
    "    print(\"Batch submitted.\")\n",
    "\n",
    "    # 3. Load and process each simulation individually\n",
    "    for task_name, task_id in batch_results.task_ids.items():\n",
    "        print(f\"Loading task {task_name} (ID: {task_id})...\")\n",
    "\n",
    "        # Load simulation data directly via task_id\n",
    "        sim_data = web.load(task_id, verbose=False)\n",
    "        temperature_data = sim_data[\"temperature\"].temperature\n",
    "\n",
    "       \n",
    "        x_coords = sim_data[\"temperature\"].temperature.coords[\"x\"]\n",
    "        y_coords = sim_data[\"temperature\"].temperature.coords[\"y\"]\n",
    "        z_coords = sim_data[\"temperature\"].temperature.coords[\"z\"]\n",
    "        z_plane = 0.4\n",
    "        \n",
    "        z_idx = np.abs(z_coords - z_plane).argmin()\n",
    "        temperature_slice = temperature_data.isel(z=z_idx)  # Safely slices along z\n",
    "        \n",
    "\n",
    "        x_grid, y_grid = np.meshgrid(x_coords, y_coords, indexing=\"ij\")\n",
    "\n",
    "        in_outer = (np.abs(x_grid - center_x) <= outer_half_width) & \\\n",
    "                (np.abs(y_grid - center_y) <= outer_half_width)\n",
    "\n",
    "        out_inner = (np.abs(x_grid - center_x) > inner_half_width) | \\\n",
    "                    (np.abs(y_grid - center_y) > inner_half_width)\n",
    "\n",
    "        ring_mask = in_outer & out_inner\n",
    "\n",
    "        temps = temperature_slice.values[ring_mask]\n",
    "        avg_temp = np.mean(temps)\n",
    "        var_temp = np.var(temps)\n",
    "\n",
    "        if avg_temp >= desired_temperature:\n",
    "            score = (avg_temp - desired_temperature + 1e-6) / (var_temp + 1e-6)\n",
    "        else:\n",
    "            score = 1 / (desired_temperature - avg_temp + var_temp + 1e-6)\n",
    "\n",
    "        fitness.append(score)\n",
    "        print(f\"Task {task_name} fitness: {score}\")\n",
    "\n",
    "    return fitness\n"
   ]
  },
  {
   "cell_type": "code",
   "execution_count": 5,
   "metadata": {},
   "outputs": [],
   "source": [
    "def on_gen(ga_instance):\n",
    "    best_fitness = ga_instance.best_solution(ga_instance.last_generation_fitness)[1]\n",
    "    generation = ga_instance.generations_completed\n",
    "    print(f\"Generation:{generation}: Best Fitness = {best_fitness:.3f}\")\n",
    "    time.sleep(3)"
   ]
  },
  {
   "cell_type": "code",
   "execution_count": 7,
   "metadata": {},
   "outputs": [],
   "source": [
    "def custom_uniform_crossover(parents, offspring_size, ga_instance):\n",
    "    \"\"\"\n",
    "    Custom uniform crossover to generate offspring with a customizable gene selection probability.\n",
    "\n",
    "    Args:\n",
    "        parents (numpy.ndarray): A 2D array where each row represents a parent solution.\n",
    "        offspring_size (tuple): A tuple specifying the size of the offspring (rows, columns).\n",
    "        ga_instance: The GA instance calling this function (not used here directly).\n",
    "\n",
    "    Returns:\n",
    "        numpy.ndarray: A 2D array containing the offspring population.\n",
    "    \"\"\"\n",
    "    offspring = np.empty(offspring_size)\n",
    "    gene_selection_probability = 0.5  # Probability of selecting a gene from Parent 1\n",
    "\n",
    "    # Iterate through each offspring\n",
    "    for k in range(offspring_size[0]):  # Loop over number of offspring\n",
    "        # Select two parents\n",
    "        parent1_idx = k % parents.shape[0]\n",
    "        parent2_idx = (k + 1) % parents.shape[0]\n",
    "        valid_offspring = False\n",
    "        \n",
    "        while not valid_offspring:\n",
    "\n",
    "            # Generate a random binary mask for each gene based on the selection probability\n",
    "            mask = np.random.rand(offspring_size[1]) < gene_selection_probability\n",
    "            child = np.where(mask, parents[parent1_idx, :], parents[parent2_idx, :])\n",
    "            if not check_boundaries_petal(child):\n",
    "                valid_offspring = True\n",
    "                offspring[k, :] = child\n",
    "\n",
    "            \n",
    "\n",
    "    \n",
    "\n",
    "    return offspring"
   ]
  },
  {
   "cell_type": "code",
   "execution_count": 11,
   "metadata": {},
   "outputs": [
    {
     "name": "stderr",
     "output_type": "stream",
     "text": [
      "c:\\Users\\A\\tidy3d\\.conda\\Lib\\site-packages\\pygad\\pygad.py:1139: UserWarning: The 'delay_after_gen' parameter is deprecated starting from PyGAD 3.3.0. To delay or pause the evolution after each generation, assign a callback function/method to the 'on_generation' parameter to adds some time delay.\n",
      "  warnings.warn(\"The 'delay_after_gen' parameter is deprecated starting from PyGAD 3.3.0. To delay or pause the evolution after each generation, assign a callback function/method to the 'on_generation' parameter to adds some time delay.\")\n"
     ]
    },
    {
     "data": {
      "text/html": [
       "<pre style=\"white-space:pre;overflow-x:auto;line-height:normal;font-family:Menlo,'DejaVu Sans Mono',consolas,'Courier New',monospace\"><span style=\"color: #7fbfbf; text-decoration-color: #7fbfbf\">08:54:39 GMT 夏令时 </span><span style=\"color: #800000; text-decoration-color: #800000\">WARNING: No connection: Retrying for </span><span style=\"color: #008080; text-decoration-color: #008080; font-weight: bold\">180</span><span style=\"color: #800000; text-decoration-color: #800000\"> seconds.           </span>\n",
       "</pre>\n"
      ],
      "text/plain": [
       "\u001b[2;36m08:54:39 GMT 夏令时\u001b[0m\u001b[2;36m \u001b[0m\u001b[31mWARNING: No connection: Retrying for \u001b[0m\u001b[1;36m180\u001b[0m\u001b[31m seconds.           \u001b[0m\n"
      ]
     },
     "metadata": {},
     "output_type": "display_data"
    },
    {
     "data": {
      "text/html": [
       "<pre style=\"white-space:pre;overflow-x:auto;line-height:normal;font-family:Menlo,'DejaVu Sans Mono',consolas,'Courier New',monospace\"><span style=\"color: #7fbfbf; text-decoration-color: #7fbfbf\">                 </span><span style=\"color: #800000; text-decoration-color: #800000\">WARNING: No connection: Retrying for </span><span style=\"color: #008080; text-decoration-color: #008080; font-weight: bold\">180</span><span style=\"color: #800000; text-decoration-color: #800000\"> seconds.              </span>\n",
       "</pre>\n"
      ],
      "text/plain": [
       "\u001b[2;36m                \u001b[0m\u001b[2;36m \u001b[0m\u001b[31mWARNING: No connection: Retrying for \u001b[0m\u001b[1;36m180\u001b[0m\u001b[31m seconds.              \u001b[0m\n"
      ]
     },
     "metadata": {},
     "output_type": "display_data"
    },
    {
     "data": {
      "text/html": [
       "<pre style=\"white-space:pre;overflow-x:auto;line-height:normal;font-family:Menlo,'DejaVu Sans Mono',consolas,'Courier New',monospace\"><span style=\"color: #7fbfbf; text-decoration-color: #7fbfbf\">08:54:44 GMT 夏令时 </span><span style=\"color: #800000; text-decoration-color: #800000\">WARNING: No connection: Retrying for </span><span style=\"color: #008080; text-decoration-color: #008080; font-weight: bold\">180</span><span style=\"color: #800000; text-decoration-color: #800000\"> seconds.           </span>\n",
       "</pre>\n"
      ],
      "text/plain": [
       "\u001b[2;36m08:54:44 GMT 夏令时\u001b[0m\u001b[2;36m \u001b[0m\u001b[31mWARNING: No connection: Retrying for \u001b[0m\u001b[1;36m180\u001b[0m\u001b[31m seconds.           \u001b[0m\n"
      ]
     },
     "metadata": {},
     "output_type": "display_data"
    },
    {
     "data": {
      "text/html": [
       "<pre style=\"white-space:pre;overflow-x:auto;line-height:normal;font-family:Menlo,'DejaVu Sans Mono',consolas,'Courier New',monospace\"><span style=\"color: #7fbfbf; text-decoration-color: #7fbfbf\">08:54:45 GMT 夏令时 </span><span style=\"color: #800000; text-decoration-color: #800000\">WARNING: No connection: Retrying for </span><span style=\"color: #008080; text-decoration-color: #008080; font-weight: bold\">180</span><span style=\"color: #800000; text-decoration-color: #800000\"> seconds.           </span>\n",
       "</pre>\n"
      ],
      "text/plain": [
       "\u001b[2;36m08:54:45 GMT 夏令时\u001b[0m\u001b[2;36m \u001b[0m\u001b[31mWARNING: No connection: Retrying for \u001b[0m\u001b[1;36m180\u001b[0m\u001b[31m seconds.           \u001b[0m\n"
      ]
     },
     "metadata": {},
     "output_type": "display_data"
    },
    {
     "data": {
      "text/html": [
       "<pre style=\"white-space:pre;overflow-x:auto;line-height:normal;font-family:Menlo,'DejaVu Sans Mono',consolas,'Courier New',monospace\"><span style=\"color: #7fbfbf; text-decoration-color: #7fbfbf\">08:54:46 GMT 夏令时 </span><span style=\"color: #800000; text-decoration-color: #800000\">WARNING: No connection: Retrying for </span><span style=\"color: #008080; text-decoration-color: #008080; font-weight: bold\">180</span><span style=\"color: #800000; text-decoration-color: #800000\"> seconds.           </span>\n",
       "</pre>\n"
      ],
      "text/plain": [
       "\u001b[2;36m08:54:46 GMT 夏令时\u001b[0m\u001b[2;36m \u001b[0m\u001b[31mWARNING: No connection: Retrying for \u001b[0m\u001b[1;36m180\u001b[0m\u001b[31m seconds.           \u001b[0m\n"
      ]
     },
     "metadata": {},
     "output_type": "display_data"
    },
    {
     "data": {
      "text/html": [
       "<pre style=\"white-space:pre;overflow-x:auto;line-height:normal;font-family:Menlo,'DejaVu Sans Mono',consolas,'Courier New',monospace\"><span style=\"color: #7fbfbf; text-decoration-color: #7fbfbf\">                 </span><span style=\"color: #800000; text-decoration-color: #800000\">WARNING: No connection: Retrying for </span><span style=\"color: #008080; text-decoration-color: #008080; font-weight: bold\">180</span><span style=\"color: #800000; text-decoration-color: #800000\"> seconds.              </span>\n",
       "</pre>\n"
      ],
      "text/plain": [
       "\u001b[2;36m                \u001b[0m\u001b[2;36m \u001b[0m\u001b[31mWARNING: No connection: Retrying for \u001b[0m\u001b[1;36m180\u001b[0m\u001b[31m seconds.              \u001b[0m\n"
      ]
     },
     "metadata": {},
     "output_type": "display_data"
    },
    {
     "data": {
      "text/html": [
       "<pre style=\"white-space:pre;overflow-x:auto;line-height:normal;font-family:Menlo,'DejaVu Sans Mono',consolas,'Courier New',monospace\"><span style=\"color: #7fbfbf; text-decoration-color: #7fbfbf\">08:54:48 GMT 夏令时 </span><span style=\"color: #800000; text-decoration-color: #800000\">WARNING: No connection: Retrying for </span><span style=\"color: #008080; text-decoration-color: #008080; font-weight: bold\">180</span><span style=\"color: #800000; text-decoration-color: #800000\"> seconds.           </span>\n",
       "</pre>\n"
      ],
      "text/plain": [
       "\u001b[2;36m08:54:48 GMT 夏令时\u001b[0m\u001b[2;36m \u001b[0m\u001b[31mWARNING: No connection: Retrying for \u001b[0m\u001b[1;36m180\u001b[0m\u001b[31m seconds.           \u001b[0m\n"
      ]
     },
     "metadata": {},
     "output_type": "display_data"
    },
    {
     "data": {
      "text/html": [
       "<pre style=\"white-space:pre;overflow-x:auto;line-height:normal;font-family:Menlo,'DejaVu Sans Mono',consolas,'Courier New',monospace\"><span style=\"color: #7fbfbf; text-decoration-color: #7fbfbf\">                 </span><span style=\"color: #800000; text-decoration-color: #800000\">WARNING: No connection: Retrying for </span><span style=\"color: #008080; text-decoration-color: #008080; font-weight: bold\">180</span><span style=\"color: #800000; text-decoration-color: #800000\"> seconds.              </span>\n",
       "</pre>\n"
      ],
      "text/plain": [
       "\u001b[2;36m                \u001b[0m\u001b[2;36m \u001b[0m\u001b[31mWARNING: No connection: Retrying for \u001b[0m\u001b[1;36m180\u001b[0m\u001b[31m seconds.              \u001b[0m\n"
      ]
     },
     "metadata": {},
     "output_type": "display_data"
    },
    {
     "data": {
      "text/html": [
       "<pre style=\"white-space:pre;overflow-x:auto;line-height:normal;font-family:Menlo,'DejaVu Sans Mono',consolas,'Courier New',monospace\"><span style=\"color: #7fbfbf; text-decoration-color: #7fbfbf\">08:54:51 GMT 夏令时 </span><span style=\"color: #800000; text-decoration-color: #800000\">WARNING: No connection: Retrying for </span><span style=\"color: #008080; text-decoration-color: #008080; font-weight: bold\">180</span><span style=\"color: #800000; text-decoration-color: #800000\"> seconds.           </span>\n",
       "</pre>\n"
      ],
      "text/plain": [
       "\u001b[2;36m08:54:51 GMT 夏令时\u001b[0m\u001b[2;36m \u001b[0m\u001b[31mWARNING: No connection: Retrying for \u001b[0m\u001b[1;36m180\u001b[0m\u001b[31m seconds.           \u001b[0m\n"
      ]
     },
     "metadata": {},
     "output_type": "display_data"
    },
    {
     "data": {
      "text/html": [
       "<pre style=\"white-space:pre;overflow-x:auto;line-height:normal;font-family:Menlo,'DejaVu Sans Mono',consolas,'Courier New',monospace\"><span style=\"color: #7fbfbf; text-decoration-color: #7fbfbf\">08:54:57 GMT 夏令时 </span><span style=\"color: #800000; text-decoration-color: #800000\">WARNING: No connection: Retrying for </span><span style=\"color: #008080; text-decoration-color: #008080; font-weight: bold\">180</span><span style=\"color: #800000; text-decoration-color: #800000\"> seconds.           </span>\n",
       "</pre>\n"
      ],
      "text/plain": [
       "\u001b[2;36m08:54:57 GMT 夏令时\u001b[0m\u001b[2;36m \u001b[0m\u001b[31mWARNING: No connection: Retrying for \u001b[0m\u001b[1;36m180\u001b[0m\u001b[31m seconds.           \u001b[0m\n"
      ]
     },
     "metadata": {},
     "output_type": "display_data"
    },
    {
     "data": {
      "text/html": [
       "<pre style=\"white-space:pre;overflow-x:auto;line-height:normal;font-family:Menlo,'DejaVu Sans Mono',consolas,'Courier New',monospace\"><span style=\"color: #7fbfbf; text-decoration-color: #7fbfbf\">08:57:34 GMT 夏令时 </span><span style=\"color: #800000; text-decoration-color: #800000\">WARNING: No connection: Retrying for </span><span style=\"color: #008080; text-decoration-color: #008080; font-weight: bold\">180</span><span style=\"color: #800000; text-decoration-color: #800000\"> seconds.           </span>\n",
       "</pre>\n"
      ],
      "text/plain": [
       "\u001b[2;36m08:57:34 GMT 夏令时\u001b[0m\u001b[2;36m \u001b[0m\u001b[31mWARNING: No connection: Retrying for \u001b[0m\u001b[1;36m180\u001b[0m\u001b[31m seconds.           \u001b[0m\n"
      ]
     },
     "metadata": {},
     "output_type": "display_data"
    },
    {
     "data": {
      "text/html": [
       "<pre style=\"white-space:pre;overflow-x:auto;line-height:normal;font-family:Menlo,'DejaVu Sans Mono',consolas,'Courier New',monospace\"><span style=\"color: #7fbfbf; text-decoration-color: #7fbfbf\">                 </span><span style=\"color: #800000; text-decoration-color: #800000\">WARNING: No connection: Retrying for </span><span style=\"color: #008080; text-decoration-color: #008080; font-weight: bold\">180</span><span style=\"color: #800000; text-decoration-color: #800000\"> seconds.              </span>\n",
       "</pre>\n"
      ],
      "text/plain": [
       "\u001b[2;36m                \u001b[0m\u001b[2;36m \u001b[0m\u001b[31mWARNING: No connection: Retrying for \u001b[0m\u001b[1;36m180\u001b[0m\u001b[31m seconds.              \u001b[0m\n"
      ]
     },
     "metadata": {},
     "output_type": "display_data"
    },
    {
     "data": {
      "text/html": [
       "<pre style=\"white-space:pre;overflow-x:auto;line-height:normal;font-family:Menlo,'DejaVu Sans Mono',consolas,'Courier New',monospace\"><span style=\"color: #7fbfbf; text-decoration-color: #7fbfbf\">08:57:37 GMT 夏令时 </span><span style=\"color: #800000; text-decoration-color: #800000\">WARNING: No connection: Retrying for </span><span style=\"color: #008080; text-decoration-color: #008080; font-weight: bold\">180</span><span style=\"color: #800000; text-decoration-color: #800000\"> seconds.           </span>\n",
       "</pre>\n"
      ],
      "text/plain": [
       "\u001b[2;36m08:57:37 GMT 夏令时\u001b[0m\u001b[2;36m \u001b[0m\u001b[31mWARNING: No connection: Retrying for \u001b[0m\u001b[1;36m180\u001b[0m\u001b[31m seconds.           \u001b[0m\n"
      ]
     },
     "metadata": {},
     "output_type": "display_data"
    },
    {
     "data": {
      "text/html": [
       "<pre style=\"white-space:pre;overflow-x:auto;line-height:normal;font-family:Menlo,'DejaVu Sans Mono',consolas,'Courier New',monospace\"><span style=\"color: #7fbfbf; text-decoration-color: #7fbfbf\">08:57:38 GMT 夏令时 </span><span style=\"color: #800000; text-decoration-color: #800000\">WARNING: No connection: Retrying for </span><span style=\"color: #008080; text-decoration-color: #008080; font-weight: bold\">180</span><span style=\"color: #800000; text-decoration-color: #800000\"> seconds.           </span>\n",
       "</pre>\n"
      ],
      "text/plain": [
       "\u001b[2;36m08:57:38 GMT 夏令时\u001b[0m\u001b[2;36m \u001b[0m\u001b[31mWARNING: No connection: Retrying for \u001b[0m\u001b[1;36m180\u001b[0m\u001b[31m seconds.           \u001b[0m\n"
      ]
     },
     "metadata": {},
     "output_type": "display_data"
    },
    {
     "data": {
      "text/html": [
       "<pre style=\"white-space:pre;overflow-x:auto;line-height:normal;font-family:Menlo,'DejaVu Sans Mono',consolas,'Courier New',monospace\"><span style=\"color: #7fbfbf; text-decoration-color: #7fbfbf\">08:57:39 GMT 夏令时 </span><span style=\"color: #800000; text-decoration-color: #800000\">WARNING: No connection: Retrying for </span><span style=\"color: #008080; text-decoration-color: #008080; font-weight: bold\">180</span><span style=\"color: #800000; text-decoration-color: #800000\"> seconds.           </span>\n",
       "</pre>\n"
      ],
      "text/plain": [
       "\u001b[2;36m08:57:39 GMT 夏令时\u001b[0m\u001b[2;36m \u001b[0m\u001b[31mWARNING: No connection: Retrying for \u001b[0m\u001b[1;36m180\u001b[0m\u001b[31m seconds.           \u001b[0m\n"
      ]
     },
     "metadata": {},
     "output_type": "display_data"
    },
    {
     "data": {
      "text/html": [
       "<pre style=\"white-space:pre;overflow-x:auto;line-height:normal;font-family:Menlo,'DejaVu Sans Mono',consolas,'Courier New',monospace\"><span style=\"color: #7fbfbf; text-decoration-color: #7fbfbf\">                 </span><span style=\"color: #800000; text-decoration-color: #800000\">WARNING: No connection: Retrying for </span><span style=\"color: #008080; text-decoration-color: #008080; font-weight: bold\">180</span><span style=\"color: #800000; text-decoration-color: #800000\"> seconds.              </span>\n",
       "</pre>\n"
      ],
      "text/plain": [
       "\u001b[2;36m                \u001b[0m\u001b[2;36m \u001b[0m\u001b[31mWARNING: No connection: Retrying for \u001b[0m\u001b[1;36m180\u001b[0m\u001b[31m seconds.              \u001b[0m\n"
      ]
     },
     "metadata": {},
     "output_type": "display_data"
    },
    {
     "data": {
      "text/html": [
       "<pre style=\"white-space:pre;overflow-x:auto;line-height:normal;font-family:Menlo,'DejaVu Sans Mono',consolas,'Courier New',monospace\"><span style=\"color: #7fbfbf; text-decoration-color: #7fbfbf\">                 </span><span style=\"color: #800000; text-decoration-color: #800000\">WARNING: No connection: Retrying for </span><span style=\"color: #008080; text-decoration-color: #008080; font-weight: bold\">180</span><span style=\"color: #800000; text-decoration-color: #800000\"> seconds.              </span>\n",
       "</pre>\n"
      ],
      "text/plain": [
       "\u001b[2;36m                \u001b[0m\u001b[2;36m \u001b[0m\u001b[31mWARNING: No connection: Retrying for \u001b[0m\u001b[1;36m180\u001b[0m\u001b[31m seconds.              \u001b[0m\n"
      ]
     },
     "metadata": {},
     "output_type": "display_data"
    },
    {
     "data": {
      "text/html": [
       "<pre style=\"white-space:pre;overflow-x:auto;line-height:normal;font-family:Menlo,'DejaVu Sans Mono',consolas,'Courier New',monospace\"><span style=\"color: #7fbfbf; text-decoration-color: #7fbfbf\">08:57:41 GMT 夏令时 </span><span style=\"color: #800000; text-decoration-color: #800000\">WARNING: No connection: Retrying for </span><span style=\"color: #008080; text-decoration-color: #008080; font-weight: bold\">180</span><span style=\"color: #800000; text-decoration-color: #800000\"> seconds.           </span>\n",
       "</pre>\n"
      ],
      "text/plain": [
       "\u001b[2;36m08:57:41 GMT 夏令时\u001b[0m\u001b[2;36m \u001b[0m\u001b[31mWARNING: No connection: Retrying for \u001b[0m\u001b[1;36m180\u001b[0m\u001b[31m seconds.           \u001b[0m\n"
      ]
     },
     "metadata": {},
     "output_type": "display_data"
    },
    {
     "data": {
      "text/html": [
       "<pre style=\"white-space:pre;overflow-x:auto;line-height:normal;font-family:Menlo,'DejaVu Sans Mono',consolas,'Courier New',monospace\"><span style=\"color: #7fbfbf; text-decoration-color: #7fbfbf\">08:57:42 GMT 夏令时 </span><span style=\"color: #800000; text-decoration-color: #800000\">WARNING: No connection: Retrying for </span><span style=\"color: #008080; text-decoration-color: #008080; font-weight: bold\">180</span><span style=\"color: #800000; text-decoration-color: #800000\"> seconds.           </span>\n",
       "</pre>\n"
      ],
      "text/plain": [
       "\u001b[2;36m08:57:42 GMT 夏令时\u001b[0m\u001b[2;36m \u001b[0m\u001b[31mWARNING: No connection: Retrying for \u001b[0m\u001b[1;36m180\u001b[0m\u001b[31m seconds.           \u001b[0m\n"
      ]
     },
     "metadata": {},
     "output_type": "display_data"
    },
    {
     "data": {
      "text/html": [
       "<pre style=\"white-space:pre;overflow-x:auto;line-height:normal;font-family:Menlo,'DejaVu Sans Mono',consolas,'Courier New',monospace\"><span style=\"color: #7fbfbf; text-decoration-color: #7fbfbf\">08:57:43 GMT 夏令时 </span><span style=\"color: #800000; text-decoration-color: #800000\">WARNING: No connection: Retrying for </span><span style=\"color: #008080; text-decoration-color: #008080; font-weight: bold\">180</span><span style=\"color: #800000; text-decoration-color: #800000\"> seconds.           </span>\n",
       "</pre>\n"
      ],
      "text/plain": [
       "\u001b[2;36m08:57:43 GMT 夏令时\u001b[0m\u001b[2;36m \u001b[0m\u001b[31mWARNING: No connection: Retrying for \u001b[0m\u001b[1;36m180\u001b[0m\u001b[31m seconds.           \u001b[0m\n"
      ]
     },
     "metadata": {},
     "output_type": "display_data"
    },
    {
     "data": {
      "text/html": [
       "<pre style=\"white-space:pre;overflow-x:auto;line-height:normal;font-family:Menlo,'DejaVu Sans Mono',consolas,'Courier New',monospace\"><span style=\"color: #7fbfbf; text-decoration-color: #7fbfbf\">09:00:54 GMT 夏令时 </span><span style=\"color: #800000; text-decoration-color: #800000\">WARNING: No connection: Retrying for </span><span style=\"color: #008080; text-decoration-color: #008080; font-weight: bold\">180</span><span style=\"color: #800000; text-decoration-color: #800000\"> seconds.           </span>\n",
       "</pre>\n"
      ],
      "text/plain": [
       "\u001b[2;36m09:00:54 GMT 夏令时\u001b[0m\u001b[2;36m \u001b[0m\u001b[31mWARNING: No connection: Retrying for \u001b[0m\u001b[1;36m180\u001b[0m\u001b[31m seconds.           \u001b[0m\n"
      ]
     },
     "metadata": {},
     "output_type": "display_data"
    },
    {
     "name": "stdout",
     "output_type": "stream",
     "text": [
      "Batch submitted.\n",
      "Loading task sim_0 (ID: he-339a9898-05b9-418b-8493-036defd2806e)...\n",
      "Task sim_0 fitness: 0.08403058431685248\n",
      "Loading task sim_1 (ID: he-73c3fe78-be0d-4e56-a09a-667e0663f88f)...\n",
      "Task sim_1 fitness: 0.1411401673942702\n",
      "Loading task sim_2 (ID: he-e7140f60-488a-44f4-9a3e-4a3ff795a490)...\n",
      "Task sim_2 fitness: 0.16170447769761642\n",
      "Loading task sim_3 (ID: he-b3aa7563-b22a-44c9-89e8-4b64c456d44e)...\n",
      "Task sim_3 fitness: 0.12072215809138309\n",
      "Loading task sim_4 (ID: he-bdfa6647-8c43-4f81-b238-95550fd57bf5)...\n",
      "Task sim_4 fitness: 0.06754448122731471\n",
      "Loading task sim_5 (ID: he-37a28be0-efec-44bb-8980-07814d12a222)...\n",
      "Task sim_5 fitness: 0.16179108457365754\n",
      "Loading task sim_6 (ID: he-12ee6280-d234-4fb0-94b6-74f2333789a7)...\n",
      "Task sim_6 fitness: 0.08854628125447844\n",
      "Loading task sim_7 (ID: he-4f35038b-d9dd-4367-b555-f7694d3f0735)...\n",
      "Task sim_7 fitness: 0.010388162687100404\n",
      "Loading task sim_8 (ID: he-1ef0254c-0b17-4e1c-bc46-6f3eba1953ac)...\n",
      "Task sim_8 fitness: 0.18261919140988905\n",
      "Loading task sim_9 (ID: he-fb6436c7-80c6-4368-8d9e-2b1f6e33204a)...\n",
      "Task sim_9 fitness: 0.30976516868558995\n",
      "Loading task sim_10 (ID: he-1e482127-0162-4be5-91f7-fb4193d34db4)...\n",
      "Task sim_10 fitness: 0.009260003596437635\n",
      "Loading task sim_11 (ID: he-77100ebb-e534-435c-8925-bcf742dfd49b)...\n",
      "Task sim_11 fitness: 0.0385561388678385\n",
      "Loading task sim_12 (ID: he-d5f5c606-66e6-4941-a4c4-b8a5bd652df2)...\n",
      "Task sim_12 fitness: 0.08075475935682991\n",
      "Loading task sim_13 (ID: he-8c51cea6-29fe-43b5-9d8c-aa6400e65464)...\n",
      "Task sim_13 fitness: 0.05732107912209973\n",
      "Loading task sim_14 (ID: he-54f5bbd5-ca50-4948-bd1d-2ac0e5532e0f)...\n",
      "Task sim_14 fitness: 0.07432324547794941\n",
      "Loading task sim_15 (ID: he-e7e2070a-60ce-493e-ad33-48ab692ca821)...\n",
      "Task sim_15 fitness: 0.16470824608705717\n",
      "Loading task sim_16 (ID: he-a6f8be23-d39f-47fe-86b6-4d70264bc6ca)...\n",
      "Task sim_16 fitness: 0.07649259170381123\n",
      "Loading task sim_17 (ID: he-72ce4641-e8ce-499c-9dd1-c1f54e3098c4)...\n",
      "Task sim_17 fitness: 0.06634267571103653\n",
      "Loading task sim_18 (ID: he-9da0a30a-e4b6-4e3c-893b-2bbf12f1f57a)...\n",
      "Task sim_18 fitness: 0.057654382981209965\n",
      "Loading task sim_19 (ID: he-4d1752f7-214b-44a4-b6f9-f56025d725aa)...\n",
      "Task sim_19 fitness: 0.07620667771612664\n",
      "Loading task sim_20 (ID: he-2b5953d2-10db-48af-9b7a-0bd948520226)...\n",
      "Task sim_20 fitness: 0.29233552697790854\n",
      "Loading task sim_21 (ID: he-6cb005bf-e02a-45ed-b5d1-28181d965927)...\n",
      "Task sim_21 fitness: 0.045995140414921816\n",
      "Loading task sim_22 (ID: he-7fc028fe-dce4-4630-bad5-7fb832868864)...\n",
      "Task sim_22 fitness: 0.24776429502001532\n",
      "Loading task sim_23 (ID: he-8034babb-96c0-4da3-8f7a-dd5e52bf2763)...\n",
      "Task sim_23 fitness: 0.0059374015814607\n",
      "Loading task sim_24 (ID: he-738e73f3-a743-4a67-aeef-a937518e8ffb)...\n",
      "Task sim_24 fitness: 0.0007914822417769489\n",
      "Loading task sim_25 (ID: he-cf57ebfa-ee09-4438-9ea3-b33761c66676)...\n",
      "Task sim_25 fitness: 0.06244663959202751\n",
      "Loading task sim_26 (ID: he-b584e116-d567-4828-802e-b8fbd69022a9)...\n",
      "Task sim_26 fitness: 0.03283101494476568\n",
      "Loading task sim_27 (ID: he-b5c4d178-ef24-4a13-8859-99a45cd9dedc)...\n",
      "Task sim_27 fitness: 0.2896785666566789\n",
      "Loading task sim_28 (ID: he-6f86d719-1570-4e7a-8d5e-75787392a811)...\n",
      "Task sim_28 fitness: 0.12708094445390838\n",
      "Loading task sim_29 (ID: he-4cc2cc55-2f05-41c2-9cb6-3ef57ae4f5ea)...\n",
      "Task sim_29 fitness: 0.13087521456145512\n"
     ]
    },
    {
     "data": {
      "text/html": [
       "<pre style=\"white-space:pre;overflow-x:auto;line-height:normal;font-family:Menlo,'DejaVu Sans Mono',consolas,'Courier New',monospace\"><span style=\"color: #7fbfbf; text-decoration-color: #7fbfbf\">11:19:12 GMT 夏令时 </span><span style=\"color: #800000; text-decoration-color: #800000\">WARNING: No connection: Retrying for </span><span style=\"color: #008080; text-decoration-color: #008080; font-weight: bold\">180</span><span style=\"color: #800000; text-decoration-color: #800000\"> seconds.           </span>\n",
       "</pre>\n"
      ],
      "text/plain": [
       "\u001b[2;36m11:19:12 GMT 夏令时\u001b[0m\u001b[2;36m \u001b[0m\u001b[31mWARNING: No connection: Retrying for \u001b[0m\u001b[1;36m180\u001b[0m\u001b[31m seconds.           \u001b[0m\n"
      ]
     },
     "metadata": {},
     "output_type": "display_data"
    },
    {
     "data": {
      "text/html": [
       "<pre style=\"white-space:pre;overflow-x:auto;line-height:normal;font-family:Menlo,'DejaVu Sans Mono',consolas,'Courier New',monospace\"><span style=\"color: #7fbfbf; text-decoration-color: #7fbfbf\">11:19:13 GMT 夏令时 </span><span style=\"color: #800000; text-decoration-color: #800000\">WARNING: No connection: Retrying for </span><span style=\"color: #008080; text-decoration-color: #008080; font-weight: bold\">180</span><span style=\"color: #800000; text-decoration-color: #800000\"> seconds.           </span>\n",
       "</pre>\n"
      ],
      "text/plain": [
       "\u001b[2;36m11:19:13 GMT 夏令时\u001b[0m\u001b[2;36m \u001b[0m\u001b[31mWARNING: No connection: Retrying for \u001b[0m\u001b[1;36m180\u001b[0m\u001b[31m seconds.           \u001b[0m\n"
      ]
     },
     "metadata": {},
     "output_type": "display_data"
    },
    {
     "data": {
      "text/html": [
       "<pre style=\"white-space:pre;overflow-x:auto;line-height:normal;font-family:Menlo,'DejaVu Sans Mono',consolas,'Courier New',monospace\"><span style=\"color: #7fbfbf; text-decoration-color: #7fbfbf\">11:19:14 GMT 夏令时 </span><span style=\"color: #800000; text-decoration-color: #800000\">WARNING: No connection: Retrying for </span><span style=\"color: #008080; text-decoration-color: #008080; font-weight: bold\">180</span><span style=\"color: #800000; text-decoration-color: #800000\"> seconds.           </span>\n",
       "</pre>\n"
      ],
      "text/plain": [
       "\u001b[2;36m11:19:14 GMT 夏令时\u001b[0m\u001b[2;36m \u001b[0m\u001b[31mWARNING: No connection: Retrying for \u001b[0m\u001b[1;36m180\u001b[0m\u001b[31m seconds.           \u001b[0m\n"
      ]
     },
     "metadata": {},
     "output_type": "display_data"
    },
    {
     "data": {
      "text/html": [
       "<pre style=\"white-space:pre;overflow-x:auto;line-height:normal;font-family:Menlo,'DejaVu Sans Mono',consolas,'Courier New',monospace\"><span style=\"color: #7fbfbf; text-decoration-color: #7fbfbf\">11:19:15 GMT 夏令时 </span><span style=\"color: #800000; text-decoration-color: #800000\">WARNING: No connection: Retrying for </span><span style=\"color: #008080; text-decoration-color: #008080; font-weight: bold\">180</span><span style=\"color: #800000; text-decoration-color: #800000\"> seconds.           </span>\n",
       "</pre>\n"
      ],
      "text/plain": [
       "\u001b[2;36m11:19:15 GMT 夏令时\u001b[0m\u001b[2;36m \u001b[0m\u001b[31mWARNING: No connection: Retrying for \u001b[0m\u001b[1;36m180\u001b[0m\u001b[31m seconds.           \u001b[0m\n"
      ]
     },
     "metadata": {},
     "output_type": "display_data"
    },
    {
     "data": {
      "text/html": [
       "<pre style=\"white-space:pre;overflow-x:auto;line-height:normal;font-family:Menlo,'DejaVu Sans Mono',consolas,'Courier New',monospace\"><span style=\"color: #7fbfbf; text-decoration-color: #7fbfbf\">11:19:17 GMT 夏令时 </span><span style=\"color: #800000; text-decoration-color: #800000\">WARNING: No connection: Retrying for </span><span style=\"color: #008080; text-decoration-color: #008080; font-weight: bold\">180</span><span style=\"color: #800000; text-decoration-color: #800000\"> seconds.           </span>\n",
       "</pre>\n"
      ],
      "text/plain": [
       "\u001b[2;36m11:19:17 GMT 夏令时\u001b[0m\u001b[2;36m \u001b[0m\u001b[31mWARNING: No connection: Retrying for \u001b[0m\u001b[1;36m180\u001b[0m\u001b[31m seconds.           \u001b[0m\n"
      ]
     },
     "metadata": {},
     "output_type": "display_data"
    },
    {
     "data": {
      "text/html": [
       "<pre style=\"white-space:pre;overflow-x:auto;line-height:normal;font-family:Menlo,'DejaVu Sans Mono',consolas,'Courier New',monospace\"><span style=\"color: #7fbfbf; text-decoration-color: #7fbfbf\">11:19:21 GMT 夏令时 </span><span style=\"color: #800000; text-decoration-color: #800000\">WARNING: No connection: Retrying for </span><span style=\"color: #008080; text-decoration-color: #008080; font-weight: bold\">180</span><span style=\"color: #800000; text-decoration-color: #800000\"> seconds.           </span>\n",
       "</pre>\n"
      ],
      "text/plain": [
       "\u001b[2;36m11:19:21 GMT 夏令时\u001b[0m\u001b[2;36m \u001b[0m\u001b[31mWARNING: No connection: Retrying for \u001b[0m\u001b[1;36m180\u001b[0m\u001b[31m seconds.           \u001b[0m\n"
      ]
     },
     "metadata": {},
     "output_type": "display_data"
    },
    {
     "data": {
      "text/html": [
       "<pre style=\"white-space:pre;overflow-x:auto;line-height:normal;font-family:Menlo,'DejaVu Sans Mono',consolas,'Courier New',monospace\"><span style=\"color: #7fbfbf; text-decoration-color: #7fbfbf\">11:19:23 GMT 夏令时 </span><span style=\"color: #800000; text-decoration-color: #800000\">WARNING: No connection: Retrying for </span><span style=\"color: #008080; text-decoration-color: #008080; font-weight: bold\">180</span><span style=\"color: #800000; text-decoration-color: #800000\"> seconds.           </span>\n",
       "</pre>\n"
      ],
      "text/plain": [
       "\u001b[2;36m11:19:23 GMT 夏令时\u001b[0m\u001b[2;36m \u001b[0m\u001b[31mWARNING: No connection: Retrying for \u001b[0m\u001b[1;36m180\u001b[0m\u001b[31m seconds.           \u001b[0m\n"
      ]
     },
     "metadata": {},
     "output_type": "display_data"
    },
    {
     "data": {
      "text/html": [
       "<pre style=\"white-space:pre;overflow-x:auto;line-height:normal;font-family:Menlo,'DejaVu Sans Mono',consolas,'Courier New',monospace\"><span style=\"color: #7fbfbf; text-decoration-color: #7fbfbf\">                 </span><span style=\"color: #800000; text-decoration-color: #800000\">WARNING: No connection: Retrying for </span><span style=\"color: #008080; text-decoration-color: #008080; font-weight: bold\">180</span><span style=\"color: #800000; text-decoration-color: #800000\"> seconds.              </span>\n",
       "</pre>\n"
      ],
      "text/plain": [
       "\u001b[2;36m                \u001b[0m\u001b[2;36m \u001b[0m\u001b[31mWARNING: No connection: Retrying for \u001b[0m\u001b[1;36m180\u001b[0m\u001b[31m seconds.              \u001b[0m\n"
      ]
     },
     "metadata": {},
     "output_type": "display_data"
    },
    {
     "data": {
      "text/html": [
       "<pre style=\"white-space:pre;overflow-x:auto;line-height:normal;font-family:Menlo,'DejaVu Sans Mono',consolas,'Courier New',monospace\"><span style=\"color: #7fbfbf; text-decoration-color: #7fbfbf\">                 </span><span style=\"color: #800000; text-decoration-color: #800000\">WARNING: No connection: Retrying for </span><span style=\"color: #008080; text-decoration-color: #008080; font-weight: bold\">180</span><span style=\"color: #800000; text-decoration-color: #800000\"> seconds.              </span>\n",
       "</pre>\n"
      ],
      "text/plain": [
       "\u001b[2;36m                \u001b[0m\u001b[2;36m \u001b[0m\u001b[31mWARNING: No connection: Retrying for \u001b[0m\u001b[1;36m180\u001b[0m\u001b[31m seconds.              \u001b[0m\n"
      ]
     },
     "metadata": {},
     "output_type": "display_data"
    },
    {
     "data": {
      "text/html": [
       "<pre style=\"white-space:pre;overflow-x:auto;line-height:normal;font-family:Menlo,'DejaVu Sans Mono',consolas,'Courier New',monospace\"><span style=\"color: #7fbfbf; text-decoration-color: #7fbfbf\">11:19:25 GMT 夏令时 </span><span style=\"color: #800000; text-decoration-color: #800000\">WARNING: No connection: Retrying for </span><span style=\"color: #008080; text-decoration-color: #008080; font-weight: bold\">180</span><span style=\"color: #800000; text-decoration-color: #800000\"> seconds.           </span>\n",
       "</pre>\n"
      ],
      "text/plain": [
       "\u001b[2;36m11:19:25 GMT 夏令时\u001b[0m\u001b[2;36m \u001b[0m\u001b[31mWARNING: No connection: Retrying for \u001b[0m\u001b[1;36m180\u001b[0m\u001b[31m seconds.           \u001b[0m\n"
      ]
     },
     "metadata": {},
     "output_type": "display_data"
    },
    {
     "data": {
      "text/html": [
       "<pre style=\"white-space:pre;overflow-x:auto;line-height:normal;font-family:Menlo,'DejaVu Sans Mono',consolas,'Courier New',monospace\"><span style=\"color: #7fbfbf; text-decoration-color: #7fbfbf\">11:22:03 GMT 夏令时 </span><span style=\"color: #800000; text-decoration-color: #800000\">WARNING: No connection: Retrying for </span><span style=\"color: #008080; text-decoration-color: #008080; font-weight: bold\">180</span><span style=\"color: #800000; text-decoration-color: #800000\"> seconds.           </span>\n",
       "</pre>\n"
      ],
      "text/plain": [
       "\u001b[2;36m11:22:03 GMT 夏令时\u001b[0m\u001b[2;36m \u001b[0m\u001b[31mWARNING: No connection: Retrying for \u001b[0m\u001b[1;36m180\u001b[0m\u001b[31m seconds.           \u001b[0m\n"
      ]
     },
     "metadata": {},
     "output_type": "display_data"
    },
    {
     "data": {
      "text/html": [
       "<pre style=\"white-space:pre;overflow-x:auto;line-height:normal;font-family:Menlo,'DejaVu Sans Mono',consolas,'Courier New',monospace\"><span style=\"color: #7fbfbf; text-decoration-color: #7fbfbf\">                 </span><span style=\"color: #800000; text-decoration-color: #800000\">WARNING: No connection: Retrying for </span><span style=\"color: #008080; text-decoration-color: #008080; font-weight: bold\">180</span><span style=\"color: #800000; text-decoration-color: #800000\"> seconds.              </span>\n",
       "</pre>\n"
      ],
      "text/plain": [
       "\u001b[2;36m                \u001b[0m\u001b[2;36m \u001b[0m\u001b[31mWARNING: No connection: Retrying for \u001b[0m\u001b[1;36m180\u001b[0m\u001b[31m seconds.              \u001b[0m\n"
      ]
     },
     "metadata": {},
     "output_type": "display_data"
    },
    {
     "data": {
      "text/html": [
       "<pre style=\"white-space:pre;overflow-x:auto;line-height:normal;font-family:Menlo,'DejaVu Sans Mono',consolas,'Courier New',monospace\"><span style=\"color: #7fbfbf; text-decoration-color: #7fbfbf\">                 </span><span style=\"color: #800000; text-decoration-color: #800000\">WARNING: No connection: Retrying for </span><span style=\"color: #008080; text-decoration-color: #008080; font-weight: bold\">180</span><span style=\"color: #800000; text-decoration-color: #800000\"> seconds.              </span>\n",
       "</pre>\n"
      ],
      "text/plain": [
       "\u001b[2;36m                \u001b[0m\u001b[2;36m \u001b[0m\u001b[31mWARNING: No connection: Retrying for \u001b[0m\u001b[1;36m180\u001b[0m\u001b[31m seconds.              \u001b[0m\n"
      ]
     },
     "metadata": {},
     "output_type": "display_data"
    },
    {
     "data": {
      "text/html": [
       "<pre style=\"white-space:pre;overflow-x:auto;line-height:normal;font-family:Menlo,'DejaVu Sans Mono',consolas,'Courier New',monospace\"><span style=\"color: #7fbfbf; text-decoration-color: #7fbfbf\">                 </span><span style=\"color: #800000; text-decoration-color: #800000\">WARNING: No connection: Retrying for </span><span style=\"color: #008080; text-decoration-color: #008080; font-weight: bold\">180</span><span style=\"color: #800000; text-decoration-color: #800000\"> seconds.              </span>\n",
       "</pre>\n"
      ],
      "text/plain": [
       "\u001b[2;36m                \u001b[0m\u001b[2;36m \u001b[0m\u001b[31mWARNING: No connection: Retrying for \u001b[0m\u001b[1;36m180\u001b[0m\u001b[31m seconds.              \u001b[0m\n"
      ]
     },
     "metadata": {},
     "output_type": "display_data"
    },
    {
     "data": {
      "text/html": [
       "<pre style=\"white-space:pre;overflow-x:auto;line-height:normal;font-family:Menlo,'DejaVu Sans Mono',consolas,'Courier New',monospace\"><span style=\"color: #7fbfbf; text-decoration-color: #7fbfbf\">11:22:04 GMT 夏令时 </span><span style=\"color: #800000; text-decoration-color: #800000\">WARNING: No connection: Retrying for </span><span style=\"color: #008080; text-decoration-color: #008080; font-weight: bold\">180</span><span style=\"color: #800000; text-decoration-color: #800000\"> seconds.           </span>\n",
       "</pre>\n"
      ],
      "text/plain": [
       "\u001b[2;36m11:22:04 GMT 夏令时\u001b[0m\u001b[2;36m \u001b[0m\u001b[31mWARNING: No connection: Retrying for \u001b[0m\u001b[1;36m180\u001b[0m\u001b[31m seconds.           \u001b[0m\n"
      ]
     },
     "metadata": {},
     "output_type": "display_data"
    },
    {
     "data": {
      "text/html": [
       "<pre style=\"white-space:pre;overflow-x:auto;line-height:normal;font-family:Menlo,'DejaVu Sans Mono',consolas,'Courier New',monospace\"><span style=\"color: #7fbfbf; text-decoration-color: #7fbfbf\">11:22:05 GMT 夏令时 </span><span style=\"color: #800000; text-decoration-color: #800000\">WARNING: No connection: Retrying for </span><span style=\"color: #008080; text-decoration-color: #008080; font-weight: bold\">180</span><span style=\"color: #800000; text-decoration-color: #800000\"> seconds.           </span>\n",
       "</pre>\n"
      ],
      "text/plain": [
       "\u001b[2;36m11:22:05 GMT 夏令时\u001b[0m\u001b[2;36m \u001b[0m\u001b[31mWARNING: No connection: Retrying for \u001b[0m\u001b[1;36m180\u001b[0m\u001b[31m seconds.           \u001b[0m\n"
      ]
     },
     "metadata": {},
     "output_type": "display_data"
    },
    {
     "data": {
      "text/html": [
       "<pre style=\"white-space:pre;overflow-x:auto;line-height:normal;font-family:Menlo,'DejaVu Sans Mono',consolas,'Courier New',monospace\"><span style=\"color: #7fbfbf; text-decoration-color: #7fbfbf\">11:22:17 GMT 夏令时 </span><span style=\"color: #800000; text-decoration-color: #800000\">WARNING: No connection: Retrying for </span><span style=\"color: #008080; text-decoration-color: #008080; font-weight: bold\">180</span><span style=\"color: #800000; text-decoration-color: #800000\"> seconds.           </span>\n",
       "</pre>\n"
      ],
      "text/plain": [
       "\u001b[2;36m11:22:17 GMT 夏令时\u001b[0m\u001b[2;36m \u001b[0m\u001b[31mWARNING: No connection: Retrying for \u001b[0m\u001b[1;36m180\u001b[0m\u001b[31m seconds.           \u001b[0m\n"
      ]
     },
     "metadata": {},
     "output_type": "display_data"
    },
    {
     "data": {
      "text/html": [
       "<pre style=\"white-space:pre;overflow-x:auto;line-height:normal;font-family:Menlo,'DejaVu Sans Mono',consolas,'Courier New',monospace\"><span style=\"color: #7fbfbf; text-decoration-color: #7fbfbf\">                 </span><span style=\"color: #800000; text-decoration-color: #800000\">WARNING: No connection: Retrying for </span><span style=\"color: #008080; text-decoration-color: #008080; font-weight: bold\">180</span><span style=\"color: #800000; text-decoration-color: #800000\"> seconds.              </span>\n",
       "</pre>\n"
      ],
      "text/plain": [
       "\u001b[2;36m                \u001b[0m\u001b[2;36m \u001b[0m\u001b[31mWARNING: No connection: Retrying for \u001b[0m\u001b[1;36m180\u001b[0m\u001b[31m seconds.              \u001b[0m\n"
      ]
     },
     "metadata": {},
     "output_type": "display_data"
    },
    {
     "data": {
      "text/html": [
       "<pre style=\"white-space:pre;overflow-x:auto;line-height:normal;font-family:Menlo,'DejaVu Sans Mono',consolas,'Courier New',monospace\"><span style=\"color: #7fbfbf; text-decoration-color: #7fbfbf\">                 </span><span style=\"color: #800000; text-decoration-color: #800000\">WARNING: No connection: Retrying for </span><span style=\"color: #008080; text-decoration-color: #008080; font-weight: bold\">180</span><span style=\"color: #800000; text-decoration-color: #800000\"> seconds.              </span>\n",
       "</pre>\n"
      ],
      "text/plain": [
       "\u001b[2;36m                \u001b[0m\u001b[2;36m \u001b[0m\u001b[31mWARNING: No connection: Retrying for \u001b[0m\u001b[1;36m180\u001b[0m\u001b[31m seconds.              \u001b[0m\n"
      ]
     },
     "metadata": {},
     "output_type": "display_data"
    },
    {
     "data": {
      "text/html": [
       "<pre style=\"white-space:pre;overflow-x:auto;line-height:normal;font-family:Menlo,'DejaVu Sans Mono',consolas,'Courier New',monospace\"><span style=\"color: #7fbfbf; text-decoration-color: #7fbfbf\">11:24:13 GMT 夏令时 </span><span style=\"color: #800000; text-decoration-color: #800000\">WARNING: No connection: Retrying for </span><span style=\"color: #008080; text-decoration-color: #008080; font-weight: bold\">180</span><span style=\"color: #800000; text-decoration-color: #800000\"> seconds.           </span>\n",
       "</pre>\n"
      ],
      "text/plain": [
       "\u001b[2;36m11:24:13 GMT 夏令时\u001b[0m\u001b[2;36m \u001b[0m\u001b[31mWARNING: No connection: Retrying for \u001b[0m\u001b[1;36m180\u001b[0m\u001b[31m seconds.           \u001b[0m\n"
      ]
     },
     "metadata": {},
     "output_type": "display_data"
    },
    {
     "name": "stdout",
     "output_type": "stream",
     "text": [
      "Batch submitted.\n",
      "Loading task sim_0 (ID: he-3ade0c70-8d5b-4c0c-97fc-e556c588b1fc)...\n",
      "Task sim_0 fitness: 0.29969458601195625\n",
      "Loading task sim_1 (ID: he-7aeee680-793a-4817-8e39-aaead441a5fd)...\n",
      "Task sim_1 fitness: 0.18743081095578337\n",
      "Loading task sim_2 (ID: he-af4862e0-7dab-44aa-92f5-e1b0ef14ce00)...\n",
      "Task sim_2 fitness: 0.17183942060023072\n",
      "Loading task sim_3 (ID: he-4c577daa-af59-4dc1-9d0b-970594f1e588)...\n",
      "Task sim_3 fitness: 0.0681902932671276\n",
      "Loading task sim_4 (ID: he-4aa3c85d-4179-4785-b30f-60d4b4f9b95a)...\n",
      "Task sim_4 fitness: 0.04676942376633775\n",
      "Loading task sim_5 (ID: he-38d4b6fb-43f1-4f89-a486-3864820ad12b)...\n",
      "Task sim_5 fitness: 0.09444637892425993\n",
      "Loading task sim_6 (ID: he-b44eb9ec-71b8-4e4e-b87b-b72ff2dac972)...\n",
      "Task sim_6 fitness: 0.05732815262640589\n",
      "Loading task sim_7 (ID: he-c95f049d-e8ec-4a10-8e5d-b5e4a8b44d86)...\n",
      "Task sim_7 fitness: 0.28153850175702083\n",
      "Loading task sim_8 (ID: he-51dd7a4c-7e04-4b03-a5cb-3b55bfc39d19)...\n",
      "Task sim_8 fitness: 0.0765779202786101\n",
      "Loading task sim_9 (ID: he-30f1ec2f-7f92-45c9-9c02-7e3f1d799431)...\n",
      "Task sim_9 fitness: 0.07995193752114262\n",
      "Loading task sim_10 (ID: he-f765f9e7-024a-4267-a547-992e86ba66c9)...\n",
      "Task sim_10 fitness: 0.0771488440167465\n",
      "Loading task sim_11 (ID: he-1179d12e-5097-40ad-b76d-1c30020a4115)...\n",
      "Task sim_11 fitness: 0.11229953546513102\n",
      "Loading task sim_12 (ID: he-8b29e82c-741b-44f6-bd08-6f48e76b0e65)...\n",
      "Task sim_12 fitness: 0.10927889402637925\n",
      "Loading task sim_13 (ID: he-a4dab549-1877-4e1d-be48-cdefc0c71246)...\n",
      "Task sim_13 fitness: 0.2044931778299167\n",
      "Loading task sim_14 (ID: he-c1bb0785-8826-46cb-b4eb-2f1369746c85)...\n",
      "Task sim_14 fitness: 0.1641512557480446\n",
      "Loading task sim_15 (ID: he-1edf4fe4-ef3c-4fdd-9d30-99094e52279e)...\n",
      "Task sim_15 fitness: 0.16796867302981278\n",
      "Loading task sim_16 (ID: he-bd032b6b-0909-4d00-9f91-d5cd3f9fe88d)...\n",
      "Task sim_16 fitness: 0.08181547478991788\n",
      "Loading task sim_17 (ID: he-aa67b565-a60d-4243-867e-f1c1ad1e83f5)...\n",
      "Task sim_17 fitness: 0.07909701633344288\n",
      "Loading task sim_18 (ID: he-e41087b5-621a-437a-b578-6985ed15088e)...\n",
      "Task sim_18 fitness: 0.10818236818905105\n",
      "Loading task sim_19 (ID: he-e62cee47-58f7-4284-bd1a-b46f16acc560)...\n",
      "Task sim_19 fitness: 0.10265663882038333\n",
      "Loading task sim_20 (ID: he-b32a9e2a-c973-4325-9441-37aa91b95778)...\n",
      "Task sim_20 fitness: 0.2945163536937941\n",
      "Loading task sim_21 (ID: he-72996572-a0bd-4dce-92bf-bd2fa26fe7ff)...\n",
      "Task sim_21 fitness: 0.2149179936647445\n",
      "Loading task sim_22 (ID: he-9c43c581-1472-4025-8e51-d22f9121679b)...\n",
      "Task sim_22 fitness: 0.12961061639563348\n",
      "Loading task sim_23 (ID: he-bad14212-3240-4a9b-b899-e5b0ed4a387d)...\n",
      "Task sim_23 fitness: 0.3392534589139285\n",
      "Loading task sim_24 (ID: he-41b7f2c5-8e3b-4fae-9251-3b9ec1451bc9)...\n",
      "Task sim_24 fitness: 0.13771305981842138\n",
      "Loading task sim_25 (ID: he-cebaa899-e983-4eb7-8850-3e797b37310f)...\n",
      "Task sim_25 fitness: 0.21909003730559742\n",
      "Loading task sim_26 (ID: he-1a81f2bf-00e2-4b6f-880f-a6a1714e2362)...\n",
      "Task sim_26 fitness: 0.2248976598063968\n",
      "Loading task sim_27 (ID: he-8bec9def-4cbd-496a-88d9-3c6aa3d4d2ed)...\n",
      "Task sim_27 fitness: 0.11641351243357084\n",
      "Loading task sim_28 (ID: he-88af8cb5-49d2-4ac0-bfa0-fd3bc0d9a688)...\n",
      "Task sim_28 fitness: 0.12181828120611103\n",
      "Generation:1: Best Fitness = 0.339\n"
     ]
    },
    {
     "data": {
      "text/html": [
       "<pre style=\"white-space:pre;overflow-x:auto;line-height:normal;font-family:Menlo,'DejaVu Sans Mono',consolas,'Courier New',monospace\"><span style=\"color: #7fbfbf; text-decoration-color: #7fbfbf\">12:50:26 GMT 夏令时 </span><span style=\"color: #800000; text-decoration-color: #800000\">WARNING: No connection: Retrying for </span><span style=\"color: #008080; text-decoration-color: #008080; font-weight: bold\">180</span><span style=\"color: #800000; text-decoration-color: #800000\"> seconds.           </span>\n",
       "</pre>\n"
      ],
      "text/plain": [
       "\u001b[2;36m12:50:26 GMT 夏令时\u001b[0m\u001b[2;36m \u001b[0m\u001b[31mWARNING: No connection: Retrying for \u001b[0m\u001b[1;36m180\u001b[0m\u001b[31m seconds.           \u001b[0m\n"
      ]
     },
     "metadata": {},
     "output_type": "display_data"
    },
    {
     "data": {
      "text/html": [
       "<pre style=\"white-space:pre;overflow-x:auto;line-height:normal;font-family:Menlo,'DejaVu Sans Mono',consolas,'Courier New',monospace\"><span style=\"color: #7fbfbf; text-decoration-color: #7fbfbf\">                 </span><span style=\"color: #800000; text-decoration-color: #800000\">WARNING: No connection: Retrying for </span><span style=\"color: #008080; text-decoration-color: #008080; font-weight: bold\">180</span><span style=\"color: #800000; text-decoration-color: #800000\"> seconds.              </span>\n",
       "</pre>\n"
      ],
      "text/plain": [
       "\u001b[2;36m                \u001b[0m\u001b[2;36m \u001b[0m\u001b[31mWARNING: No connection: Retrying for \u001b[0m\u001b[1;36m180\u001b[0m\u001b[31m seconds.              \u001b[0m\n"
      ]
     },
     "metadata": {},
     "output_type": "display_data"
    },
    {
     "data": {
      "text/html": [
       "<pre style=\"white-space:pre;overflow-x:auto;line-height:normal;font-family:Menlo,'DejaVu Sans Mono',consolas,'Courier New',monospace\"><span style=\"color: #7fbfbf; text-decoration-color: #7fbfbf\">                 </span><span style=\"color: #800000; text-decoration-color: #800000\">WARNING: No connection: Retrying for </span><span style=\"color: #008080; text-decoration-color: #008080; font-weight: bold\">180</span><span style=\"color: #800000; text-decoration-color: #800000\"> seconds.              </span>\n",
       "</pre>\n"
      ],
      "text/plain": [
       "\u001b[2;36m                \u001b[0m\u001b[2;36m \u001b[0m\u001b[31mWARNING: No connection: Retrying for \u001b[0m\u001b[1;36m180\u001b[0m\u001b[31m seconds.              \u001b[0m\n"
      ]
     },
     "metadata": {},
     "output_type": "display_data"
    },
    {
     "data": {
      "text/html": [
       "<pre style=\"white-space:pre;overflow-x:auto;line-height:normal;font-family:Menlo,'DejaVu Sans Mono',consolas,'Courier New',monospace\"><span style=\"color: #7fbfbf; text-decoration-color: #7fbfbf\">12:50:27 GMT 夏令时 </span><span style=\"color: #800000; text-decoration-color: #800000\">WARNING: No connection: Retrying for </span><span style=\"color: #008080; text-decoration-color: #008080; font-weight: bold\">180</span><span style=\"color: #800000; text-decoration-color: #800000\"> seconds.           </span>\n",
       "</pre>\n"
      ],
      "text/plain": [
       "\u001b[2;36m12:50:27 GMT 夏令时\u001b[0m\u001b[2;36m \u001b[0m\u001b[31mWARNING: No connection: Retrying for \u001b[0m\u001b[1;36m180\u001b[0m\u001b[31m seconds.           \u001b[0m\n"
      ]
     },
     "metadata": {},
     "output_type": "display_data"
    },
    {
     "data": {
      "text/html": [
       "<pre style=\"white-space:pre;overflow-x:auto;line-height:normal;font-family:Menlo,'DejaVu Sans Mono',consolas,'Courier New',monospace\"><span style=\"color: #7fbfbf; text-decoration-color: #7fbfbf\">12:50:28 GMT 夏令时 </span><span style=\"color: #800000; text-decoration-color: #800000\">WARNING: No connection: Retrying for </span><span style=\"color: #008080; text-decoration-color: #008080; font-weight: bold\">180</span><span style=\"color: #800000; text-decoration-color: #800000\"> seconds.           </span>\n",
       "</pre>\n"
      ],
      "text/plain": [
       "\u001b[2;36m12:50:28 GMT 夏令时\u001b[0m\u001b[2;36m \u001b[0m\u001b[31mWARNING: No connection: Retrying for \u001b[0m\u001b[1;36m180\u001b[0m\u001b[31m seconds.           \u001b[0m\n"
      ]
     },
     "metadata": {},
     "output_type": "display_data"
    },
    {
     "data": {
      "text/html": [
       "<pre style=\"white-space:pre;overflow-x:auto;line-height:normal;font-family:Menlo,'DejaVu Sans Mono',consolas,'Courier New',monospace\"><span style=\"color: #7fbfbf; text-decoration-color: #7fbfbf\">                 </span><span style=\"color: #800000; text-decoration-color: #800000\">WARNING: No connection: Retrying for </span><span style=\"color: #008080; text-decoration-color: #008080; font-weight: bold\">180</span><span style=\"color: #800000; text-decoration-color: #800000\"> seconds.              </span>\n",
       "</pre>\n"
      ],
      "text/plain": [
       "\u001b[2;36m                \u001b[0m\u001b[2;36m \u001b[0m\u001b[31mWARNING: No connection: Retrying for \u001b[0m\u001b[1;36m180\u001b[0m\u001b[31m seconds.              \u001b[0m\n"
      ]
     },
     "metadata": {},
     "output_type": "display_data"
    },
    {
     "data": {
      "text/html": [
       "<pre style=\"white-space:pre;overflow-x:auto;line-height:normal;font-family:Menlo,'DejaVu Sans Mono',consolas,'Courier New',monospace\"><span style=\"color: #7fbfbf; text-decoration-color: #7fbfbf\">12:50:29 GMT 夏令时 </span><span style=\"color: #800000; text-decoration-color: #800000\">WARNING: No connection: Retrying for </span><span style=\"color: #008080; text-decoration-color: #008080; font-weight: bold\">180</span><span style=\"color: #800000; text-decoration-color: #800000\"> seconds.           </span>\n",
       "</pre>\n"
      ],
      "text/plain": [
       "\u001b[2;36m12:50:29 GMT 夏令时\u001b[0m\u001b[2;36m \u001b[0m\u001b[31mWARNING: No connection: Retrying for \u001b[0m\u001b[1;36m180\u001b[0m\u001b[31m seconds.           \u001b[0m\n"
      ]
     },
     "metadata": {},
     "output_type": "display_data"
    },
    {
     "data": {
      "text/html": [
       "<pre style=\"white-space:pre;overflow-x:auto;line-height:normal;font-family:Menlo,'DejaVu Sans Mono',consolas,'Courier New',monospace\"><span style=\"color: #7fbfbf; text-decoration-color: #7fbfbf\">                 </span><span style=\"color: #800000; text-decoration-color: #800000\">WARNING: No connection: Retrying for </span><span style=\"color: #008080; text-decoration-color: #008080; font-weight: bold\">180</span><span style=\"color: #800000; text-decoration-color: #800000\"> seconds.              </span>\n",
       "</pre>\n"
      ],
      "text/plain": [
       "\u001b[2;36m                \u001b[0m\u001b[2;36m \u001b[0m\u001b[31mWARNING: No connection: Retrying for \u001b[0m\u001b[1;36m180\u001b[0m\u001b[31m seconds.              \u001b[0m\n"
      ]
     },
     "metadata": {},
     "output_type": "display_data"
    },
    {
     "data": {
      "text/html": [
       "<pre style=\"white-space:pre;overflow-x:auto;line-height:normal;font-family:Menlo,'DejaVu Sans Mono',consolas,'Courier New',monospace\"><span style=\"color: #7fbfbf; text-decoration-color: #7fbfbf\">12:50:30 GMT 夏令时 </span><span style=\"color: #800000; text-decoration-color: #800000\">WARNING: No connection: Retrying for </span><span style=\"color: #008080; text-decoration-color: #008080; font-weight: bold\">180</span><span style=\"color: #800000; text-decoration-color: #800000\"> seconds.           </span>\n",
       "</pre>\n"
      ],
      "text/plain": [
       "\u001b[2;36m12:50:30 GMT 夏令时\u001b[0m\u001b[2;36m \u001b[0m\u001b[31mWARNING: No connection: Retrying for \u001b[0m\u001b[1;36m180\u001b[0m\u001b[31m seconds.           \u001b[0m\n"
      ]
     },
     "metadata": {},
     "output_type": "display_data"
    },
    {
     "data": {
      "text/html": [
       "<pre style=\"white-space:pre;overflow-x:auto;line-height:normal;font-family:Menlo,'DejaVu Sans Mono',consolas,'Courier New',monospace\"><span style=\"color: #7fbfbf; text-decoration-color: #7fbfbf\">12:50:42 GMT 夏令时 </span><span style=\"color: #800000; text-decoration-color: #800000\">WARNING: No connection: Retrying for </span><span style=\"color: #008080; text-decoration-color: #008080; font-weight: bold\">180</span><span style=\"color: #800000; text-decoration-color: #800000\"> seconds.           </span>\n",
       "</pre>\n"
      ],
      "text/plain": [
       "\u001b[2;36m12:50:42 GMT 夏令时\u001b[0m\u001b[2;36m \u001b[0m\u001b[31mWARNING: No connection: Retrying for \u001b[0m\u001b[1;36m180\u001b[0m\u001b[31m seconds.           \u001b[0m\n"
      ]
     },
     "metadata": {},
     "output_type": "display_data"
    },
    {
     "data": {
      "text/html": [
       "<pre style=\"white-space:pre;overflow-x:auto;line-height:normal;font-family:Menlo,'DejaVu Sans Mono',consolas,'Courier New',monospace\"><span style=\"color: #7fbfbf; text-decoration-color: #7fbfbf\">12:53:38 GMT 夏令时 </span><span style=\"color: #800000; text-decoration-color: #800000\">WARNING: No connection: Retrying for </span><span style=\"color: #008080; text-decoration-color: #008080; font-weight: bold\">180</span><span style=\"color: #800000; text-decoration-color: #800000\"> seconds.           </span>\n",
       "</pre>\n"
      ],
      "text/plain": [
       "\u001b[2;36m12:53:38 GMT 夏令时\u001b[0m\u001b[2;36m \u001b[0m\u001b[31mWARNING: No connection: Retrying for \u001b[0m\u001b[1;36m180\u001b[0m\u001b[31m seconds.           \u001b[0m\n"
      ]
     },
     "metadata": {},
     "output_type": "display_data"
    },
    {
     "data": {
      "text/html": [
       "<pre style=\"white-space:pre;overflow-x:auto;line-height:normal;font-family:Menlo,'DejaVu Sans Mono',consolas,'Courier New',monospace\"><span style=\"color: #7fbfbf; text-decoration-color: #7fbfbf\">                 </span><span style=\"color: #800000; text-decoration-color: #800000\">WARNING: No connection: Retrying for </span><span style=\"color: #008080; text-decoration-color: #008080; font-weight: bold\">180</span><span style=\"color: #800000; text-decoration-color: #800000\"> seconds.              </span>\n",
       "</pre>\n"
      ],
      "text/plain": [
       "\u001b[2;36m                \u001b[0m\u001b[2;36m \u001b[0m\u001b[31mWARNING: No connection: Retrying for \u001b[0m\u001b[1;36m180\u001b[0m\u001b[31m seconds.              \u001b[0m\n"
      ]
     },
     "metadata": {},
     "output_type": "display_data"
    },
    {
     "data": {
      "text/html": [
       "<pre style=\"white-space:pre;overflow-x:auto;line-height:normal;font-family:Menlo,'DejaVu Sans Mono',consolas,'Courier New',monospace\"><span style=\"color: #7fbfbf; text-decoration-color: #7fbfbf\">                 </span><span style=\"color: #800000; text-decoration-color: #800000\">WARNING: No connection: Retrying for </span><span style=\"color: #008080; text-decoration-color: #008080; font-weight: bold\">180</span><span style=\"color: #800000; text-decoration-color: #800000\"> seconds.              </span>\n",
       "</pre>\n"
      ],
      "text/plain": [
       "\u001b[2;36m                \u001b[0m\u001b[2;36m \u001b[0m\u001b[31mWARNING: No connection: Retrying for \u001b[0m\u001b[1;36m180\u001b[0m\u001b[31m seconds.              \u001b[0m\n"
      ]
     },
     "metadata": {},
     "output_type": "display_data"
    },
    {
     "data": {
      "text/html": [
       "<pre style=\"white-space:pre;overflow-x:auto;line-height:normal;font-family:Menlo,'DejaVu Sans Mono',consolas,'Courier New',monospace\"><span style=\"color: #7fbfbf; text-decoration-color: #7fbfbf\">12:53:40 GMT 夏令时 </span><span style=\"color: #800000; text-decoration-color: #800000\">WARNING: No connection: Retrying for </span><span style=\"color: #008080; text-decoration-color: #008080; font-weight: bold\">180</span><span style=\"color: #800000; text-decoration-color: #800000\"> seconds.           </span>\n",
       "</pre>\n"
      ],
      "text/plain": [
       "\u001b[2;36m12:53:40 GMT 夏令时\u001b[0m\u001b[2;36m \u001b[0m\u001b[31mWARNING: No connection: Retrying for \u001b[0m\u001b[1;36m180\u001b[0m\u001b[31m seconds.           \u001b[0m\n"
      ]
     },
     "metadata": {},
     "output_type": "display_data"
    },
    {
     "data": {
      "text/html": [
       "<pre style=\"white-space:pre;overflow-x:auto;line-height:normal;font-family:Menlo,'DejaVu Sans Mono',consolas,'Courier New',monospace\"><span style=\"color: #7fbfbf; text-decoration-color: #7fbfbf\">                 </span><span style=\"color: #800000; text-decoration-color: #800000\">WARNING: No connection: Retrying for </span><span style=\"color: #008080; text-decoration-color: #008080; font-weight: bold\">180</span><span style=\"color: #800000; text-decoration-color: #800000\"> seconds.              </span>\n",
       "</pre>\n"
      ],
      "text/plain": [
       "\u001b[2;36m                \u001b[0m\u001b[2;36m \u001b[0m\u001b[31mWARNING: No connection: Retrying for \u001b[0m\u001b[1;36m180\u001b[0m\u001b[31m seconds.              \u001b[0m\n"
      ]
     },
     "metadata": {},
     "output_type": "display_data"
    },
    {
     "data": {
      "text/html": [
       "<pre style=\"white-space:pre;overflow-x:auto;line-height:normal;font-family:Menlo,'DejaVu Sans Mono',consolas,'Courier New',monospace\"><span style=\"color: #7fbfbf; text-decoration-color: #7fbfbf\">                 </span><span style=\"color: #800000; text-decoration-color: #800000\">WARNING: No connection: Retrying for </span><span style=\"color: #008080; text-decoration-color: #008080; font-weight: bold\">180</span><span style=\"color: #800000; text-decoration-color: #800000\"> seconds.              </span>\n",
       "</pre>\n"
      ],
      "text/plain": [
       "\u001b[2;36m                \u001b[0m\u001b[2;36m \u001b[0m\u001b[31mWARNING: No connection: Retrying for \u001b[0m\u001b[1;36m180\u001b[0m\u001b[31m seconds.              \u001b[0m\n"
      ]
     },
     "metadata": {},
     "output_type": "display_data"
    },
    {
     "data": {
      "text/html": [
       "<pre style=\"white-space:pre;overflow-x:auto;line-height:normal;font-family:Menlo,'DejaVu Sans Mono',consolas,'Courier New',monospace\"><span style=\"color: #7fbfbf; text-decoration-color: #7fbfbf\">                 </span><span style=\"color: #800000; text-decoration-color: #800000\">WARNING: No connection: Retrying for </span><span style=\"color: #008080; text-decoration-color: #008080; font-weight: bold\">180</span><span style=\"color: #800000; text-decoration-color: #800000\"> seconds.              </span>\n",
       "</pre>\n"
      ],
      "text/plain": [
       "\u001b[2;36m                \u001b[0m\u001b[2;36m \u001b[0m\u001b[31mWARNING: No connection: Retrying for \u001b[0m\u001b[1;36m180\u001b[0m\u001b[31m seconds.              \u001b[0m\n"
      ]
     },
     "metadata": {},
     "output_type": "display_data"
    },
    {
     "data": {
      "text/html": [
       "<pre style=\"white-space:pre;overflow-x:auto;line-height:normal;font-family:Menlo,'DejaVu Sans Mono',consolas,'Courier New',monospace\"><span style=\"color: #7fbfbf; text-decoration-color: #7fbfbf\">                 </span><span style=\"color: #800000; text-decoration-color: #800000\">WARNING: No connection: Retrying for </span><span style=\"color: #008080; text-decoration-color: #008080; font-weight: bold\">180</span><span style=\"color: #800000; text-decoration-color: #800000\"> seconds.              </span>\n",
       "</pre>\n"
      ],
      "text/plain": [
       "\u001b[2;36m                \u001b[0m\u001b[2;36m \u001b[0m\u001b[31mWARNING: No connection: Retrying for \u001b[0m\u001b[1;36m180\u001b[0m\u001b[31m seconds.              \u001b[0m\n"
      ]
     },
     "metadata": {},
     "output_type": "display_data"
    },
    {
     "data": {
      "text/html": [
       "<pre style=\"white-space:pre;overflow-x:auto;line-height:normal;font-family:Menlo,'DejaVu Sans Mono',consolas,'Courier New',monospace\"><span style=\"color: #7fbfbf; text-decoration-color: #7fbfbf\">12:56:35 GMT 夏令时 </span><span style=\"color: #800000; text-decoration-color: #800000\">WARNING: No connection: Retrying for </span><span style=\"color: #008080; text-decoration-color: #008080; font-weight: bold\">180</span><span style=\"color: #800000; text-decoration-color: #800000\"> seconds.           </span>\n",
       "</pre>\n"
      ],
      "text/plain": [
       "\u001b[2;36m12:56:35 GMT 夏令时\u001b[0m\u001b[2;36m \u001b[0m\u001b[31mWARNING: No connection: Retrying for \u001b[0m\u001b[1;36m180\u001b[0m\u001b[31m seconds.           \u001b[0m\n"
      ]
     },
     "metadata": {},
     "output_type": "display_data"
    },
    {
     "name": "stdout",
     "output_type": "stream",
     "text": [
      "Batch submitted.\n",
      "Loading task sim_0 (ID: he-2cdc4a0d-8b84-4c02-9fd3-389e28f60ec0)...\n",
      "Task sim_0 fitness: 0.1633130332541436\n",
      "Loading task sim_1 (ID: he-12f32a0c-1882-4791-a34f-e4a8c56f2c9b)...\n",
      "Task sim_1 fitness: 0.09009946941880985\n",
      "Loading task sim_2 (ID: he-e5fd2844-73d6-4665-84f7-cffb2437decf)...\n",
      "Task sim_2 fitness: 0.0731590502816439\n",
      "Loading task sim_3 (ID: he-aeed0c51-84d3-4e2a-b476-f988490a9a98)...\n",
      "Task sim_3 fitness: 0.2850760793227952\n",
      "Loading task sim_4 (ID: he-4deb55b8-a8e0-44b8-adb2-87948b04cd8a)...\n",
      "Task sim_4 fitness: 0.2996323986418107\n",
      "Loading task sim_5 (ID: he-4c8c7116-0850-4d64-bcc7-ae24f53198c1)...\n",
      "Task sim_5 fitness: 0.17422231779881442\n",
      "Loading task sim_6 (ID: he-64017988-7145-445d-ad6e-e1999ce09ba4)...\n",
      "Task sim_6 fitness: 0.12208213640676774\n",
      "Loading task sim_7 (ID: he-d0230ca7-5be1-4fd4-b798-2e5130bbecda)...\n",
      "Task sim_7 fitness: 0.1522554965221736\n",
      "Loading task sim_8 (ID: he-9cb89c17-1718-4d52-a9df-7aa3eb0a0b92)...\n",
      "Task sim_8 fitness: 0.2757959439110569\n",
      "Loading task sim_9 (ID: he-d279dc92-f180-4805-b00a-1c399afb9cb8)...\n",
      "Task sim_9 fitness: 0.12594984568114703\n",
      "Loading task sim_10 (ID: he-3ab407b8-62b5-4dbd-b58a-c85ea651e8bc)...\n",
      "Task sim_10 fitness: 0.7958381243683073\n",
      "Loading task sim_11 (ID: he-ebc3b21c-5319-4627-9012-3972d71e407c)...\n",
      "Task sim_11 fitness: 0.09404086710800078\n",
      "Loading task sim_12 (ID: he-ecadf9c2-0cce-4037-b388-7200d2eef38c)...\n",
      "Task sim_12 fitness: 0.16355995066088647\n",
      "Loading task sim_13 (ID: he-f116781c-5012-4f2d-9e02-79f518e01eae)...\n",
      "Task sim_13 fitness: 0.5824844806749667\n",
      "Loading task sim_14 (ID: he-1d302c02-829b-4a0b-901d-53e0ac3ddda9)...\n",
      "Task sim_14 fitness: 0.13732557771557238\n",
      "Loading task sim_15 (ID: he-4669e085-1977-4c7b-b371-886926b6e28b)...\n",
      "Task sim_15 fitness: 0.21568786431325881\n",
      "Loading task sim_16 (ID: he-9cdf07b0-f4fa-4c5d-8f29-56ec17a7d26f)...\n",
      "Task sim_16 fitness: 0.12543553464515897\n",
      "Loading task sim_17 (ID: he-d0061259-5361-4454-af80-d3be231789b9)...\n",
      "Task sim_17 fitness: 0.1404695237636657\n",
      "Loading task sim_18 (ID: he-4acb38d2-87fb-45ce-89d7-dc152187b596)...\n",
      "Task sim_18 fitness: 0.07825851678573359\n",
      "Loading task sim_19 (ID: he-59a98fd5-536c-4641-ac22-ed15b14a6020)...\n",
      "Task sim_19 fitness: 0.09602938486202248\n",
      "Loading task sim_20 (ID: he-f61c82c6-9e6c-4a32-bf44-12c199da7f12)...\n",
      "Task sim_20 fitness: 0.13046907183377807\n",
      "Loading task sim_21 (ID: he-7cc7ddb2-1e2a-4d74-b4e6-704f5ecac3c4)...\n",
      "Task sim_21 fitness: 0.2140489169766843\n",
      "Loading task sim_22 (ID: he-1106a65f-bed1-4741-9c33-d1e7f32dadda)...\n",
      "Task sim_22 fitness: 0.17482771278987835\n",
      "Loading task sim_23 (ID: he-4b2337f0-1dc0-43af-9f44-ea7e69495714)...\n",
      "Task sim_23 fitness: 0.5780738119062333\n",
      "Loading task sim_24 (ID: he-274a4ef0-cc47-4af7-97f7-7383e6e59704)...\n",
      "Task sim_24 fitness: 0.3941714943892977\n",
      "Loading task sim_25 (ID: he-af17200b-4742-45fe-97ce-caa5c4561c75)...\n",
      "Task sim_25 fitness: 0.07300980229092205\n",
      "Loading task sim_26 (ID: he-a55c04e2-52df-47ba-9e61-989d0bb7b762)...\n",
      "Task sim_26 fitness: 0.11530490249157761\n",
      "Loading task sim_27 (ID: he-36c0e5fd-f5b0-45a1-9a00-5c33332f368f)...\n",
      "Task sim_27 fitness: 0.15170179437393133\n",
      "Generation:2: Best Fitness = 0.796\n",
      "Batch submitted.\n",
      "Loading task sim_0 (ID: he-1dada988-aa24-4095-8cad-b7f03900ac76)...\n",
      "Task sim_0 fitness: 0.44778209297545146\n",
      "Loading task sim_1 (ID: he-46675213-3a16-4390-9cf7-468d73dbd6a5)...\n",
      "Task sim_1 fitness: 0.538320791571121\n",
      "Loading task sim_2 (ID: he-dedd2b29-65a3-4339-9cd6-1ff606258ad7)...\n",
      "Task sim_2 fitness: 0.2840031871107234\n",
      "Loading task sim_3 (ID: he-bec3ee82-ae17-44ea-904f-2f5264a03aa0)...\n",
      "Task sim_3 fitness: 0.23615850175798514\n",
      "Loading task sim_4 (ID: he-b53cc365-86a3-4340-ba7b-0f990dafc72e)...\n",
      "Task sim_4 fitness: 0.4760648114451715\n",
      "Loading task sim_5 (ID: he-c938d0df-1277-46ac-b2cd-22618156c01a)...\n",
      "Task sim_5 fitness: 0.29094773352267134\n",
      "Loading task sim_6 (ID: he-c37276e5-5ff7-4243-bd9a-662a5d5ec1ee)...\n",
      "Task sim_6 fitness: 0.34804430897967875\n",
      "Loading task sim_7 (ID: he-7bc1ca29-7ebc-4466-969d-3599a9fc71c0)...\n",
      "Task sim_7 fitness: 0.10589984445468223\n",
      "Loading task sim_8 (ID: he-502bdd31-eca0-4649-b8fd-ef295be64c68)...\n",
      "Task sim_8 fitness: 0.21964011228900818\n",
      "Loading task sim_9 (ID: he-7969699f-f3cb-48fc-9d5a-9e0422fc1d5b)...\n",
      "Task sim_9 fitness: 0.5775464178894352\n",
      "Loading task sim_10 (ID: he-bc8a7b1d-6a86-444e-ace5-671b37ec9b72)...\n",
      "Task sim_10 fitness: 0.1945072387587653\n",
      "Loading task sim_11 (ID: he-f42640df-ed5a-48dd-922f-a2ae2b59c7a7)...\n",
      "Task sim_11 fitness: 0.10733466878802148\n",
      "Loading task sim_12 (ID: he-249355f3-b11f-4648-8f51-f70b91c33fe9)...\n",
      "Task sim_12 fitness: 0.4118360269342117\n",
      "Loading task sim_13 (ID: he-414e927f-607f-412f-9fb7-b77b1545039a)...\n",
      "Task sim_13 fitness: 0.15860808512811908\n",
      "Loading task sim_14 (ID: he-83ecfab0-2704-4c62-a420-3e626c4fac70)...\n",
      "Task sim_14 fitness: 0.5722994653665366\n",
      "Loading task sim_15 (ID: he-9b7b7b9f-6acd-4329-8ab9-e8c15ad42fca)...\n",
      "Task sim_15 fitness: 0.1570996203451549\n",
      "Loading task sim_16 (ID: he-d8167fa6-01d5-48ee-a60b-82ddfe5894fd)...\n",
      "Task sim_16 fitness: 0.19422448731944497\n",
      "Loading task sim_17 (ID: he-933362e0-b5b5-44e2-be5b-ce4076f543a3)...\n",
      "Task sim_17 fitness: 0.16567931858039672\n",
      "Loading task sim_18 (ID: he-6e4a219f-b121-498f-870e-7274adedee78)...\n",
      "Task sim_18 fitness: 0.16396116052389\n",
      "Loading task sim_19 (ID: he-5e951007-650e-4415-9aec-413d02fffd54)...\n",
      "Task sim_19 fitness: 0.1404297869043776\n",
      "Loading task sim_20 (ID: he-05b14e9b-357d-4bcd-b9fa-038f7503e728)...\n",
      "Task sim_20 fitness: 0.5661326730424395\n",
      "Loading task sim_21 (ID: he-1329e5d3-7e2a-4f8f-a343-d6d84fbd9945)...\n",
      "Task sim_21 fitness: 0.3009751183004883\n",
      "Loading task sim_22 (ID: he-48a203c6-48a8-489c-9c48-1d9db133426d)...\n",
      "Task sim_22 fitness: 0.3232848635939271\n",
      "Loading task sim_23 (ID: he-e38de07d-d337-40d7-bc63-871363d634e1)...\n",
      "Task sim_23 fitness: 0.6520580158289874\n",
      "Loading task sim_24 (ID: he-d28f4644-c10d-4f14-8f05-cd5a2ef52f7c)...\n",
      "Task sim_24 fitness: 0.7800078011250687\n",
      "Loading task sim_25 (ID: he-0caf218d-e08b-4a9c-b96b-048956d46341)...\n",
      "Task sim_25 fitness: 0.15193951231593988\n",
      "Loading task sim_26 (ID: he-52ef62db-62fb-4464-b1b7-56f60ea882c6)...\n",
      "Task sim_26 fitness: 0.12991171396855386\n",
      "Loading task sim_27 (ID: he-36ae2e02-ff9c-481e-a7a9-c3b7822ed3c8)...\n",
      "Task sim_27 fitness: 0.5640914278729598\n",
      "Loading task sim_28 (ID: he-f6ae6393-03b0-45ec-a529-f89d7a9299c2)...\n",
      "Task sim_28 fitness: 0.20923370700502925\n",
      "Generation:3: Best Fitness = 0.796\n"
     ]
    },
    {
     "data": {
      "text/html": [
       "<pre style=\"white-space:pre;overflow-x:auto;line-height:normal;font-family:Menlo,'DejaVu Sans Mono',consolas,'Courier New',monospace\"><span style=\"color: #7fbfbf; text-decoration-color: #7fbfbf\">16:13:35 GMT 夏令时 </span><span style=\"color: #800000; text-decoration-color: #800000\">WARNING: No connection: Retrying for </span><span style=\"color: #008080; text-decoration-color: #008080; font-weight: bold\">180</span><span style=\"color: #800000; text-decoration-color: #800000\"> seconds.           </span>\n",
       "</pre>\n"
      ],
      "text/plain": [
       "\u001b[2;36m16:13:35 GMT 夏令时\u001b[0m\u001b[2;36m \u001b[0m\u001b[31mWARNING: No connection: Retrying for \u001b[0m\u001b[1;36m180\u001b[0m\u001b[31m seconds.           \u001b[0m\n"
      ]
     },
     "metadata": {},
     "output_type": "display_data"
    },
    {
     "data": {
      "text/html": [
       "<pre style=\"white-space:pre;overflow-x:auto;line-height:normal;font-family:Menlo,'DejaVu Sans Mono',consolas,'Courier New',monospace\"><span style=\"color: #7fbfbf; text-decoration-color: #7fbfbf\">16:13:39 GMT 夏令时 </span><span style=\"color: #800000; text-decoration-color: #800000\">WARNING: No connection: Retrying for </span><span style=\"color: #008080; text-decoration-color: #008080; font-weight: bold\">180</span><span style=\"color: #800000; text-decoration-color: #800000\"> seconds.           </span>\n",
       "</pre>\n"
      ],
      "text/plain": [
       "\u001b[2;36m16:13:39 GMT 夏令时\u001b[0m\u001b[2;36m \u001b[0m\u001b[31mWARNING: No connection: Retrying for \u001b[0m\u001b[1;36m180\u001b[0m\u001b[31m seconds.           \u001b[0m\n"
      ]
     },
     "metadata": {},
     "output_type": "display_data"
    },
    {
     "data": {
      "text/html": [
       "<pre style=\"white-space:pre;overflow-x:auto;line-height:normal;font-family:Menlo,'DejaVu Sans Mono',consolas,'Courier New',monospace\"><span style=\"color: #7fbfbf; text-decoration-color: #7fbfbf\">                 </span><span style=\"color: #800000; text-decoration-color: #800000\">WARNING: No connection: Retrying for </span><span style=\"color: #008080; text-decoration-color: #008080; font-weight: bold\">180</span><span style=\"color: #800000; text-decoration-color: #800000\"> seconds.              </span>\n",
       "</pre>\n"
      ],
      "text/plain": [
       "\u001b[2;36m                \u001b[0m\u001b[2;36m \u001b[0m\u001b[31mWARNING: No connection: Retrying for \u001b[0m\u001b[1;36m180\u001b[0m\u001b[31m seconds.              \u001b[0m\n"
      ]
     },
     "metadata": {},
     "output_type": "display_data"
    },
    {
     "data": {
      "text/html": [
       "<pre style=\"white-space:pre;overflow-x:auto;line-height:normal;font-family:Menlo,'DejaVu Sans Mono',consolas,'Courier New',monospace\"><span style=\"color: #7fbfbf; text-decoration-color: #7fbfbf\">16:13:41 GMT 夏令时 </span><span style=\"color: #800000; text-decoration-color: #800000\">WARNING: No connection: Retrying for </span><span style=\"color: #008080; text-decoration-color: #008080; font-weight: bold\">180</span><span style=\"color: #800000; text-decoration-color: #800000\"> seconds.           </span>\n",
       "</pre>\n"
      ],
      "text/plain": [
       "\u001b[2;36m16:13:41 GMT 夏令时\u001b[0m\u001b[2;36m \u001b[0m\u001b[31mWARNING: No connection: Retrying for \u001b[0m\u001b[1;36m180\u001b[0m\u001b[31m seconds.           \u001b[0m\n"
      ]
     },
     "metadata": {},
     "output_type": "display_data"
    },
    {
     "data": {
      "text/html": [
       "<pre style=\"white-space:pre;overflow-x:auto;line-height:normal;font-family:Menlo,'DejaVu Sans Mono',consolas,'Courier New',monospace\"><span style=\"color: #7fbfbf; text-decoration-color: #7fbfbf\">                 </span><span style=\"color: #800000; text-decoration-color: #800000\">WARNING: No connection: Retrying for </span><span style=\"color: #008080; text-decoration-color: #008080; font-weight: bold\">180</span><span style=\"color: #800000; text-decoration-color: #800000\"> seconds.              </span>\n",
       "</pre>\n"
      ],
      "text/plain": [
       "\u001b[2;36m                \u001b[0m\u001b[2;36m \u001b[0m\u001b[31mWARNING: No connection: Retrying for \u001b[0m\u001b[1;36m180\u001b[0m\u001b[31m seconds.              \u001b[0m\n"
      ]
     },
     "metadata": {},
     "output_type": "display_data"
    },
    {
     "data": {
      "text/html": [
       "<pre style=\"white-space:pre;overflow-x:auto;line-height:normal;font-family:Menlo,'DejaVu Sans Mono',consolas,'Courier New',monospace\"><span style=\"color: #7fbfbf; text-decoration-color: #7fbfbf\">                 </span><span style=\"color: #800000; text-decoration-color: #800000\">WARNING: No connection: Retrying for </span><span style=\"color: #008080; text-decoration-color: #008080; font-weight: bold\">180</span><span style=\"color: #800000; text-decoration-color: #800000\"> seconds.              </span>\n",
       "</pre>\n"
      ],
      "text/plain": [
       "\u001b[2;36m                \u001b[0m\u001b[2;36m \u001b[0m\u001b[31mWARNING: No connection: Retrying for \u001b[0m\u001b[1;36m180\u001b[0m\u001b[31m seconds.              \u001b[0m\n"
      ]
     },
     "metadata": {},
     "output_type": "display_data"
    },
    {
     "data": {
      "text/html": [
       "<pre style=\"white-space:pre;overflow-x:auto;line-height:normal;font-family:Menlo,'DejaVu Sans Mono',consolas,'Courier New',monospace\"><span style=\"color: #7fbfbf; text-decoration-color: #7fbfbf\">16:13:42 GMT 夏令时 </span><span style=\"color: #800000; text-decoration-color: #800000\">WARNING: No connection: Retrying for </span><span style=\"color: #008080; text-decoration-color: #008080; font-weight: bold\">180</span><span style=\"color: #800000; text-decoration-color: #800000\"> seconds.           </span>\n",
       "</pre>\n"
      ],
      "text/plain": [
       "\u001b[2;36m16:13:42 GMT 夏令时\u001b[0m\u001b[2;36m \u001b[0m\u001b[31mWARNING: No connection: Retrying for \u001b[0m\u001b[1;36m180\u001b[0m\u001b[31m seconds.           \u001b[0m\n"
      ]
     },
     "metadata": {},
     "output_type": "display_data"
    },
    {
     "name": "stdout",
     "output_type": "stream",
     "text": [
      "Batch submitted.\n",
      "Loading task sim_0 (ID: he-6fb3efe3-f828-464f-81fc-548fea651a39)...\n",
      "Task sim_0 fitness: 0.5608038586050341\n",
      "Loading task sim_1 (ID: he-7fb1b053-c8f2-433d-bbb6-511d23416294)...\n",
      "Task sim_1 fitness: 0.6036152584835491\n",
      "Loading task sim_2 (ID: he-d0445445-7f9c-49db-ba7c-009fac937bc9)...\n",
      "Task sim_2 fitness: 0.4522538343721391\n",
      "Loading task sim_3 (ID: he-27672ebf-4b98-4962-a7aa-dfc7bed0624c)...\n",
      "Task sim_3 fitness: 0.40647964644518797\n",
      "Loading task sim_4 (ID: he-f050bbbd-d62a-4161-9e94-5cbda3084712)...\n",
      "Task sim_4 fitness: 0.38383737515046706\n",
      "Loading task sim_5 (ID: he-c1ffcff1-ea4a-44b3-ae42-9a652067c8e5)...\n",
      "Task sim_5 fitness: 0.453818184557513\n",
      "Loading task sim_6 (ID: he-f8bd0840-cb9c-47df-abb4-15b20519988f)...\n",
      "Task sim_6 fitness: 0.5563008030830467\n",
      "Loading task sim_7 (ID: he-d69ad95b-0bbe-4201-a881-9cce0d81638d)...\n",
      "Task sim_7 fitness: 0.19547981875102205\n",
      "Loading task sim_8 (ID: he-c94aa38a-7502-4fca-9aca-278052e6483e)...\n",
      "Task sim_8 fitness: 0.4980564888092683\n",
      "Loading task sim_9 (ID: he-02530b7a-b1fe-4439-81f2-4bec199a4b57)...\n",
      "Task sim_9 fitness: 0.5616382426750917\n",
      "Loading task sim_10 (ID: he-44ce3611-8b7d-484d-8f9b-ffb78b3b9500)...\n",
      "Task sim_10 fitness: 0.24317445321784664\n",
      "Loading task sim_11 (ID: he-266a5a71-488e-43b1-9589-f12b18410f1f)...\n",
      "Task sim_11 fitness: 0.31619243525111324\n",
      "Loading task sim_12 (ID: he-1f3f3674-02d5-4988-a6e1-40722f80ac87)...\n",
      "Task sim_12 fitness: 0.13619322427070496\n",
      "Loading task sim_13 (ID: he-d73dfd2e-40fc-4d01-99ea-eef7bdfb58bf)...\n",
      "Task sim_13 fitness: 0.48177438948659523\n",
      "Loading task sim_14 (ID: he-c9e1b8d8-e16c-453a-b447-cd2b5090ad67)...\n",
      "Task sim_14 fitness: 0.5920243916947201\n",
      "Loading task sim_15 (ID: he-49b6eabd-0323-42fd-84be-c675e233c9ea)...\n",
      "Task sim_15 fitness: 0.7163444129782356\n",
      "Loading task sim_16 (ID: he-7b494f01-6499-4b8b-9648-6dc33f998936)...\n",
      "Task sim_16 fitness: 0.34130245824966154\n",
      "Loading task sim_17 (ID: he-a34fb147-0082-444c-a1ea-7f425b0a80e1)...\n",
      "Task sim_17 fitness: 0.4157978648635726\n",
      "Loading task sim_18 (ID: he-b9c61137-7b80-403c-915b-9f0b4d66d222)...\n",
      "Task sim_18 fitness: 0.5587026770842678\n",
      "Loading task sim_19 (ID: he-04261173-6d75-4d4c-a75a-240e1d5b73d9)...\n",
      "Task sim_19 fitness: 0.458023773243916\n",
      "Loading task sim_20 (ID: he-53e5c27f-ec3f-4318-a438-41e3926db7f8)...\n",
      "Task sim_20 fitness: 0.4459164507693521\n",
      "Loading task sim_21 (ID: he-88fdec08-1db0-48bc-955c-3cddc647b7b3)...\n",
      "Task sim_21 fitness: 0.3306870046501655\n",
      "Loading task sim_22 (ID: he-6a7bff2c-a32d-4835-a89b-284bc12d5410)...\n",
      "Task sim_22 fitness: 0.42027406026286995\n",
      "Loading task sim_23 (ID: he-2166e1f2-91f1-4a6b-850c-d8c76949eecd)...\n",
      "Task sim_23 fitness: 0.5148240843182379\n",
      "Loading task sim_24 (ID: he-5b9d7162-932a-4e19-a4f5-7336903fbbfa)...\n",
      "Task sim_24 fitness: 0.4226480964931513\n",
      "Loading task sim_25 (ID: he-53037512-0533-4572-9cba-8d42e89e5fd2)...\n",
      "Task sim_25 fitness: 0.4514797220041789\n",
      "Loading task sim_26 (ID: he-f459b50a-c3a1-44be-90d5-cdedcaddade8)...\n",
      "Task sim_26 fitness: 0.43113440740717696\n",
      "Generation:4: Best Fitness = 0.796\n"
     ]
    },
    {
     "data": {
      "text/html": [
       "<pre style=\"white-space:pre;overflow-x:auto;line-height:normal;font-family:Menlo,'DejaVu Sans Mono',consolas,'Courier New',monospace\"><span style=\"color: #7fbfbf; text-decoration-color: #7fbfbf\">17:41:01 GMT 夏令时 </span><span style=\"color: #800000; text-decoration-color: #800000\">WARNING: No connection: Retrying for </span><span style=\"color: #008080; text-decoration-color: #008080; font-weight: bold\">180</span><span style=\"color: #800000; text-decoration-color: #800000\"> seconds.           </span>\n",
       "</pre>\n"
      ],
      "text/plain": [
       "\u001b[2;36m17:41:01 GMT 夏令时\u001b[0m\u001b[2;36m \u001b[0m\u001b[31mWARNING: No connection: Retrying for \u001b[0m\u001b[1;36m180\u001b[0m\u001b[31m seconds.           \u001b[0m\n"
      ]
     },
     "metadata": {},
     "output_type": "display_data"
    },
    {
     "data": {
      "text/html": [
       "<pre style=\"white-space:pre;overflow-x:auto;line-height:normal;font-family:Menlo,'DejaVu Sans Mono',consolas,'Courier New',monospace\"><span style=\"color: #7fbfbf; text-decoration-color: #7fbfbf\">17:41:04 GMT 夏令时 </span><span style=\"color: #800000; text-decoration-color: #800000\">WARNING: No connection: Retrying for </span><span style=\"color: #008080; text-decoration-color: #008080; font-weight: bold\">180</span><span style=\"color: #800000; text-decoration-color: #800000\"> seconds.           </span>\n",
       "</pre>\n"
      ],
      "text/plain": [
       "\u001b[2;36m17:41:04 GMT 夏令时\u001b[0m\u001b[2;36m \u001b[0m\u001b[31mWARNING: No connection: Retrying for \u001b[0m\u001b[1;36m180\u001b[0m\u001b[31m seconds.           \u001b[0m\n"
      ]
     },
     "metadata": {},
     "output_type": "display_data"
    },
    {
     "data": {
      "text/html": [
       "<pre style=\"white-space:pre;overflow-x:auto;line-height:normal;font-family:Menlo,'DejaVu Sans Mono',consolas,'Courier New',monospace\"><span style=\"color: #7fbfbf; text-decoration-color: #7fbfbf\">                 </span><span style=\"color: #800000; text-decoration-color: #800000\">WARNING: No connection: Retrying for </span><span style=\"color: #008080; text-decoration-color: #008080; font-weight: bold\">180</span><span style=\"color: #800000; text-decoration-color: #800000\"> seconds.              </span>\n",
       "</pre>\n"
      ],
      "text/plain": [
       "\u001b[2;36m                \u001b[0m\u001b[2;36m \u001b[0m\u001b[31mWARNING: No connection: Retrying for \u001b[0m\u001b[1;36m180\u001b[0m\u001b[31m seconds.              \u001b[0m\n"
      ]
     },
     "metadata": {},
     "output_type": "display_data"
    },
    {
     "data": {
      "text/html": [
       "<pre style=\"white-space:pre;overflow-x:auto;line-height:normal;font-family:Menlo,'DejaVu Sans Mono',consolas,'Courier New',monospace\"><span style=\"color: #7fbfbf; text-decoration-color: #7fbfbf\">17:41:06 GMT 夏令时 </span><span style=\"color: #800000; text-decoration-color: #800000\">WARNING: No connection: Retrying for </span><span style=\"color: #008080; text-decoration-color: #008080; font-weight: bold\">180</span><span style=\"color: #800000; text-decoration-color: #800000\"> seconds.           </span>\n",
       "</pre>\n"
      ],
      "text/plain": [
       "\u001b[2;36m17:41:06 GMT 夏令时\u001b[0m\u001b[2;36m \u001b[0m\u001b[31mWARNING: No connection: Retrying for \u001b[0m\u001b[1;36m180\u001b[0m\u001b[31m seconds.           \u001b[0m\n"
      ]
     },
     "metadata": {},
     "output_type": "display_data"
    },
    {
     "data": {
      "text/html": [
       "<pre style=\"white-space:pre;overflow-x:auto;line-height:normal;font-family:Menlo,'DejaVu Sans Mono',consolas,'Courier New',monospace\"><span style=\"color: #7fbfbf; text-decoration-color: #7fbfbf\">                 </span><span style=\"color: #800000; text-decoration-color: #800000\">WARNING: No connection: Retrying for </span><span style=\"color: #008080; text-decoration-color: #008080; font-weight: bold\">180</span><span style=\"color: #800000; text-decoration-color: #800000\"> seconds.              </span>\n",
       "</pre>\n"
      ],
      "text/plain": [
       "\u001b[2;36m                \u001b[0m\u001b[2;36m \u001b[0m\u001b[31mWARNING: No connection: Retrying for \u001b[0m\u001b[1;36m180\u001b[0m\u001b[31m seconds.              \u001b[0m\n"
      ]
     },
     "metadata": {},
     "output_type": "display_data"
    },
    {
     "data": {
      "text/html": [
       "<pre style=\"white-space:pre;overflow-x:auto;line-height:normal;font-family:Menlo,'DejaVu Sans Mono',consolas,'Courier New',monospace\"><span style=\"color: #7fbfbf; text-decoration-color: #7fbfbf\">                 </span><span style=\"color: #800000; text-decoration-color: #800000\">WARNING: No connection: Retrying for </span><span style=\"color: #008080; text-decoration-color: #008080; font-weight: bold\">180</span><span style=\"color: #800000; text-decoration-color: #800000\"> seconds.              </span>\n",
       "</pre>\n"
      ],
      "text/plain": [
       "\u001b[2;36m                \u001b[0m\u001b[2;36m \u001b[0m\u001b[31mWARNING: No connection: Retrying for \u001b[0m\u001b[1;36m180\u001b[0m\u001b[31m seconds.              \u001b[0m\n"
      ]
     },
     "metadata": {},
     "output_type": "display_data"
    },
    {
     "data": {
      "text/html": [
       "<pre style=\"white-space:pre;overflow-x:auto;line-height:normal;font-family:Menlo,'DejaVu Sans Mono',consolas,'Courier New',monospace\"><span style=\"color: #7fbfbf; text-decoration-color: #7fbfbf\">                 </span><span style=\"color: #800000; text-decoration-color: #800000\">WARNING: No connection: Retrying for </span><span style=\"color: #008080; text-decoration-color: #008080; font-weight: bold\">180</span><span style=\"color: #800000; text-decoration-color: #800000\"> seconds.              </span>\n",
       "</pre>\n"
      ],
      "text/plain": [
       "\u001b[2;36m                \u001b[0m\u001b[2;36m \u001b[0m\u001b[31mWARNING: No connection: Retrying for \u001b[0m\u001b[1;36m180\u001b[0m\u001b[31m seconds.              \u001b[0m\n"
      ]
     },
     "metadata": {},
     "output_type": "display_data"
    },
    {
     "data": {
      "text/html": [
       "<pre style=\"white-space:pre;overflow-x:auto;line-height:normal;font-family:Menlo,'DejaVu Sans Mono',consolas,'Courier New',monospace\"><span style=\"color: #7fbfbf; text-decoration-color: #7fbfbf\">17:41:07 GMT 夏令时 </span><span style=\"color: #800000; text-decoration-color: #800000\">WARNING: No connection: Retrying for </span><span style=\"color: #008080; text-decoration-color: #008080; font-weight: bold\">180</span><span style=\"color: #800000; text-decoration-color: #800000\"> seconds.           </span>\n",
       "</pre>\n"
      ],
      "text/plain": [
       "\u001b[2;36m17:41:07 GMT 夏令时\u001b[0m\u001b[2;36m \u001b[0m\u001b[31mWARNING: No connection: Retrying for \u001b[0m\u001b[1;36m180\u001b[0m\u001b[31m seconds.           \u001b[0m\n"
      ]
     },
     "metadata": {},
     "output_type": "display_data"
    },
    {
     "data": {
      "text/html": [
       "<pre style=\"white-space:pre;overflow-x:auto;line-height:normal;font-family:Menlo,'DejaVu Sans Mono',consolas,'Courier New',monospace\"><span style=\"color: #7fbfbf; text-decoration-color: #7fbfbf\">                 </span><span style=\"color: #800000; text-decoration-color: #800000\">WARNING: No connection: Retrying for </span><span style=\"color: #008080; text-decoration-color: #008080; font-weight: bold\">180</span><span style=\"color: #800000; text-decoration-color: #800000\"> seconds.              </span>\n",
       "</pre>\n"
      ],
      "text/plain": [
       "\u001b[2;36m                \u001b[0m\u001b[2;36m \u001b[0m\u001b[31mWARNING: No connection: Retrying for \u001b[0m\u001b[1;36m180\u001b[0m\u001b[31m seconds.              \u001b[0m\n"
      ]
     },
     "metadata": {},
     "output_type": "display_data"
    },
    {
     "data": {
      "text/html": [
       "<pre style=\"white-space:pre;overflow-x:auto;line-height:normal;font-family:Menlo,'DejaVu Sans Mono',consolas,'Courier New',monospace\"><span style=\"color: #7fbfbf; text-decoration-color: #7fbfbf\">17:41:08 GMT 夏令时 </span><span style=\"color: #800000; text-decoration-color: #800000\">WARNING: No connection: Retrying for </span><span style=\"color: #008080; text-decoration-color: #008080; font-weight: bold\">180</span><span style=\"color: #800000; text-decoration-color: #800000\"> seconds.           </span>\n",
       "</pre>\n"
      ],
      "text/plain": [
       "\u001b[2;36m17:41:08 GMT 夏令时\u001b[0m\u001b[2;36m \u001b[0m\u001b[31mWARNING: No connection: Retrying for \u001b[0m\u001b[1;36m180\u001b[0m\u001b[31m seconds.           \u001b[0m\n"
      ]
     },
     "metadata": {},
     "output_type": "display_data"
    },
    {
     "data": {
      "text/html": [
       "<pre style=\"white-space:pre;overflow-x:auto;line-height:normal;font-family:Menlo,'DejaVu Sans Mono',consolas,'Courier New',monospace\"><span style=\"color: #7fbfbf; text-decoration-color: #7fbfbf\">17:43:02 GMT 夏令时 </span><span style=\"color: #800000; text-decoration-color: #800000\">WARNING: No connection: Retrying for </span><span style=\"color: #008080; text-decoration-color: #008080; font-weight: bold\">180</span><span style=\"color: #800000; text-decoration-color: #800000\"> seconds.           </span>\n",
       "</pre>\n"
      ],
      "text/plain": [
       "\u001b[2;36m17:43:02 GMT 夏令时\u001b[0m\u001b[2;36m \u001b[0m\u001b[31mWARNING: No connection: Retrying for \u001b[0m\u001b[1;36m180\u001b[0m\u001b[31m seconds.           \u001b[0m\n"
      ]
     },
     "metadata": {},
     "output_type": "display_data"
    },
    {
     "data": {
      "text/html": [
       "<pre style=\"white-space:pre;overflow-x:auto;line-height:normal;font-family:Menlo,'DejaVu Sans Mono',consolas,'Courier New',monospace\"><span style=\"color: #7fbfbf; text-decoration-color: #7fbfbf\">                 </span><span style=\"color: #800000; text-decoration-color: #800000\">WARNING: No connection: Retrying for </span><span style=\"color: #008080; text-decoration-color: #008080; font-weight: bold\">180</span><span style=\"color: #800000; text-decoration-color: #800000\"> seconds.              </span>\n",
       "</pre>\n"
      ],
      "text/plain": [
       "\u001b[2;36m                \u001b[0m\u001b[2;36m \u001b[0m\u001b[31mWARNING: No connection: Retrying for \u001b[0m\u001b[1;36m180\u001b[0m\u001b[31m seconds.              \u001b[0m\n"
      ]
     },
     "metadata": {},
     "output_type": "display_data"
    },
    {
     "data": {
      "text/html": [
       "<pre style=\"white-space:pre;overflow-x:auto;line-height:normal;font-family:Menlo,'DejaVu Sans Mono',consolas,'Courier New',monospace\"><span style=\"color: #7fbfbf; text-decoration-color: #7fbfbf\">17:43:06 GMT 夏令时 </span><span style=\"color: #800000; text-decoration-color: #800000\">WARNING: No connection: Retrying for </span><span style=\"color: #008080; text-decoration-color: #008080; font-weight: bold\">180</span><span style=\"color: #800000; text-decoration-color: #800000\"> seconds.           </span>\n",
       "</pre>\n"
      ],
      "text/plain": [
       "\u001b[2;36m17:43:06 GMT 夏令时\u001b[0m\u001b[2;36m \u001b[0m\u001b[31mWARNING: No connection: Retrying for \u001b[0m\u001b[1;36m180\u001b[0m\u001b[31m seconds.           \u001b[0m\n"
      ]
     },
     "metadata": {},
     "output_type": "display_data"
    },
    {
     "data": {
      "text/html": [
       "<pre style=\"white-space:pre;overflow-x:auto;line-height:normal;font-family:Menlo,'DejaVu Sans Mono',consolas,'Courier New',monospace\"><span style=\"color: #7fbfbf; text-decoration-color: #7fbfbf\">                 </span><span style=\"color: #800000; text-decoration-color: #800000\">WARNING: No connection: Retrying for </span><span style=\"color: #008080; text-decoration-color: #008080; font-weight: bold\">180</span><span style=\"color: #800000; text-decoration-color: #800000\"> seconds.              </span>\n",
       "</pre>\n"
      ],
      "text/plain": [
       "\u001b[2;36m                \u001b[0m\u001b[2;36m \u001b[0m\u001b[31mWARNING: No connection: Retrying for \u001b[0m\u001b[1;36m180\u001b[0m\u001b[31m seconds.              \u001b[0m\n"
      ]
     },
     "metadata": {},
     "output_type": "display_data"
    },
    {
     "data": {
      "text/html": [
       "<pre style=\"white-space:pre;overflow-x:auto;line-height:normal;font-family:Menlo,'DejaVu Sans Mono',consolas,'Courier New',monospace\"><span style=\"color: #7fbfbf; text-decoration-color: #7fbfbf\">                 </span><span style=\"color: #800000; text-decoration-color: #800000\">WARNING: No connection: Retrying for </span><span style=\"color: #008080; text-decoration-color: #008080; font-weight: bold\">180</span><span style=\"color: #800000; text-decoration-color: #800000\"> seconds.              </span>\n",
       "</pre>\n"
      ],
      "text/plain": [
       "\u001b[2;36m                \u001b[0m\u001b[2;36m \u001b[0m\u001b[31mWARNING: No connection: Retrying for \u001b[0m\u001b[1;36m180\u001b[0m\u001b[31m seconds.              \u001b[0m\n"
      ]
     },
     "metadata": {},
     "output_type": "display_data"
    },
    {
     "data": {
      "text/html": [
       "<pre style=\"white-space:pre;overflow-x:auto;line-height:normal;font-family:Menlo,'DejaVu Sans Mono',consolas,'Courier New',monospace\"><span style=\"color: #7fbfbf; text-decoration-color: #7fbfbf\">                 </span><span style=\"color: #800000; text-decoration-color: #800000\">WARNING: No connection: Retrying for </span><span style=\"color: #008080; text-decoration-color: #008080; font-weight: bold\">180</span><span style=\"color: #800000; text-decoration-color: #800000\"> seconds.              </span>\n",
       "</pre>\n"
      ],
      "text/plain": [
       "\u001b[2;36m                \u001b[0m\u001b[2;36m \u001b[0m\u001b[31mWARNING: No connection: Retrying for \u001b[0m\u001b[1;36m180\u001b[0m\u001b[31m seconds.              \u001b[0m\n"
      ]
     },
     "metadata": {},
     "output_type": "display_data"
    },
    {
     "data": {
      "text/html": [
       "<pre style=\"white-space:pre;overflow-x:auto;line-height:normal;font-family:Menlo,'DejaVu Sans Mono',consolas,'Courier New',monospace\"><span style=\"color: #7fbfbf; text-decoration-color: #7fbfbf\">                 </span><span style=\"color: #800000; text-decoration-color: #800000\">WARNING: No connection: Retrying for </span><span style=\"color: #008080; text-decoration-color: #008080; font-weight: bold\">180</span><span style=\"color: #800000; text-decoration-color: #800000\"> seconds.              </span>\n",
       "</pre>\n"
      ],
      "text/plain": [
       "\u001b[2;36m                \u001b[0m\u001b[2;36m \u001b[0m\u001b[31mWARNING: No connection: Retrying for \u001b[0m\u001b[1;36m180\u001b[0m\u001b[31m seconds.              \u001b[0m\n"
      ]
     },
     "metadata": {},
     "output_type": "display_data"
    },
    {
     "data": {
      "text/html": [
       "<pre style=\"white-space:pre;overflow-x:auto;line-height:normal;font-family:Menlo,'DejaVu Sans Mono',consolas,'Courier New',monospace\"><span style=\"color: #7fbfbf; text-decoration-color: #7fbfbf\">                 </span><span style=\"color: #800000; text-decoration-color: #800000\">WARNING: No connection: Retrying for </span><span style=\"color: #008080; text-decoration-color: #008080; font-weight: bold\">180</span><span style=\"color: #800000; text-decoration-color: #800000\"> seconds.              </span>\n",
       "</pre>\n"
      ],
      "text/plain": [
       "\u001b[2;36m                \u001b[0m\u001b[2;36m \u001b[0m\u001b[31mWARNING: No connection: Retrying for \u001b[0m\u001b[1;36m180\u001b[0m\u001b[31m seconds.              \u001b[0m\n"
      ]
     },
     "metadata": {},
     "output_type": "display_data"
    },
    {
     "data": {
      "text/html": [
       "<pre style=\"white-space:pre;overflow-x:auto;line-height:normal;font-family:Menlo,'DejaVu Sans Mono',consolas,'Courier New',monospace\"><span style=\"color: #7fbfbf; text-decoration-color: #7fbfbf\">17:45:49 GMT 夏令时 </span><span style=\"color: #800000; text-decoration-color: #800000\">WARNING: No connection: Retrying for </span><span style=\"color: #008080; text-decoration-color: #008080; font-weight: bold\">180</span><span style=\"color: #800000; text-decoration-color: #800000\"> seconds.           </span>\n",
       "</pre>\n"
      ],
      "text/plain": [
       "\u001b[2;36m17:45:49 GMT 夏令时\u001b[0m\u001b[2;36m \u001b[0m\u001b[31mWARNING: No connection: Retrying for \u001b[0m\u001b[1;36m180\u001b[0m\u001b[31m seconds.           \u001b[0m\n"
      ]
     },
     "metadata": {},
     "output_type": "display_data"
    },
    {
     "name": "stdout",
     "output_type": "stream",
     "text": [
      "Batch submitted.\n",
      "Loading task sim_0 (ID: he-3b62467b-cea0-4e5e-aa1a-233ae2cf59a7)...\n",
      "Task sim_0 fitness: 0.5886334815597187\n",
      "Loading task sim_1 (ID: he-96288fcb-7536-4209-96b0-fe1a77f6a70b)...\n",
      "Task sim_1 fitness: 0.4601268719791426\n",
      "Loading task sim_2 (ID: he-326a288b-3aa8-4248-98d8-c6cf0ac56eb9)...\n",
      "Task sim_2 fitness: 0.3414932378500022\n",
      "Loading task sim_3 (ID: he-e2f347d0-0dba-4d4e-859b-4669f5b7716b)...\n",
      "Task sim_3 fitness: 0.30822302765174925\n",
      "Loading task sim_4 (ID: he-812403a0-c041-4fd0-82f3-7f606291f329)...\n",
      "Task sim_4 fitness: 0.6978146127482303\n",
      "Loading task sim_5 (ID: he-2daa6e47-2cb0-45d3-be45-32498fc29763)...\n",
      "Task sim_5 fitness: 0.5584355345742934\n",
      "Loading task sim_6 (ID: he-2c3f3d22-7f85-4cbd-b42c-8e9be39bfc21)...\n",
      "Task sim_6 fitness: 0.5324289877457615\n",
      "Loading task sim_7 (ID: he-03890708-7272-4695-b4da-5b68888c9e78)...\n",
      "Task sim_7 fitness: 0.722571329082462\n",
      "Loading task sim_8 (ID: he-16690ee1-e79e-4830-bc8b-68d8543e23ff)...\n",
      "Task sim_8 fitness: 0.6576067465358769\n",
      "Loading task sim_9 (ID: he-c11ee562-7b1b-4ac8-817c-0cc976847705)...\n",
      "Task sim_9 fitness: 0.5570469922231236\n",
      "Loading task sim_10 (ID: he-15bbb965-9cfa-458d-8f7a-609c54570bba)...\n",
      "Task sim_10 fitness: 0.6457021440345914\n",
      "Loading task sim_11 (ID: he-526d5993-39cb-45bd-82b3-d4c277977223)...\n",
      "Task sim_11 fitness: 0.4600650437278776\n",
      "Loading task sim_12 (ID: he-dc0d1fe5-fae7-4857-b438-dde1a8f12601)...\n",
      "Task sim_12 fitness: 0.4624769842657215\n",
      "Loading task sim_13 (ID: he-f564d202-73ee-4eac-9c26-b6aa35db9592)...\n",
      "Task sim_13 fitness: 0.5605798655849707\n",
      "Loading task sim_14 (ID: he-989890f3-c4a9-4fbd-ac62-48549ac8a528)...\n",
      "Task sim_14 fitness: 0.5476526935198572\n",
      "Loading task sim_15 (ID: he-5ffbec9c-f2e5-4283-a3c3-549b619385fe)...\n",
      "Task sim_15 fitness: 0.5726889528742136\n",
      "Loading task sim_16 (ID: he-b1a6fbd4-070a-4782-bd99-4068539e5e28)...\n",
      "Task sim_16 fitness: 0.5514013347301651\n",
      "Loading task sim_17 (ID: he-1c120fdb-445a-4390-a5f6-ab2520901f4b)...\n",
      "Task sim_17 fitness: 0.6131940306493745\n",
      "Loading task sim_18 (ID: he-df047e45-cb36-42a1-bfef-9f6e7642b788)...\n",
      "Task sim_18 fitness: 0.468529424782782\n",
      "Loading task sim_19 (ID: he-4ee1f005-6801-4e04-a639-3b694f51eb67)...\n",
      "Task sim_19 fitness: 0.5879408127746778\n",
      "Loading task sim_20 (ID: he-697954d3-392b-48cc-a23a-fcb96ca98d9a)...\n",
      "Task sim_20 fitness: 0.46803782359032853\n",
      "Loading task sim_21 (ID: he-46bcf73b-3a31-4674-baae-408780712a22)...\n",
      "Task sim_21 fitness: 0.42319136692366544\n",
      "Loading task sim_22 (ID: he-f10063c5-bb12-49d3-a7d4-0f57624b76eb)...\n",
      "Task sim_22 fitness: 0.4989892579575234\n",
      "Loading task sim_23 (ID: he-327454c2-c954-4fc3-86dc-1c0243883749)...\n",
      "Task sim_23 fitness: 0.5460955571867276\n",
      "Loading task sim_24 (ID: he-6a53a3fd-424d-4ac7-903b-e039d8167232)...\n",
      "Task sim_24 fitness: 0.5740939087302069\n",
      "Loading task sim_25 (ID: he-2969ae09-d391-4efd-81bd-53e8d80df35d)...\n",
      "Task sim_25 fitness: 0.5546977268235654\n",
      "Loading task sim_26 (ID: he-aecb4c6e-2e66-4cf3-8b1f-c3d1dc6338dc)...\n",
      "Task sim_26 fitness: 0.4629121835108231\n",
      "Loading task sim_27 (ID: he-399531b5-ab86-4866-821e-796d1943f010)...\n",
      "Task sim_27 fitness: 0.3878694427397587\n",
      "Generation:5: Best Fitness = 0.796\n"
     ]
    },
    {
     "data": {
      "text/html": [
       "<pre style=\"white-space:pre;overflow-x:auto;line-height:normal;font-family:Menlo,'DejaVu Sans Mono',consolas,'Courier New',monospace\"><span style=\"color: #7fbfbf; text-decoration-color: #7fbfbf\">19:06:31 GMT 夏令时 </span><span style=\"color: #800000; text-decoration-color: #800000\">WARNING: No connection: Retrying for </span><span style=\"color: #008080; text-decoration-color: #008080; font-weight: bold\">180</span><span style=\"color: #800000; text-decoration-color: #800000\"> seconds.           </span>\n",
       "</pre>\n"
      ],
      "text/plain": [
       "\u001b[2;36m19:06:31 GMT 夏令时\u001b[0m\u001b[2;36m \u001b[0m\u001b[31mWARNING: No connection: Retrying for \u001b[0m\u001b[1;36m180\u001b[0m\u001b[31m seconds.           \u001b[0m\n"
      ]
     },
     "metadata": {},
     "output_type": "display_data"
    },
    {
     "data": {
      "text/html": [
       "<pre style=\"white-space:pre;overflow-x:auto;line-height:normal;font-family:Menlo,'DejaVu Sans Mono',consolas,'Courier New',monospace\"><span style=\"color: #7fbfbf; text-decoration-color: #7fbfbf\">19:06:32 GMT 夏令时 </span><span style=\"color: #800000; text-decoration-color: #800000\">WARNING: No connection: Retrying for </span><span style=\"color: #008080; text-decoration-color: #008080; font-weight: bold\">180</span><span style=\"color: #800000; text-decoration-color: #800000\"> seconds.           </span>\n",
       "</pre>\n"
      ],
      "text/plain": [
       "\u001b[2;36m19:06:32 GMT 夏令时\u001b[0m\u001b[2;36m \u001b[0m\u001b[31mWARNING: No connection: Retrying for \u001b[0m\u001b[1;36m180\u001b[0m\u001b[31m seconds.           \u001b[0m\n"
      ]
     },
     "metadata": {},
     "output_type": "display_data"
    },
    {
     "data": {
      "text/html": [
       "<pre style=\"white-space:pre;overflow-x:auto;line-height:normal;font-family:Menlo,'DejaVu Sans Mono',consolas,'Courier New',monospace\"><span style=\"color: #7fbfbf; text-decoration-color: #7fbfbf\">19:06:33 GMT 夏令时 </span><span style=\"color: #800000; text-decoration-color: #800000\">WARNING: No connection: Retrying for </span><span style=\"color: #008080; text-decoration-color: #008080; font-weight: bold\">180</span><span style=\"color: #800000; text-decoration-color: #800000\"> seconds.           </span>\n",
       "</pre>\n"
      ],
      "text/plain": [
       "\u001b[2;36m19:06:33 GMT 夏令时\u001b[0m\u001b[2;36m \u001b[0m\u001b[31mWARNING: No connection: Retrying for \u001b[0m\u001b[1;36m180\u001b[0m\u001b[31m seconds.           \u001b[0m\n"
      ]
     },
     "metadata": {},
     "output_type": "display_data"
    },
    {
     "data": {
      "text/html": [
       "<pre style=\"white-space:pre;overflow-x:auto;line-height:normal;font-family:Menlo,'DejaVu Sans Mono',consolas,'Courier New',monospace\"><span style=\"color: #7fbfbf; text-decoration-color: #7fbfbf\">                 </span><span style=\"color: #800000; text-decoration-color: #800000\">WARNING: No connection: Retrying for </span><span style=\"color: #008080; text-decoration-color: #008080; font-weight: bold\">180</span><span style=\"color: #800000; text-decoration-color: #800000\"> seconds.              </span>\n",
       "</pre>\n"
      ],
      "text/plain": [
       "\u001b[2;36m                \u001b[0m\u001b[2;36m \u001b[0m\u001b[31mWARNING: No connection: Retrying for \u001b[0m\u001b[1;36m180\u001b[0m\u001b[31m seconds.              \u001b[0m\n"
      ]
     },
     "metadata": {},
     "output_type": "display_data"
    },
    {
     "data": {
      "text/html": [
       "<pre style=\"white-space:pre;overflow-x:auto;line-height:normal;font-family:Menlo,'DejaVu Sans Mono',consolas,'Courier New',monospace\"><span style=\"color: #7fbfbf; text-decoration-color: #7fbfbf\">19:06:34 GMT 夏令时 </span><span style=\"color: #800000; text-decoration-color: #800000\">WARNING: No connection: Retrying for </span><span style=\"color: #008080; text-decoration-color: #008080; font-weight: bold\">180</span><span style=\"color: #800000; text-decoration-color: #800000\"> seconds.           </span>\n",
       "</pre>\n"
      ],
      "text/plain": [
       "\u001b[2;36m19:06:34 GMT 夏令时\u001b[0m\u001b[2;36m \u001b[0m\u001b[31mWARNING: No connection: Retrying for \u001b[0m\u001b[1;36m180\u001b[0m\u001b[31m seconds.           \u001b[0m\n"
      ]
     },
     "metadata": {},
     "output_type": "display_data"
    },
    {
     "data": {
      "text/html": [
       "<pre style=\"white-space:pre;overflow-x:auto;line-height:normal;font-family:Menlo,'DejaVu Sans Mono',consolas,'Courier New',monospace\"><span style=\"color: #7fbfbf; text-decoration-color: #7fbfbf\">                 </span><span style=\"color: #800000; text-decoration-color: #800000\">WARNING: No connection: Retrying for </span><span style=\"color: #008080; text-decoration-color: #008080; font-weight: bold\">180</span><span style=\"color: #800000; text-decoration-color: #800000\"> seconds.              </span>\n",
       "</pre>\n"
      ],
      "text/plain": [
       "\u001b[2;36m                \u001b[0m\u001b[2;36m \u001b[0m\u001b[31mWARNING: No connection: Retrying for \u001b[0m\u001b[1;36m180\u001b[0m\u001b[31m seconds.              \u001b[0m\n"
      ]
     },
     "metadata": {},
     "output_type": "display_data"
    },
    {
     "data": {
      "text/html": [
       "<pre style=\"white-space:pre;overflow-x:auto;line-height:normal;font-family:Menlo,'DejaVu Sans Mono',consolas,'Courier New',monospace\"><span style=\"color: #7fbfbf; text-decoration-color: #7fbfbf\">19:06:35 GMT 夏令时 </span><span style=\"color: #800000; text-decoration-color: #800000\">WARNING: No connection: Retrying for </span><span style=\"color: #008080; text-decoration-color: #008080; font-weight: bold\">180</span><span style=\"color: #800000; text-decoration-color: #800000\"> seconds.           </span>\n",
       "</pre>\n"
      ],
      "text/plain": [
       "\u001b[2;36m19:06:35 GMT 夏令时\u001b[0m\u001b[2;36m \u001b[0m\u001b[31mWARNING: No connection: Retrying for \u001b[0m\u001b[1;36m180\u001b[0m\u001b[31m seconds.           \u001b[0m\n"
      ]
     },
     "metadata": {},
     "output_type": "display_data"
    },
    {
     "data": {
      "text/html": [
       "<pre style=\"white-space:pre;overflow-x:auto;line-height:normal;font-family:Menlo,'DejaVu Sans Mono',consolas,'Courier New',monospace\"><span style=\"color: #7fbfbf; text-decoration-color: #7fbfbf\">                 </span><span style=\"color: #800000; text-decoration-color: #800000\">WARNING: No connection: Retrying for </span><span style=\"color: #008080; text-decoration-color: #008080; font-weight: bold\">180</span><span style=\"color: #800000; text-decoration-color: #800000\"> seconds.              </span>\n",
       "</pre>\n"
      ],
      "text/plain": [
       "\u001b[2;36m                \u001b[0m\u001b[2;36m \u001b[0m\u001b[31mWARNING: No connection: Retrying for \u001b[0m\u001b[1;36m180\u001b[0m\u001b[31m seconds.              \u001b[0m\n"
      ]
     },
     "metadata": {},
     "output_type": "display_data"
    },
    {
     "data": {
      "text/html": [
       "<pre style=\"white-space:pre;overflow-x:auto;line-height:normal;font-family:Menlo,'DejaVu Sans Mono',consolas,'Courier New',monospace\"><span style=\"color: #7fbfbf; text-decoration-color: #7fbfbf\">19:06:37 GMT 夏令时 </span><span style=\"color: #800000; text-decoration-color: #800000\">WARNING: No connection: Retrying for </span><span style=\"color: #008080; text-decoration-color: #008080; font-weight: bold\">180</span><span style=\"color: #800000; text-decoration-color: #800000\"> seconds.           </span>\n",
       "</pre>\n"
      ],
      "text/plain": [
       "\u001b[2;36m19:06:37 GMT 夏令时\u001b[0m\u001b[2;36m \u001b[0m\u001b[31mWARNING: No connection: Retrying for \u001b[0m\u001b[1;36m180\u001b[0m\u001b[31m seconds.           \u001b[0m\n"
      ]
     },
     "metadata": {},
     "output_type": "display_data"
    },
    {
     "data": {
      "text/html": [
       "<pre style=\"white-space:pre;overflow-x:auto;line-height:normal;font-family:Menlo,'DejaVu Sans Mono',consolas,'Courier New',monospace\"><span style=\"color: #7fbfbf; text-decoration-color: #7fbfbf\">19:06:38 GMT 夏令时 </span><span style=\"color: #800000; text-decoration-color: #800000\">WARNING: No connection: Retrying for </span><span style=\"color: #008080; text-decoration-color: #008080; font-weight: bold\">180</span><span style=\"color: #800000; text-decoration-color: #800000\"> seconds.           </span>\n",
       "</pre>\n"
      ],
      "text/plain": [
       "\u001b[2;36m19:06:38 GMT 夏令时\u001b[0m\u001b[2;36m \u001b[0m\u001b[31mWARNING: No connection: Retrying for \u001b[0m\u001b[1;36m180\u001b[0m\u001b[31m seconds.           \u001b[0m\n"
      ]
     },
     "metadata": {},
     "output_type": "display_data"
    },
    {
     "data": {
      "text/html": [
       "<pre style=\"white-space:pre;overflow-x:auto;line-height:normal;font-family:Menlo,'DejaVu Sans Mono',consolas,'Courier New',monospace\"><span style=\"color: #7fbfbf; text-decoration-color: #7fbfbf\">19:09:38 GMT 夏令时 </span><span style=\"color: #800000; text-decoration-color: #800000\">WARNING: No connection: Retrying for </span><span style=\"color: #008080; text-decoration-color: #008080; font-weight: bold\">180</span><span style=\"color: #800000; text-decoration-color: #800000\"> seconds.           </span>\n",
       "</pre>\n"
      ],
      "text/plain": [
       "\u001b[2;36m19:09:38 GMT 夏令时\u001b[0m\u001b[2;36m \u001b[0m\u001b[31mWARNING: No connection: Retrying for \u001b[0m\u001b[1;36m180\u001b[0m\u001b[31m seconds.           \u001b[0m\n"
      ]
     },
     "metadata": {},
     "output_type": "display_data"
    },
    {
     "data": {
      "text/html": [
       "<pre style=\"white-space:pre;overflow-x:auto;line-height:normal;font-family:Menlo,'DejaVu Sans Mono',consolas,'Courier New',monospace\"><span style=\"color: #7fbfbf; text-decoration-color: #7fbfbf\">                 </span><span style=\"color: #800000; text-decoration-color: #800000\">WARNING: No connection: Retrying for </span><span style=\"color: #008080; text-decoration-color: #008080; font-weight: bold\">180</span><span style=\"color: #800000; text-decoration-color: #800000\"> seconds.              </span>\n",
       "</pre>\n"
      ],
      "text/plain": [
       "\u001b[2;36m                \u001b[0m\u001b[2;36m \u001b[0m\u001b[31mWARNING: No connection: Retrying for \u001b[0m\u001b[1;36m180\u001b[0m\u001b[31m seconds.              \u001b[0m\n"
      ]
     },
     "metadata": {},
     "output_type": "display_data"
    },
    {
     "data": {
      "text/html": [
       "<pre style=\"white-space:pre;overflow-x:auto;line-height:normal;font-family:Menlo,'DejaVu Sans Mono',consolas,'Courier New',monospace\"><span style=\"color: #7fbfbf; text-decoration-color: #7fbfbf\">19:09:42 GMT 夏令时 </span><span style=\"color: #800000; text-decoration-color: #800000\">WARNING: No connection: Retrying for </span><span style=\"color: #008080; text-decoration-color: #008080; font-weight: bold\">180</span><span style=\"color: #800000; text-decoration-color: #800000\"> seconds.           </span>\n",
       "</pre>\n"
      ],
      "text/plain": [
       "\u001b[2;36m19:09:42 GMT 夏令时\u001b[0m\u001b[2;36m \u001b[0m\u001b[31mWARNING: No connection: Retrying for \u001b[0m\u001b[1;36m180\u001b[0m\u001b[31m seconds.           \u001b[0m\n"
      ]
     },
     "metadata": {},
     "output_type": "display_data"
    },
    {
     "data": {
      "text/html": [
       "<pre style=\"white-space:pre;overflow-x:auto;line-height:normal;font-family:Menlo,'DejaVu Sans Mono',consolas,'Courier New',monospace\"><span style=\"color: #7fbfbf; text-decoration-color: #7fbfbf\">                 </span><span style=\"color: #800000; text-decoration-color: #800000\">WARNING: No connection: Retrying for </span><span style=\"color: #008080; text-decoration-color: #008080; font-weight: bold\">180</span><span style=\"color: #800000; text-decoration-color: #800000\"> seconds.              </span>\n",
       "</pre>\n"
      ],
      "text/plain": [
       "\u001b[2;36m                \u001b[0m\u001b[2;36m \u001b[0m\u001b[31mWARNING: No connection: Retrying for \u001b[0m\u001b[1;36m180\u001b[0m\u001b[31m seconds.              \u001b[0m\n"
      ]
     },
     "metadata": {},
     "output_type": "display_data"
    },
    {
     "data": {
      "text/html": [
       "<pre style=\"white-space:pre;overflow-x:auto;line-height:normal;font-family:Menlo,'DejaVu Sans Mono',consolas,'Courier New',monospace\"><span style=\"color: #7fbfbf; text-decoration-color: #7fbfbf\">                 </span><span style=\"color: #800000; text-decoration-color: #800000\">WARNING: No connection: Retrying for </span><span style=\"color: #008080; text-decoration-color: #008080; font-weight: bold\">180</span><span style=\"color: #800000; text-decoration-color: #800000\"> seconds.              </span>\n",
       "</pre>\n"
      ],
      "text/plain": [
       "\u001b[2;36m                \u001b[0m\u001b[2;36m \u001b[0m\u001b[31mWARNING: No connection: Retrying for \u001b[0m\u001b[1;36m180\u001b[0m\u001b[31m seconds.              \u001b[0m\n"
      ]
     },
     "metadata": {},
     "output_type": "display_data"
    },
    {
     "data": {
      "text/html": [
       "<pre style=\"white-space:pre;overflow-x:auto;line-height:normal;font-family:Menlo,'DejaVu Sans Mono',consolas,'Courier New',monospace\"><span style=\"color: #7fbfbf; text-decoration-color: #7fbfbf\">                 </span><span style=\"color: #800000; text-decoration-color: #800000\">WARNING: No connection: Retrying for </span><span style=\"color: #008080; text-decoration-color: #008080; font-weight: bold\">180</span><span style=\"color: #800000; text-decoration-color: #800000\"> seconds.              </span>\n",
       "</pre>\n"
      ],
      "text/plain": [
       "\u001b[2;36m                \u001b[0m\u001b[2;36m \u001b[0m\u001b[31mWARNING: No connection: Retrying for \u001b[0m\u001b[1;36m180\u001b[0m\u001b[31m seconds.              \u001b[0m\n"
      ]
     },
     "metadata": {},
     "output_type": "display_data"
    },
    {
     "data": {
      "text/html": [
       "<pre style=\"white-space:pre;overflow-x:auto;line-height:normal;font-family:Menlo,'DejaVu Sans Mono',consolas,'Courier New',monospace\"><span style=\"color: #7fbfbf; text-decoration-color: #7fbfbf\">19:11:19 GMT 夏令时 </span><span style=\"color: #800000; text-decoration-color: #800000\">WARNING: No connection: Retrying for </span><span style=\"color: #008080; text-decoration-color: #008080; font-weight: bold\">180</span><span style=\"color: #800000; text-decoration-color: #800000\"> seconds.           </span>\n",
       "</pre>\n"
      ],
      "text/plain": [
       "\u001b[2;36m19:11:19 GMT 夏令时\u001b[0m\u001b[2;36m \u001b[0m\u001b[31mWARNING: No connection: Retrying for \u001b[0m\u001b[1;36m180\u001b[0m\u001b[31m seconds.           \u001b[0m\n"
      ]
     },
     "metadata": {},
     "output_type": "display_data"
    },
    {
     "name": "stdout",
     "output_type": "stream",
     "text": [
      "Batch submitted.\n",
      "Loading task sim_0 (ID: he-b538de87-53cf-4b1a-9c7d-996269f71fb7)...\n",
      "Task sim_0 fitness: 0.5641442442034414\n",
      "Loading task sim_1 (ID: he-c18e7e77-b87a-4fd1-b202-3ba1e71d8db1)...\n",
      "Task sim_1 fitness: 0.5616382426750917\n",
      "Loading task sim_2 (ID: he-d977b0eb-7736-4fb8-afe7-38a5a25cb08f)...\n",
      "Task sim_2 fitness: 0.7070174620775872\n",
      "Loading task sim_3 (ID: he-ee8ce56b-9a83-4307-856f-0c5ade5b905f)...\n",
      "Task sim_3 fitness: 0.5657480001887639\n",
      "Loading task sim_4 (ID: he-af97b73c-c311-4104-9086-d56dd9b212f3)...\n",
      "Task sim_4 fitness: 0.48225589330646107\n",
      "Loading task sim_5 (ID: he-1083098f-dbba-4d73-98e8-bfe98829069f)...\n",
      "Task sim_5 fitness: 0.6828486525131848\n",
      "Loading task sim_6 (ID: he-3cda201b-e214-4e10-a528-768266ab939f)...\n",
      "Task sim_6 fitness: 0.7147363624854516\n",
      "Loading task sim_7 (ID: he-06fd725f-0cc1-4897-9040-cd4ecc0d5e96)...\n",
      "Task sim_7 fitness: 0.6390578914350039\n",
      "Loading task sim_8 (ID: he-79c74032-3605-47f5-8589-bd6bd482354e)...\n",
      "Task sim_8 fitness: 0.5717529068446213\n",
      "Loading task sim_9 (ID: he-e461ddc3-daa8-459a-928f-5963dda498c4)...\n",
      "Task sim_9 fitness: 0.7082113902622197\n",
      "Loading task sim_10 (ID: he-213b7fa8-44bc-4204-b003-40a89439bfc5)...\n",
      "Task sim_10 fitness: 0.49175823113177214\n",
      "Loading task sim_11 (ID: he-aa335fd4-1b78-4224-9dfc-3ace9e9a2845)...\n",
      "Task sim_11 fitness: 0.42687699599228635\n",
      "Loading task sim_12 (ID: he-ef4ed369-c42d-4fce-ad5b-742395f60f29)...\n",
      "Task sim_12 fitness: 0.6828124698638237\n",
      "Loading task sim_13 (ID: he-d22b2fd7-63bb-4c7b-aab6-dab7f73924cb)...\n",
      "Task sim_13 fitness: 0.625829911796669\n",
      "Loading task sim_14 (ID: he-42cd6396-ba46-4ca6-891a-b4f3e3845da7)...\n",
      "Task sim_14 fitness: 0.4845484347320189\n",
      "Loading task sim_15 (ID: he-fc1e5455-19a3-4c5a-9b57-e6ec7eb3fc47)...\n",
      "Task sim_15 fitness: 0.5668468954260952\n",
      "Loading task sim_16 (ID: he-6455b4c3-bdc8-4f4f-af7f-7e5b73a3586e)...\n",
      "Task sim_16 fitness: 0.6848291776162622\n",
      "Loading task sim_17 (ID: he-5008c946-c166-4f36-a493-f4781ee2e497)...\n",
      "Task sim_17 fitness: 0.6707898792416962\n",
      "Loading task sim_18 (ID: he-300b7954-8e59-4c55-995f-e8f808e7dfcb)...\n",
      "Task sim_18 fitness: 0.46998540315687437\n",
      "Loading task sim_19 (ID: he-15855990-7cb5-43b8-a34c-a2028b918031)...\n",
      "Task sim_19 fitness: 0.5659673569732514\n",
      "Loading task sim_20 (ID: he-382a8720-4e0d-4f87-8bb3-44649789bab9)...\n",
      "Task sim_20 fitness: 0.5181316197740211\n",
      "Loading task sim_21 (ID: he-458fd1f2-12eb-4821-9659-5edffd884995)...\n",
      "Task sim_21 fitness: 0.5168155952814054\n",
      "Loading task sim_22 (ID: he-8ed65aff-672b-427d-a113-5914e6c191e5)...\n",
      "Task sim_22 fitness: 0.6146860278961043\n",
      "Loading task sim_23 (ID: he-14cad03b-f22e-4239-9b50-ba20997dff17)...\n",
      "Task sim_23 fitness: 0.6378948291193903\n",
      "Loading task sim_24 (ID: he-9fda7711-367b-4380-8fde-6909175a10a1)...\n",
      "Task sim_24 fitness: 0.6582419939507854\n",
      "Loading task sim_25 (ID: he-1fe28940-335c-48d2-8bb4-dcc353c9ead6)...\n",
      "Task sim_25 fitness: 0.5294155807407636\n",
      "Generation:6: Best Fitness = 0.796\n"
     ]
    },
    {
     "data": {
      "text/html": [
       "<pre style=\"white-space:pre;overflow-x:auto;line-height:normal;font-family:Menlo,'DejaVu Sans Mono',consolas,'Courier New',monospace\"><span style=\"color: #7fbfbf; text-decoration-color: #7fbfbf\">20:28:42 GMT 夏令时 </span><span style=\"color: #800000; text-decoration-color: #800000\">WARNING: No connection: Retrying for </span><span style=\"color: #008080; text-decoration-color: #008080; font-weight: bold\">180</span><span style=\"color: #800000; text-decoration-color: #800000\"> seconds.           </span>\n",
       "</pre>\n"
      ],
      "text/plain": [
       "\u001b[2;36m20:28:42 GMT 夏令时\u001b[0m\u001b[2;36m \u001b[0m\u001b[31mWARNING: No connection: Retrying for \u001b[0m\u001b[1;36m180\u001b[0m\u001b[31m seconds.           \u001b[0m\n"
      ]
     },
     "metadata": {},
     "output_type": "display_data"
    },
    {
     "data": {
      "text/html": [
       "<pre style=\"white-space:pre;overflow-x:auto;line-height:normal;font-family:Menlo,'DejaVu Sans Mono',consolas,'Courier New',monospace\"><span style=\"color: #7fbfbf; text-decoration-color: #7fbfbf\">                 </span><span style=\"color: #800000; text-decoration-color: #800000\">WARNING: No connection: Retrying for </span><span style=\"color: #008080; text-decoration-color: #008080; font-weight: bold\">180</span><span style=\"color: #800000; text-decoration-color: #800000\"> seconds.              </span>\n",
       "</pre>\n"
      ],
      "text/plain": [
       "\u001b[2;36m                \u001b[0m\u001b[2;36m \u001b[0m\u001b[31mWARNING: No connection: Retrying for \u001b[0m\u001b[1;36m180\u001b[0m\u001b[31m seconds.              \u001b[0m\n"
      ]
     },
     "metadata": {},
     "output_type": "display_data"
    },
    {
     "data": {
      "text/html": [
       "<pre style=\"white-space:pre;overflow-x:auto;line-height:normal;font-family:Menlo,'DejaVu Sans Mono',consolas,'Courier New',monospace\"><span style=\"color: #7fbfbf; text-decoration-color: #7fbfbf\">                 </span><span style=\"color: #800000; text-decoration-color: #800000\">WARNING: No connection: Retrying for </span><span style=\"color: #008080; text-decoration-color: #008080; font-weight: bold\">180</span><span style=\"color: #800000; text-decoration-color: #800000\"> seconds.              </span>\n",
       "</pre>\n"
      ],
      "text/plain": [
       "\u001b[2;36m                \u001b[0m\u001b[2;36m \u001b[0m\u001b[31mWARNING: No connection: Retrying for \u001b[0m\u001b[1;36m180\u001b[0m\u001b[31m seconds.              \u001b[0m\n"
      ]
     },
     "metadata": {},
     "output_type": "display_data"
    },
    {
     "data": {
      "text/html": [
       "<pre style=\"white-space:pre;overflow-x:auto;line-height:normal;font-family:Menlo,'DejaVu Sans Mono',consolas,'Courier New',monospace\"><span style=\"color: #7fbfbf; text-decoration-color: #7fbfbf\">                 </span><span style=\"color: #800000; text-decoration-color: #800000\">WARNING: No connection: Retrying for </span><span style=\"color: #008080; text-decoration-color: #008080; font-weight: bold\">180</span><span style=\"color: #800000; text-decoration-color: #800000\"> seconds.              </span>\n",
       "</pre>\n"
      ],
      "text/plain": [
       "\u001b[2;36m                \u001b[0m\u001b[2;36m \u001b[0m\u001b[31mWARNING: No connection: Retrying for \u001b[0m\u001b[1;36m180\u001b[0m\u001b[31m seconds.              \u001b[0m\n"
      ]
     },
     "metadata": {},
     "output_type": "display_data"
    },
    {
     "data": {
      "text/html": [
       "<pre style=\"white-space:pre;overflow-x:auto;line-height:normal;font-family:Menlo,'DejaVu Sans Mono',consolas,'Courier New',monospace\"><span style=\"color: #7fbfbf; text-decoration-color: #7fbfbf\">                 </span><span style=\"color: #800000; text-decoration-color: #800000\">WARNING: No connection: Retrying for </span><span style=\"color: #008080; text-decoration-color: #008080; font-weight: bold\">180</span><span style=\"color: #800000; text-decoration-color: #800000\"> seconds.              </span>\n",
       "</pre>\n"
      ],
      "text/plain": [
       "\u001b[2;36m                \u001b[0m\u001b[2;36m \u001b[0m\u001b[31mWARNING: No connection: Retrying for \u001b[0m\u001b[1;36m180\u001b[0m\u001b[31m seconds.              \u001b[0m\n"
      ]
     },
     "metadata": {},
     "output_type": "display_data"
    },
    {
     "data": {
      "text/html": [
       "<pre style=\"white-space:pre;overflow-x:auto;line-height:normal;font-family:Menlo,'DejaVu Sans Mono',consolas,'Courier New',monospace\"><span style=\"color: #7fbfbf; text-decoration-color: #7fbfbf\">                 </span><span style=\"color: #800000; text-decoration-color: #800000\">WARNING: No connection: Retrying for </span><span style=\"color: #008080; text-decoration-color: #008080; font-weight: bold\">180</span><span style=\"color: #800000; text-decoration-color: #800000\"> seconds.              </span>\n",
       "</pre>\n"
      ],
      "text/plain": [
       "\u001b[2;36m                \u001b[0m\u001b[2;36m \u001b[0m\u001b[31mWARNING: No connection: Retrying for \u001b[0m\u001b[1;36m180\u001b[0m\u001b[31m seconds.              \u001b[0m\n"
      ]
     },
     "metadata": {},
     "output_type": "display_data"
    },
    {
     "data": {
      "text/html": [
       "<pre style=\"white-space:pre;overflow-x:auto;line-height:normal;font-family:Menlo,'DejaVu Sans Mono',consolas,'Courier New',monospace\"><span style=\"color: #7fbfbf; text-decoration-color: #7fbfbf\">                 </span><span style=\"color: #800000; text-decoration-color: #800000\">WARNING: No connection: Retrying for </span><span style=\"color: #008080; text-decoration-color: #008080; font-weight: bold\">180</span><span style=\"color: #800000; text-decoration-color: #800000\"> seconds.              </span>\n",
       "</pre>\n"
      ],
      "text/plain": [
       "\u001b[2;36m                \u001b[0m\u001b[2;36m \u001b[0m\u001b[31mWARNING: No connection: Retrying for \u001b[0m\u001b[1;36m180\u001b[0m\u001b[31m seconds.              \u001b[0m\n"
      ]
     },
     "metadata": {},
     "output_type": "display_data"
    },
    {
     "data": {
      "text/html": [
       "<pre style=\"white-space:pre;overflow-x:auto;line-height:normal;font-family:Menlo,'DejaVu Sans Mono',consolas,'Courier New',monospace\"><span style=\"color: #7fbfbf; text-decoration-color: #7fbfbf\">                 </span><span style=\"color: #800000; text-decoration-color: #800000\">WARNING: No connection: Retrying for </span><span style=\"color: #008080; text-decoration-color: #008080; font-weight: bold\">180</span><span style=\"color: #800000; text-decoration-color: #800000\"> seconds.              </span>\n",
       "</pre>\n"
      ],
      "text/plain": [
       "\u001b[2;36m                \u001b[0m\u001b[2;36m \u001b[0m\u001b[31mWARNING: No connection: Retrying for \u001b[0m\u001b[1;36m180\u001b[0m\u001b[31m seconds.              \u001b[0m\n"
      ]
     },
     "metadata": {},
     "output_type": "display_data"
    },
    {
     "data": {
      "text/html": [
       "<pre style=\"white-space:pre;overflow-x:auto;line-height:normal;font-family:Menlo,'DejaVu Sans Mono',consolas,'Courier New',monospace\"><span style=\"color: #7fbfbf; text-decoration-color: #7fbfbf\">                 </span><span style=\"color: #800000; text-decoration-color: #800000\">WARNING: No connection: Retrying for </span><span style=\"color: #008080; text-decoration-color: #008080; font-weight: bold\">180</span><span style=\"color: #800000; text-decoration-color: #800000\"> seconds.              </span>\n",
       "</pre>\n"
      ],
      "text/plain": [
       "\u001b[2;36m                \u001b[0m\u001b[2;36m \u001b[0m\u001b[31mWARNING: No connection: Retrying for \u001b[0m\u001b[1;36m180\u001b[0m\u001b[31m seconds.              \u001b[0m\n"
      ]
     },
     "metadata": {},
     "output_type": "display_data"
    },
    {
     "data": {
      "text/html": [
       "<pre style=\"white-space:pre;overflow-x:auto;line-height:normal;font-family:Menlo,'DejaVu Sans Mono',consolas,'Courier New',monospace\"><span style=\"color: #7fbfbf; text-decoration-color: #7fbfbf\">                 </span><span style=\"color: #800000; text-decoration-color: #800000\">WARNING: No connection: Retrying for </span><span style=\"color: #008080; text-decoration-color: #008080; font-weight: bold\">180</span><span style=\"color: #800000; text-decoration-color: #800000\"> seconds.              </span>\n",
       "</pre>\n"
      ],
      "text/plain": [
       "\u001b[2;36m                \u001b[0m\u001b[2;36m \u001b[0m\u001b[31mWARNING: No connection: Retrying for \u001b[0m\u001b[1;36m180\u001b[0m\u001b[31m seconds.              \u001b[0m\n"
      ]
     },
     "metadata": {},
     "output_type": "display_data"
    },
    {
     "data": {
      "text/html": [
       "<pre style=\"white-space:pre;overflow-x:auto;line-height:normal;font-family:Menlo,'DejaVu Sans Mono',consolas,'Courier New',monospace\"><span style=\"color: #7fbfbf; text-decoration-color: #7fbfbf\">20:30:01 GMT 夏令时 </span><span style=\"color: #800000; text-decoration-color: #800000\">WARNING: No connection: Retrying for </span><span style=\"color: #008080; text-decoration-color: #008080; font-weight: bold\">180</span><span style=\"color: #800000; text-decoration-color: #800000\"> seconds.           </span>\n",
       "</pre>\n"
      ],
      "text/plain": [
       "\u001b[2;36m20:30:01 GMT 夏令时\u001b[0m\u001b[2;36m \u001b[0m\u001b[31mWARNING: No connection: Retrying for \u001b[0m\u001b[1;36m180\u001b[0m\u001b[31m seconds.           \u001b[0m\n"
      ]
     },
     "metadata": {},
     "output_type": "display_data"
    },
    {
     "data": {
      "text/html": [
       "<pre style=\"white-space:pre;overflow-x:auto;line-height:normal;font-family:Menlo,'DejaVu Sans Mono',consolas,'Courier New',monospace\"><span style=\"color: #7fbfbf; text-decoration-color: #7fbfbf\">                 </span><span style=\"color: #800000; text-decoration-color: #800000\">WARNING: No connection: Retrying for </span><span style=\"color: #008080; text-decoration-color: #008080; font-weight: bold\">180</span><span style=\"color: #800000; text-decoration-color: #800000\"> seconds.              </span>\n",
       "</pre>\n"
      ],
      "text/plain": [
       "\u001b[2;36m                \u001b[0m\u001b[2;36m \u001b[0m\u001b[31mWARNING: No connection: Retrying for \u001b[0m\u001b[1;36m180\u001b[0m\u001b[31m seconds.              \u001b[0m\n"
      ]
     },
     "metadata": {},
     "output_type": "display_data"
    },
    {
     "data": {
      "text/html": [
       "<pre style=\"white-space:pre;overflow-x:auto;line-height:normal;font-family:Menlo,'DejaVu Sans Mono',consolas,'Courier New',monospace\"><span style=\"color: #7fbfbf; text-decoration-color: #7fbfbf\">20:30:02 GMT 夏令时 </span><span style=\"color: #800000; text-decoration-color: #800000\">WARNING: No connection: Retrying for </span><span style=\"color: #008080; text-decoration-color: #008080; font-weight: bold\">180</span><span style=\"color: #800000; text-decoration-color: #800000\"> seconds.           </span>\n",
       "</pre>\n"
      ],
      "text/plain": [
       "\u001b[2;36m20:30:02 GMT 夏令时\u001b[0m\u001b[2;36m \u001b[0m\u001b[31mWARNING: No connection: Retrying for \u001b[0m\u001b[1;36m180\u001b[0m\u001b[31m seconds.           \u001b[0m\n"
      ]
     },
     "metadata": {},
     "output_type": "display_data"
    },
    {
     "data": {
      "text/html": [
       "<pre style=\"white-space:pre;overflow-x:auto;line-height:normal;font-family:Menlo,'DejaVu Sans Mono',consolas,'Courier New',monospace\"><span style=\"color: #7fbfbf; text-decoration-color: #7fbfbf\">                 </span><span style=\"color: #800000; text-decoration-color: #800000\">WARNING: No connection: Retrying for </span><span style=\"color: #008080; text-decoration-color: #008080; font-weight: bold\">180</span><span style=\"color: #800000; text-decoration-color: #800000\"> seconds.              </span>\n",
       "</pre>\n"
      ],
      "text/plain": [
       "\u001b[2;36m                \u001b[0m\u001b[2;36m \u001b[0m\u001b[31mWARNING: No connection: Retrying for \u001b[0m\u001b[1;36m180\u001b[0m\u001b[31m seconds.              \u001b[0m\n"
      ]
     },
     "metadata": {},
     "output_type": "display_data"
    },
    {
     "name": "stdout",
     "output_type": "stream",
     "text": [
      "Batch submitted.\n",
      "Loading task sim_0 (ID: he-1a88a8d9-e334-46dc-8bfe-67a57fa74746)...\n",
      "Task sim_0 fitness: 0.6728498366594702\n",
      "Loading task sim_1 (ID: he-76c7d0e3-9f8b-4b07-b5f7-ded0ae56fac9)...\n",
      "Task sim_1 fitness: 0.4324122221557785\n",
      "Loading task sim_2 (ID: he-c8f66fcf-7eaa-4f67-bb10-62009dac262d)...\n",
      "Task sim_2 fitness: 0.6939198066384852\n",
      "Loading task sim_3 (ID: he-30c87e40-5b76-4a78-9187-0be79d0433d3)...\n",
      "Task sim_3 fitness: 0.8159029070476047\n",
      "Loading task sim_4 (ID: he-567cc15d-ac79-4c20-97ae-121555d38be0)...\n",
      "Task sim_4 fitness: 0.6694373045948834\n",
      "Loading task sim_5 (ID: he-9b05e734-5dca-4a92-8dfe-d04d3584e6cf)...\n",
      "Task sim_5 fitness: 0.6787375678073141\n",
      "Loading task sim_6 (ID: he-eab94378-a0d0-4972-8aa7-72acfff0bd74)...\n",
      "Task sim_6 fitness: 0.5769917441848745\n",
      "Loading task sim_7 (ID: he-555e5e48-f656-4240-b475-6e66a5463076)...\n",
      "Task sim_7 fitness: 0.5594555128834814\n",
      "Loading task sim_8 (ID: he-19e72fd2-cf45-4d29-b819-d375b511f6c9)...\n",
      "Task sim_8 fitness: 0.31068483935793323\n",
      "Loading task sim_9 (ID: he-5e678389-d21a-46d1-a5a6-2e3f9665939c)...\n",
      "Task sim_9 fitness: 0.35814777639167417\n",
      "Loading task sim_10 (ID: he-f7760c33-7caa-4c87-b6e4-3796f896eea6)...\n",
      "Task sim_10 fitness: 0.5250544884995872\n",
      "Loading task sim_11 (ID: he-0df7eb6a-05e3-421f-895d-8b3cf2d5b01a)...\n",
      "Task sim_11 fitness: 0.5685591721754385\n",
      "Loading task sim_12 (ID: he-0e5230f5-e3a9-416e-a772-c1c5d6bfff19)...\n",
      "Task sim_12 fitness: 0.6734891289053423\n",
      "Loading task sim_13 (ID: he-27c2a4b4-6520-459b-acd3-8d5225497bdc)...\n",
      "Task sim_13 fitness: 0.7807980890607399\n",
      "Loading task sim_14 (ID: he-6e3951ab-32be-4604-9bb9-e827d455b62d)...\n",
      "Task sim_14 fitness: 0.6622150262000467\n",
      "Loading task sim_15 (ID: he-bddc3637-e010-49ae-89a2-89fbf9f1dd72)...\n",
      "Task sim_15 fitness: 0.5961646135958831\n",
      "Loading task sim_16 (ID: he-8dcb9a63-b76b-48b8-ad8c-012f3b47393b)...\n",
      "Task sim_16 fitness: 0.6341041550687837\n",
      "Loading task sim_17 (ID: he-e715188d-5dcf-4cc1-a563-3ffd0d312c91)...\n",
      "Task sim_17 fitness: 0.7288693628136284\n",
      "Loading task sim_18 (ID: he-c4249ac8-1cf0-4b5a-92be-e35b43dd102b)...\n",
      "Task sim_18 fitness: 0.378935771949885\n",
      "Loading task sim_19 (ID: he-4fd05871-24ff-4ae6-9a27-ef8ca23ec75d)...\n",
      "Task sim_19 fitness: 0.5373161073599284\n",
      "Loading task sim_20 (ID: he-c67ea92d-e5e5-4a67-81b1-65cb4dfd8c9f)...\n",
      "Task sim_20 fitness: 0.5717884768690246\n",
      "Loading task sim_21 (ID: he-94072416-2b09-47fe-8f5c-42c329af77e9)...\n",
      "Task sim_21 fitness: 0.703235703640541\n",
      "Loading task sim_22 (ID: he-5233f296-3bac-408d-bab7-99321e4935b9)...\n",
      "Task sim_22 fitness: 0.4248056269896464\n",
      "Loading task sim_23 (ID: he-723c3ae2-06a8-4fe6-a6f7-1872984abbe3)...\n",
      "Task sim_23 fitness: 0.8765737813789001\n",
      "Generation:7: Best Fitness = 0.877\n"
     ]
    },
    {
     "data": {
      "text/html": [
       "<pre style=\"white-space:pre;overflow-x:auto;line-height:normal;font-family:Menlo,'DejaVu Sans Mono',consolas,'Courier New',monospace\"><span style=\"color: #7fbfbf; text-decoration-color: #7fbfbf\">21:45:46 GMT 夏令时 </span><span style=\"color: #800000; text-decoration-color: #800000\">WARNING: No connection: Retrying for </span><span style=\"color: #008080; text-decoration-color: #008080; font-weight: bold\">180</span><span style=\"color: #800000; text-decoration-color: #800000\"> seconds.           </span>\n",
       "</pre>\n"
      ],
      "text/plain": [
       "\u001b[2;36m21:45:46 GMT 夏令时\u001b[0m\u001b[2;36m \u001b[0m\u001b[31mWARNING: No connection: Retrying for \u001b[0m\u001b[1;36m180\u001b[0m\u001b[31m seconds.           \u001b[0m\n"
      ]
     },
     "metadata": {},
     "output_type": "display_data"
    },
    {
     "data": {
      "text/html": [
       "<pre style=\"white-space:pre;overflow-x:auto;line-height:normal;font-family:Menlo,'DejaVu Sans Mono',consolas,'Courier New',monospace\"><span style=\"color: #7fbfbf; text-decoration-color: #7fbfbf\">                 </span><span style=\"color: #800000; text-decoration-color: #800000\">WARNING: No connection: Retrying for </span><span style=\"color: #008080; text-decoration-color: #008080; font-weight: bold\">180</span><span style=\"color: #800000; text-decoration-color: #800000\"> seconds.              </span>\n",
       "</pre>\n"
      ],
      "text/plain": [
       "\u001b[2;36m                \u001b[0m\u001b[2;36m \u001b[0m\u001b[31mWARNING: No connection: Retrying for \u001b[0m\u001b[1;36m180\u001b[0m\u001b[31m seconds.              \u001b[0m\n"
      ]
     },
     "metadata": {},
     "output_type": "display_data"
    },
    {
     "data": {
      "text/html": [
       "<pre style=\"white-space:pre;overflow-x:auto;line-height:normal;font-family:Menlo,'DejaVu Sans Mono',consolas,'Courier New',monospace\"><span style=\"color: #7fbfbf; text-decoration-color: #7fbfbf\">21:45:50 GMT 夏令时 </span><span style=\"color: #800000; text-decoration-color: #800000\">WARNING: No connection: Retrying for </span><span style=\"color: #008080; text-decoration-color: #008080; font-weight: bold\">180</span><span style=\"color: #800000; text-decoration-color: #800000\"> seconds.           </span>\n",
       "</pre>\n"
      ],
      "text/plain": [
       "\u001b[2;36m21:45:50 GMT 夏令时\u001b[0m\u001b[2;36m \u001b[0m\u001b[31mWARNING: No connection: Retrying for \u001b[0m\u001b[1;36m180\u001b[0m\u001b[31m seconds.           \u001b[0m\n"
      ]
     },
     "metadata": {},
     "output_type": "display_data"
    },
    {
     "data": {
      "text/html": [
       "<pre style=\"white-space:pre;overflow-x:auto;line-height:normal;font-family:Menlo,'DejaVu Sans Mono',consolas,'Courier New',monospace\"><span style=\"color: #7fbfbf; text-decoration-color: #7fbfbf\">                 </span><span style=\"color: #800000; text-decoration-color: #800000\">WARNING: No connection: Retrying for </span><span style=\"color: #008080; text-decoration-color: #008080; font-weight: bold\">180</span><span style=\"color: #800000; text-decoration-color: #800000\"> seconds.              </span>\n",
       "</pre>\n"
      ],
      "text/plain": [
       "\u001b[2;36m                \u001b[0m\u001b[2;36m \u001b[0m\u001b[31mWARNING: No connection: Retrying for \u001b[0m\u001b[1;36m180\u001b[0m\u001b[31m seconds.              \u001b[0m\n"
      ]
     },
     "metadata": {},
     "output_type": "display_data"
    },
    {
     "data": {
      "text/html": [
       "<pre style=\"white-space:pre;overflow-x:auto;line-height:normal;font-family:Menlo,'DejaVu Sans Mono',consolas,'Courier New',monospace\"><span style=\"color: #7fbfbf; text-decoration-color: #7fbfbf\">21:46:02 GMT 夏令时 </span><span style=\"color: #800000; text-decoration-color: #800000\">WARNING: No connection: Retrying for </span><span style=\"color: #008080; text-decoration-color: #008080; font-weight: bold\">180</span><span style=\"color: #800000; text-decoration-color: #800000\"> seconds.           </span>\n",
       "</pre>\n"
      ],
      "text/plain": [
       "\u001b[2;36m21:46:02 GMT 夏令时\u001b[0m\u001b[2;36m \u001b[0m\u001b[31mWARNING: No connection: Retrying for \u001b[0m\u001b[1;36m180\u001b[0m\u001b[31m seconds.           \u001b[0m\n"
      ]
     },
     "metadata": {},
     "output_type": "display_data"
    },
    {
     "data": {
      "text/html": [
       "<pre style=\"white-space:pre;overflow-x:auto;line-height:normal;font-family:Menlo,'DejaVu Sans Mono',consolas,'Courier New',monospace\"><span style=\"color: #7fbfbf; text-decoration-color: #7fbfbf\">                 </span><span style=\"color: #800000; text-decoration-color: #800000\">WARNING: No connection: Retrying for </span><span style=\"color: #008080; text-decoration-color: #008080; font-weight: bold\">180</span><span style=\"color: #800000; text-decoration-color: #800000\"> seconds.              </span>\n",
       "</pre>\n"
      ],
      "text/plain": [
       "\u001b[2;36m                \u001b[0m\u001b[2;36m \u001b[0m\u001b[31mWARNING: No connection: Retrying for \u001b[0m\u001b[1;36m180\u001b[0m\u001b[31m seconds.              \u001b[0m\n"
      ]
     },
     "metadata": {},
     "output_type": "display_data"
    },
    {
     "data": {
      "text/html": [
       "<pre style=\"white-space:pre;overflow-x:auto;line-height:normal;font-family:Menlo,'DejaVu Sans Mono',consolas,'Courier New',monospace\"><span style=\"color: #7fbfbf; text-decoration-color: #7fbfbf\">                 </span><span style=\"color: #800000; text-decoration-color: #800000\">WARNING: No connection: Retrying for </span><span style=\"color: #008080; text-decoration-color: #008080; font-weight: bold\">180</span><span style=\"color: #800000; text-decoration-color: #800000\"> seconds.              </span>\n",
       "</pre>\n"
      ],
      "text/plain": [
       "\u001b[2;36m                \u001b[0m\u001b[2;36m \u001b[0m\u001b[31mWARNING: No connection: Retrying for \u001b[0m\u001b[1;36m180\u001b[0m\u001b[31m seconds.              \u001b[0m\n"
      ]
     },
     "metadata": {},
     "output_type": "display_data"
    },
    {
     "data": {
      "text/html": [
       "<pre style=\"white-space:pre;overflow-x:auto;line-height:normal;font-family:Menlo,'DejaVu Sans Mono',consolas,'Courier New',monospace\"><span style=\"color: #7fbfbf; text-decoration-color: #7fbfbf\">                 </span><span style=\"color: #800000; text-decoration-color: #800000\">WARNING: No connection: Retrying for </span><span style=\"color: #008080; text-decoration-color: #008080; font-weight: bold\">180</span><span style=\"color: #800000; text-decoration-color: #800000\"> seconds.              </span>\n",
       "</pre>\n"
      ],
      "text/plain": [
       "\u001b[2;36m                \u001b[0m\u001b[2;36m \u001b[0m\u001b[31mWARNING: No connection: Retrying for \u001b[0m\u001b[1;36m180\u001b[0m\u001b[31m seconds.              \u001b[0m\n"
      ]
     },
     "metadata": {},
     "output_type": "display_data"
    },
    {
     "data": {
      "text/html": [
       "<pre style=\"white-space:pre;overflow-x:auto;line-height:normal;font-family:Menlo,'DejaVu Sans Mono',consolas,'Courier New',monospace\"><span style=\"color: #7fbfbf; text-decoration-color: #7fbfbf\">                 </span><span style=\"color: #800000; text-decoration-color: #800000\">WARNING: No connection: Retrying for </span><span style=\"color: #008080; text-decoration-color: #008080; font-weight: bold\">180</span><span style=\"color: #800000; text-decoration-color: #800000\"> seconds.              </span>\n",
       "</pre>\n"
      ],
      "text/plain": [
       "\u001b[2;36m                \u001b[0m\u001b[2;36m \u001b[0m\u001b[31mWARNING: No connection: Retrying for \u001b[0m\u001b[1;36m180\u001b[0m\u001b[31m seconds.              \u001b[0m\n"
      ]
     },
     "metadata": {},
     "output_type": "display_data"
    },
    {
     "data": {
      "text/html": [
       "<pre style=\"white-space:pre;overflow-x:auto;line-height:normal;font-family:Menlo,'DejaVu Sans Mono',consolas,'Courier New',monospace\"><span style=\"color: #7fbfbf; text-decoration-color: #7fbfbf\">                 </span><span style=\"color: #800000; text-decoration-color: #800000\">WARNING: No connection: Retrying for </span><span style=\"color: #008080; text-decoration-color: #008080; font-weight: bold\">180</span><span style=\"color: #800000; text-decoration-color: #800000\"> seconds.              </span>\n",
       "</pre>\n"
      ],
      "text/plain": [
       "\u001b[2;36m                \u001b[0m\u001b[2;36m \u001b[0m\u001b[31mWARNING: No connection: Retrying for \u001b[0m\u001b[1;36m180\u001b[0m\u001b[31m seconds.              \u001b[0m\n"
      ]
     },
     "metadata": {},
     "output_type": "display_data"
    },
    {
     "data": {
      "text/html": [
       "<pre style=\"white-space:pre;overflow-x:auto;line-height:normal;font-family:Menlo,'DejaVu Sans Mono',consolas,'Courier New',monospace\"><span style=\"color: #7fbfbf; text-decoration-color: #7fbfbf\">21:48:59 GMT 夏令时 </span><span style=\"color: #800000; text-decoration-color: #800000\">WARNING: No connection: Retrying for </span><span style=\"color: #008080; text-decoration-color: #008080; font-weight: bold\">180</span><span style=\"color: #800000; text-decoration-color: #800000\"> seconds.           </span>\n",
       "</pre>\n"
      ],
      "text/plain": [
       "\u001b[2;36m21:48:59 GMT 夏令时\u001b[0m\u001b[2;36m \u001b[0m\u001b[31mWARNING: No connection: Retrying for \u001b[0m\u001b[1;36m180\u001b[0m\u001b[31m seconds.           \u001b[0m\n"
      ]
     },
     "metadata": {},
     "output_type": "display_data"
    },
    {
     "name": "stdout",
     "output_type": "stream",
     "text": [
      "Batch submitted.\n",
      "Loading task sim_0 (ID: he-658fd40c-fd8a-438e-947a-dc8ebbbe658c)...\n",
      "Task sim_0 fitness: 0.6737695675929171\n",
      "Loading task sim_1 (ID: he-8d215c1c-9937-4ff8-96ae-67c1e8ec2847)...\n",
      "Task sim_1 fitness: 0.5817949592944381\n",
      "Loading task sim_2 (ID: he-79d2b1ba-f46f-4c8e-80e8-61f0661e8df0)...\n",
      "Task sim_2 fitness: 0.8798011007747378\n",
      "Loading task sim_3 (ID: he-4130d719-888b-4094-b419-23d142ef1dff)...\n",
      "Task sim_3 fitness: 0.569916169294729\n",
      "Loading task sim_4 (ID: he-077f8dc7-4ef1-498b-a227-97d3f26efb2f)...\n",
      "Task sim_4 fitness: 1.0408411322769051\n",
      "Loading task sim_5 (ID: he-4ceccf47-f667-4878-927f-0ed0f5a7fc69)...\n",
      "Task sim_5 fitness: 0.8644351863995235\n",
      "Loading task sim_6 (ID: he-354f4420-3bc9-4841-b682-8b68fb89ccb6)...\n",
      "Task sim_6 fitness: 0.7794293565780824\n",
      "Loading task sim_7 (ID: he-fe77ef37-0a7d-486f-8393-20ba280e7c86)...\n",
      "Task sim_7 fitness: 0.7749988703025359\n",
      "Loading task sim_8 (ID: he-a43584ef-ffdf-45bb-bbf0-e4a6ec82e2e5)...\n",
      "Task sim_8 fitness: 0.737579302794467\n",
      "Loading task sim_9 (ID: he-47e9f167-c97b-4569-b646-3609636be483)...\n",
      "Task sim_9 fitness: 0.6077839345521318\n",
      "Loading task sim_10 (ID: he-869adc5d-074e-403c-8f08-4ddeb9cb1bca)...\n",
      "Task sim_10 fitness: 0.8623488630192423\n",
      "Loading task sim_11 (ID: he-3d440ddb-616c-4b3a-8414-d7b9acc7b06f)...\n",
      "Task sim_11 fitness: 0.8816986636685188\n",
      "Loading task sim_12 (ID: he-2a3754d4-f47b-4aff-a56a-9e2fc9ee152a)...\n",
      "Task sim_12 fitness: 0.5652709214062491\n",
      "Loading task sim_13 (ID: he-32c295b5-aa19-41e9-a1b7-52ef4edd70d5)...\n",
      "Task sim_13 fitness: 0.967658367648922\n",
      "Loading task sim_14 (ID: he-729a845f-79c6-4501-a575-0f5cee2eac41)...\n",
      "Task sim_14 fitness: 0.6874743284630958\n",
      "Loading task sim_15 (ID: he-cf6919fc-a865-4a84-af02-8ebc2a7fd16c)...\n",
      "Task sim_15 fitness: 0.6803649485214046\n",
      "Loading task sim_16 (ID: he-a3bc3515-c62d-4f00-9c49-7ea7c1c041f2)...\n",
      "Task sim_16 fitness: 0.7958118776316493\n",
      "Loading task sim_17 (ID: he-a58cf466-489f-4573-8145-3e737d21a48d)...\n",
      "Task sim_17 fitness: 0.6643458015615653\n",
      "Loading task sim_18 (ID: he-758c8fd2-3daa-406a-b2db-0347d2c24d4b)...\n",
      "Task sim_18 fitness: 0.5764878465631624\n",
      "Loading task sim_19 (ID: he-a1a16956-114c-4fd6-81b5-8f53d98cd8b0)...\n",
      "Task sim_19 fitness: 0.6338935431266804\n",
      "Generation:8: Best Fitness = 1.041\n"
     ]
    },
    {
     "data": {
      "text/html": [
       "<pre style=\"white-space:pre;overflow-x:auto;line-height:normal;font-family:Menlo,'DejaVu Sans Mono',consolas,'Courier New',monospace\"><span style=\"color: #7fbfbf; text-decoration-color: #7fbfbf\">22:55:44 GMT 夏令时 </span><span style=\"color: #800000; text-decoration-color: #800000\">WARNING: No connection: Retrying for </span><span style=\"color: #008080; text-decoration-color: #008080; font-weight: bold\">180</span><span style=\"color: #800000; text-decoration-color: #800000\"> seconds.           </span>\n",
       "</pre>\n"
      ],
      "text/plain": [
       "\u001b[2;36m22:55:44 GMT 夏令时\u001b[0m\u001b[2;36m \u001b[0m\u001b[31mWARNING: No connection: Retrying for \u001b[0m\u001b[1;36m180\u001b[0m\u001b[31m seconds.           \u001b[0m\n"
      ]
     },
     "metadata": {},
     "output_type": "display_data"
    },
    {
     "data": {
      "text/html": [
       "<pre style=\"white-space:pre;overflow-x:auto;line-height:normal;font-family:Menlo,'DejaVu Sans Mono',consolas,'Courier New',monospace\"><span style=\"color: #7fbfbf; text-decoration-color: #7fbfbf\">                 </span><span style=\"color: #800000; text-decoration-color: #800000\">WARNING: No connection: Retrying for </span><span style=\"color: #008080; text-decoration-color: #008080; font-weight: bold\">180</span><span style=\"color: #800000; text-decoration-color: #800000\"> seconds.              </span>\n",
       "</pre>\n"
      ],
      "text/plain": [
       "\u001b[2;36m                \u001b[0m\u001b[2;36m \u001b[0m\u001b[31mWARNING: No connection: Retrying for \u001b[0m\u001b[1;36m180\u001b[0m\u001b[31m seconds.              \u001b[0m\n"
      ]
     },
     "metadata": {},
     "output_type": "display_data"
    },
    {
     "data": {
      "text/html": [
       "<pre style=\"white-space:pre;overflow-x:auto;line-height:normal;font-family:Menlo,'DejaVu Sans Mono',consolas,'Courier New',monospace\"><span style=\"color: #7fbfbf; text-decoration-color: #7fbfbf\">22:55:45 GMT 夏令时 </span><span style=\"color: #800000; text-decoration-color: #800000\">WARNING: No connection: Retrying for </span><span style=\"color: #008080; text-decoration-color: #008080; font-weight: bold\">180</span><span style=\"color: #800000; text-decoration-color: #800000\"> seconds.           </span>\n",
       "</pre>\n"
      ],
      "text/plain": [
       "\u001b[2;36m22:55:45 GMT 夏令时\u001b[0m\u001b[2;36m \u001b[0m\u001b[31mWARNING: No connection: Retrying for \u001b[0m\u001b[1;36m180\u001b[0m\u001b[31m seconds.           \u001b[0m\n"
      ]
     },
     "metadata": {},
     "output_type": "display_data"
    },
    {
     "data": {
      "text/html": [
       "<pre style=\"white-space:pre;overflow-x:auto;line-height:normal;font-family:Menlo,'DejaVu Sans Mono',consolas,'Courier New',monospace\"><span style=\"color: #7fbfbf; text-decoration-color: #7fbfbf\">                 </span><span style=\"color: #800000; text-decoration-color: #800000\">WARNING: No connection: Retrying for </span><span style=\"color: #008080; text-decoration-color: #008080; font-weight: bold\">180</span><span style=\"color: #800000; text-decoration-color: #800000\"> seconds.              </span>\n",
       "</pre>\n"
      ],
      "text/plain": [
       "\u001b[2;36m                \u001b[0m\u001b[2;36m \u001b[0m\u001b[31mWARNING: No connection: Retrying for \u001b[0m\u001b[1;36m180\u001b[0m\u001b[31m seconds.              \u001b[0m\n"
      ]
     },
     "metadata": {},
     "output_type": "display_data"
    },
    {
     "data": {
      "text/html": [
       "<pre style=\"white-space:pre;overflow-x:auto;line-height:normal;font-family:Menlo,'DejaVu Sans Mono',consolas,'Courier New',monospace\"><span style=\"color: #7fbfbf; text-decoration-color: #7fbfbf\">22:55:46 GMT 夏令时 </span><span style=\"color: #800000; text-decoration-color: #800000\">WARNING: No connection: Retrying for </span><span style=\"color: #008080; text-decoration-color: #008080; font-weight: bold\">180</span><span style=\"color: #800000; text-decoration-color: #800000\"> seconds.           </span>\n",
       "</pre>\n"
      ],
      "text/plain": [
       "\u001b[2;36m22:55:46 GMT 夏令时\u001b[0m\u001b[2;36m \u001b[0m\u001b[31mWARNING: No connection: Retrying for \u001b[0m\u001b[1;36m180\u001b[0m\u001b[31m seconds.           \u001b[0m\n"
      ]
     },
     "metadata": {},
     "output_type": "display_data"
    },
    {
     "data": {
      "text/html": [
       "<pre style=\"white-space:pre;overflow-x:auto;line-height:normal;font-family:Menlo,'DejaVu Sans Mono',consolas,'Courier New',monospace\"><span style=\"color: #7fbfbf; text-decoration-color: #7fbfbf\">                 </span><span style=\"color: #800000; text-decoration-color: #800000\">WARNING: No connection: Retrying for </span><span style=\"color: #008080; text-decoration-color: #008080; font-weight: bold\">180</span><span style=\"color: #800000; text-decoration-color: #800000\"> seconds.              </span>\n",
       "</pre>\n"
      ],
      "text/plain": [
       "\u001b[2;36m                \u001b[0m\u001b[2;36m \u001b[0m\u001b[31mWARNING: No connection: Retrying for \u001b[0m\u001b[1;36m180\u001b[0m\u001b[31m seconds.              \u001b[0m\n"
      ]
     },
     "metadata": {},
     "output_type": "display_data"
    },
    {
     "data": {
      "text/html": [
       "<pre style=\"white-space:pre;overflow-x:auto;line-height:normal;font-family:Menlo,'DejaVu Sans Mono',consolas,'Courier New',monospace\"><span style=\"color: #7fbfbf; text-decoration-color: #7fbfbf\">22:55:47 GMT 夏令时 </span><span style=\"color: #800000; text-decoration-color: #800000\">WARNING: No connection: Retrying for </span><span style=\"color: #008080; text-decoration-color: #008080; font-weight: bold\">180</span><span style=\"color: #800000; text-decoration-color: #800000\"> seconds.           </span>\n",
       "</pre>\n"
      ],
      "text/plain": [
       "\u001b[2;36m22:55:47 GMT 夏令时\u001b[0m\u001b[2;36m \u001b[0m\u001b[31mWARNING: No connection: Retrying for \u001b[0m\u001b[1;36m180\u001b[0m\u001b[31m seconds.           \u001b[0m\n"
      ]
     },
     "metadata": {},
     "output_type": "display_data"
    },
    {
     "data": {
      "text/html": [
       "<pre style=\"white-space:pre;overflow-x:auto;line-height:normal;font-family:Menlo,'DejaVu Sans Mono',consolas,'Courier New',monospace\"><span style=\"color: #7fbfbf; text-decoration-color: #7fbfbf\">                 </span><span style=\"color: #800000; text-decoration-color: #800000\">WARNING: No connection: Retrying for </span><span style=\"color: #008080; text-decoration-color: #008080; font-weight: bold\">180</span><span style=\"color: #800000; text-decoration-color: #800000\"> seconds.              </span>\n",
       "</pre>\n"
      ],
      "text/plain": [
       "\u001b[2;36m                \u001b[0m\u001b[2;36m \u001b[0m\u001b[31mWARNING: No connection: Retrying for \u001b[0m\u001b[1;36m180\u001b[0m\u001b[31m seconds.              \u001b[0m\n"
      ]
     },
     "metadata": {},
     "output_type": "display_data"
    },
    {
     "data": {
      "text/html": [
       "<pre style=\"white-space:pre;overflow-x:auto;line-height:normal;font-family:Menlo,'DejaVu Sans Mono',consolas,'Courier New',monospace\"><span style=\"color: #7fbfbf; text-decoration-color: #7fbfbf\">22:55:48 GMT 夏令时 </span><span style=\"color: #800000; text-decoration-color: #800000\">WARNING: No connection: Retrying for </span><span style=\"color: #008080; text-decoration-color: #008080; font-weight: bold\">180</span><span style=\"color: #800000; text-decoration-color: #800000\"> seconds.           </span>\n",
       "</pre>\n"
      ],
      "text/plain": [
       "\u001b[2;36m22:55:48 GMT 夏令时\u001b[0m\u001b[2;36m \u001b[0m\u001b[31mWARNING: No connection: Retrying for \u001b[0m\u001b[1;36m180\u001b[0m\u001b[31m seconds.           \u001b[0m\n"
      ]
     },
     "metadata": {},
     "output_type": "display_data"
    },
    {
     "data": {
      "text/html": [
       "<pre style=\"white-space:pre;overflow-x:auto;line-height:normal;font-family:Menlo,'DejaVu Sans Mono',consolas,'Courier New',monospace\"><span style=\"color: #7fbfbf; text-decoration-color: #7fbfbf\">22:56:00 GMT 夏令时 </span><span style=\"color: #800000; text-decoration-color: #800000\">WARNING: No connection: Retrying for </span><span style=\"color: #008080; text-decoration-color: #008080; font-weight: bold\">180</span><span style=\"color: #800000; text-decoration-color: #800000\"> seconds.           </span>\n",
       "</pre>\n"
      ],
      "text/plain": [
       "\u001b[2;36m22:56:00 GMT 夏令时\u001b[0m\u001b[2;36m \u001b[0m\u001b[31mWARNING: No connection: Retrying for \u001b[0m\u001b[1;36m180\u001b[0m\u001b[31m seconds.           \u001b[0m\n"
      ]
     },
     "metadata": {},
     "output_type": "display_data"
    },
    {
     "name": "stdout",
     "output_type": "stream",
     "text": [
      "Batch submitted.\n",
      "Loading task sim_0 (ID: he-cb27e6c2-86af-4dc8-ade4-acfad73198cf)...\n",
      "Task sim_0 fitness: 0.6111815729422251\n",
      "Loading task sim_1 (ID: he-c84737ea-8db6-4106-91b0-ba9280ecfdd2)...\n",
      "Task sim_1 fitness: 0.6324139633540916\n",
      "Loading task sim_2 (ID: he-96f17cfd-80f4-4357-a10c-a1121d47a8e1)...\n",
      "Task sim_2 fitness: 0.7521557812650329\n",
      "Loading task sim_3 (ID: he-30ffa2ba-b8ca-4894-b74c-9a4963878321)...\n",
      "Task sim_3 fitness: 0.9666273818670463\n",
      "Loading task sim_4 (ID: he-f8d64dbd-daaa-4f5f-a979-fd77f990f6fa)...\n",
      "Task sim_4 fitness: 0.9007204005893727\n",
      "Loading task sim_5 (ID: he-86cb65b9-09b3-4b13-9824-812d59b1c361)...\n",
      "Task sim_5 fitness: 0.6819874473459975\n",
      "Loading task sim_6 (ID: he-8515b8e6-264f-42cc-a72a-afe8b80abd99)...\n",
      "Task sim_6 fitness: 0.8712770019073308\n",
      "Loading task sim_7 (ID: he-ee80dabd-107d-4daa-8c93-fe442cf5779f)...\n",
      "Task sim_7 fitness: 0.855056575295546\n",
      "Loading task sim_8 (ID: he-9f87675d-10bf-4394-a486-aa2acc50ca77)...\n",
      "Task sim_8 fitness: 0.8883639685440773\n",
      "Loading task sim_9 (ID: he-edaceea5-261f-459b-ae6a-3c406d770238)...\n",
      "Task sim_9 fitness: 0.6796498365585567\n",
      "Loading task sim_10 (ID: he-6307b3c5-a621-482f-87da-fa9faf9ee774)...\n",
      "Task sim_10 fitness: 0.9091568944456464\n",
      "Loading task sim_11 (ID: he-0e46fe04-d316-4acb-86fc-c18348c5c8f6)...\n",
      "Task sim_11 fitness: 0.7447047203502087\n",
      "Loading task sim_12 (ID: he-713c65f8-a1f2-4a5c-981a-7aa443f5a73c)...\n",
      "Task sim_12 fitness: 0.7773498533578969\n",
      "Loading task sim_13 (ID: he-7f53b533-784f-498e-a005-0153c90d640a)...\n",
      "Task sim_13 fitness: 1.0515238206320414\n",
      "Loading task sim_14 (ID: he-46e0bb89-7384-4aca-b8a4-e99d8443c305)...\n",
      "Task sim_14 fitness: 0.6135476569495291\n",
      "Loading task sim_15 (ID: he-4fe7de47-6e6b-4180-9caf-8cb20a7ce820)...\n",
      "Task sim_15 fitness: 0.5052943058417297\n",
      "Loading task sim_16 (ID: he-104e8903-6240-4b17-b331-484fcd63c41c)...\n",
      "Task sim_16 fitness: 0.6576029317136416\n",
      "Loading task sim_17 (ID: he-910e8f71-2bb4-4e7a-beb9-7f45bf703831)...\n",
      "Task sim_17 fitness: 0.8313851599219894\n",
      "Loading task sim_18 (ID: he-ce8d5e3e-5488-4cbc-803f-3780a0b9d7b6)...\n",
      "Task sim_18 fitness: 0.6854984199682073\n",
      "Loading task sim_19 (ID: he-d8f636fb-e176-42f0-b5d5-0eaa656176a7)...\n",
      "Task sim_19 fitness: 0.6706475083893068\n",
      "Generation:9: Best Fitness = 1.052\n"
     ]
    },
    {
     "data": {
      "text/html": [
       "<pre style=\"white-space:pre;overflow-x:auto;line-height:normal;font-family:Menlo,'DejaVu Sans Mono',consolas,'Courier New',monospace\"><span style=\"color: #7fbfbf; text-decoration-color: #7fbfbf\">23:52:09 GMT 夏令时 </span><span style=\"color: #800000; text-decoration-color: #800000\">WARNING: No connection: Retrying for </span><span style=\"color: #008080; text-decoration-color: #008080; font-weight: bold\">180</span><span style=\"color: #800000; text-decoration-color: #800000\"> seconds.           </span>\n",
       "</pre>\n"
      ],
      "text/plain": [
       "\u001b[2;36m23:52:09 GMT 夏令时\u001b[0m\u001b[2;36m \u001b[0m\u001b[31mWARNING: No connection: Retrying for \u001b[0m\u001b[1;36m180\u001b[0m\u001b[31m seconds.           \u001b[0m\n"
      ]
     },
     "metadata": {},
     "output_type": "display_data"
    },
    {
     "data": {
      "text/html": [
       "<pre style=\"white-space:pre;overflow-x:auto;line-height:normal;font-family:Menlo,'DejaVu Sans Mono',consolas,'Courier New',monospace\"><span style=\"color: #7fbfbf; text-decoration-color: #7fbfbf\">                 </span><span style=\"color: #800000; text-decoration-color: #800000\">WARNING: No connection: Retrying for </span><span style=\"color: #008080; text-decoration-color: #008080; font-weight: bold\">180</span><span style=\"color: #800000; text-decoration-color: #800000\"> seconds.              </span>\n",
       "</pre>\n"
      ],
      "text/plain": [
       "\u001b[2;36m                \u001b[0m\u001b[2;36m \u001b[0m\u001b[31mWARNING: No connection: Retrying for \u001b[0m\u001b[1;36m180\u001b[0m\u001b[31m seconds.              \u001b[0m\n"
      ]
     },
     "metadata": {},
     "output_type": "display_data"
    },
    {
     "data": {
      "text/html": [
       "<pre style=\"white-space:pre;overflow-x:auto;line-height:normal;font-family:Menlo,'DejaVu Sans Mono',consolas,'Courier New',monospace\"><span style=\"color: #7fbfbf; text-decoration-color: #7fbfbf\">23:52:11 GMT 夏令时 </span><span style=\"color: #800000; text-decoration-color: #800000\">WARNING: No connection: Retrying for </span><span style=\"color: #008080; text-decoration-color: #008080; font-weight: bold\">180</span><span style=\"color: #800000; text-decoration-color: #800000\"> seconds.           </span>\n",
       "</pre>\n"
      ],
      "text/plain": [
       "\u001b[2;36m23:52:11 GMT 夏令时\u001b[0m\u001b[2;36m \u001b[0m\u001b[31mWARNING: No connection: Retrying for \u001b[0m\u001b[1;36m180\u001b[0m\u001b[31m seconds.           \u001b[0m\n"
      ]
     },
     "metadata": {},
     "output_type": "display_data"
    },
    {
     "name": "stdout",
     "output_type": "stream",
     "text": [
      "Batch submitted.\n",
      "Loading task sim_0 (ID: he-8e48969d-1de1-4fca-9880-de0945bdf57a)...\n",
      "Task sim_0 fitness: 0.9529040404466079\n",
      "Loading task sim_1 (ID: he-35defd46-efd3-4a81-9a0a-ccca2c70e8d1)...\n",
      "Task sim_1 fitness: 0.9859842752552419\n",
      "Loading task sim_2 (ID: he-d98b2cae-eb37-457d-bd4f-2cf2d90646a0)...\n",
      "Task sim_2 fitness: 0.9385938704521543\n",
      "Loading task sim_3 (ID: he-23dbc750-768c-473f-8391-8e7bf09b54c0)...\n",
      "Task sim_3 fitness: 0.7773498533578969\n",
      "Loading task sim_4 (ID: he-21267a3b-b58c-4f9d-85d0-2562e0fab88b)...\n",
      "Task sim_4 fitness: 0.8816986636685188\n",
      "Loading task sim_5 (ID: he-246854cc-c43c-4cd3-a4a4-26d8b2d0b235)...\n",
      "Task sim_5 fitness: 0.8420202824047273\n",
      "Loading task sim_6 (ID: he-d0244a32-61d5-4b29-b9d6-6dc9f123245a)...\n",
      "Task sim_6 fitness: 0.7720674907122418\n",
      "Loading task sim_7 (ID: he-dcf1b284-115e-4708-a936-4d16442aabb4)...\n",
      "Task sim_7 fitness: 1.0858735045403083\n",
      "Loading task sim_8 (ID: he-d71243e8-4802-4b92-b456-e206427450df)...\n",
      "Task sim_8 fitness: 0.6768215144609858\n",
      "Loading task sim_9 (ID: he-a6b8467c-ab23-4834-aa3e-58e94e9fa002)...\n",
      "Task sim_9 fitness: 0.6825723776634294\n",
      "Loading task sim_10 (ID: he-82be7f9d-b724-4c77-ab22-7de523a7f60b)...\n",
      "Task sim_10 fitness: 0.9418162574260319\n",
      "Loading task sim_11 (ID: he-4e6aa788-9d0e-45b0-966f-f308445ea5f6)...\n",
      "Task sim_11 fitness: 0.7217280525560384\n",
      "Loading task sim_12 (ID: he-ee396b58-17f8-4404-9392-91dd85a69eaa)...\n",
      "Task sim_12 fitness: 0.8940391370531999\n",
      "Generation:10: Best Fitness = 1.086\n"
     ]
    },
    {
     "data": {
      "text/html": [
       "<pre style=\"white-space:pre;overflow-x:auto;line-height:normal;font-family:Menlo,'DejaVu Sans Mono',consolas,'Courier New',monospace\"><span style=\"color: #7fbfbf; text-decoration-color: #7fbfbf\">00:26:31 GMT 夏令时 </span><span style=\"color: #800000; text-decoration-color: #800000\">WARNING: No connection: Retrying for </span><span style=\"color: #008080; text-decoration-color: #008080; font-weight: bold\">180</span><span style=\"color: #800000; text-decoration-color: #800000\"> seconds.           </span>\n",
       "</pre>\n"
      ],
      "text/plain": [
       "\u001b[2;36m00:26:31 GMT 夏令时\u001b[0m\u001b[2;36m \u001b[0m\u001b[31mWARNING: No connection: Retrying for \u001b[0m\u001b[1;36m180\u001b[0m\u001b[31m seconds.           \u001b[0m\n"
      ]
     },
     "metadata": {},
     "output_type": "display_data"
    },
    {
     "data": {
      "text/html": [
       "<pre style=\"white-space:pre;overflow-x:auto;line-height:normal;font-family:Menlo,'DejaVu Sans Mono',consolas,'Courier New',monospace\"><span style=\"color: #7fbfbf; text-decoration-color: #7fbfbf\">                 </span><span style=\"color: #800000; text-decoration-color: #800000\">WARNING: No connection: Retrying for </span><span style=\"color: #008080; text-decoration-color: #008080; font-weight: bold\">180</span><span style=\"color: #800000; text-decoration-color: #800000\"> seconds.              </span>\n",
       "</pre>\n"
      ],
      "text/plain": [
       "\u001b[2;36m                \u001b[0m\u001b[2;36m \u001b[0m\u001b[31mWARNING: No connection: Retrying for \u001b[0m\u001b[1;36m180\u001b[0m\u001b[31m seconds.              \u001b[0m\n"
      ]
     },
     "metadata": {},
     "output_type": "display_data"
    },
    {
     "name": "stdout",
     "output_type": "stream",
     "text": [
      "Batch submitted.\n",
      "Loading task sim_0 (ID: he-57a1bcca-263c-40ae-9221-b3b97e13ef61)...\n",
      "Task sim_0 fitness: 0.8712770019073308\n",
      "Loading task sim_1 (ID: he-89d66d47-2664-4555-9062-fb8bbad64ee8)...\n",
      "Task sim_1 fitness: 0.7447047203502087\n",
      "Loading task sim_2 (ID: he-039c8892-c50d-4547-8317-602491ce7e79)...\n",
      "Task sim_2 fitness: 0.7773498533578969\n",
      "Loading task sim_3 (ID: he-9bdf28b6-c79a-45cd-92cc-9e01f9b20a1f)...\n",
      "Task sim_3 fitness: 0.8420202824047273\n",
      "Loading task sim_4 (ID: he-62a3deb0-bd2d-496e-a759-a1e5ee33ff9c)...\n",
      "Task sim_4 fitness: 0.7720674907122418\n",
      "Loading task sim_5 (ID: he-95da5924-b4c7-484b-8204-e5c158238bb3)...\n",
      "Task sim_5 fitness: 1.0858735045403083\n",
      "Loading task sim_6 (ID: he-6c737ba5-f7c8-4a58-b443-e963c2c1d697)...\n",
      "Task sim_6 fitness: 0.6768215144609858\n",
      "Loading task sim_7 (ID: he-17dc57ae-d674-4e7c-b23f-5a894ae2d0da)...\n",
      "Task sim_7 fitness: 0.6768215144609858\n",
      "Loading task sim_8 (ID: he-df3d024c-378e-49d1-8418-092ccecac52c)...\n",
      "Task sim_8 fitness: 0.8712770019073308\n",
      "Loading task sim_9 (ID: he-8d0f302e-9976-4556-95f3-34e0dbefd53c)...\n",
      "Task sim_9 fitness: 0.9418162574260319\n",
      "Loading task sim_10 (ID: he-855a2108-17ea-4f21-9c8f-6138ba775246)...\n",
      "Task sim_10 fitness: 0.7217280525560384\n",
      "Loading task sim_11 (ID: he-05fb2148-f7d0-457b-9271-6c2f4faca335)...\n",
      "Task sim_11 fitness: 0.7447047203502087\n"
     ]
    }
   ],
   "source": [
    "num_generations = 10\n",
    "sol_per_pop = 30\n",
    "num_parents_mate = 25\n",
    "\n",
    "#GA instance\n",
    "ga_instance = pygad.GA(num_generations=num_generations,\n",
    "                       num_parents_mating=num_parents_mate,\n",
    "                       fitness_func=fitness_function,\n",
    "                       sol_per_pop=sol_per_pop,\n",
    "                       num_genes=4*4,\n",
    "                       initial_population= custom_initial_population_petal(sol_per_pop, 4),\n",
    "                       parent_selection_type=\"tournament\",\n",
    "                       keep_parents=10,\n",
    "                       crossover_type=custom_uniform_crossover,\n",
    "                       on_generation=on_gen,\n",
    "                       mutation_type=None,\n",
    "                       fitness_batch_size=sol_per_pop,\n",
    "                       mutation_percent_genes=0,\n",
    "                       )\n",
    "\n",
    "ga_instance.run()\n",
    "solution, solution_fitness, solution_idx = ga_instance.best_solution()"
   ]
  },
  {
   "cell_type": "code",
   "execution_count": 14,
   "metadata": {},
   "outputs": [
    {
     "name": "stdout",
     "output_type": "stream",
     "text": [
      "[30.   33.    1.15 34.   33.   31.    1.2  40.   29.   31.    0.95 35.\n",
      " 30.   29.    1.05 37.  ]\n",
      "1.0858735045403083\n"
     ]
    },
    {
     "data": {
      "image/png": "[encoded data removed]",
      "text/plain": [
       "<Figure size 640x480 with 1 Axes>"
      ]
     },
     "metadata": {},
     "output_type": "display_data"
    },
    {
     "name": "stdout",
     "output_type": "stream",
     "text": [
      "[0.30976516868558995, 0.3392534589139285, 0.7958381243683073, 0.7958381243683073, 0.7958381243683073, 0.7958381243683073, 0.7958381243683073, 0.8765737813789001, 1.0408411322769051, 1.0515238206320414, 1.0858735045403083]\n"
     ]
    },
    {
     "data": {
      "image/png": "[encoded data removed]",
      "text/plain": [
       "<Figure size 640x480 with 1 Axes>"
      ]
     },
     "metadata": {},
     "output_type": "display_data"
    },
    {
     "data": {
      "text/html": [
       "<pre style=\"white-space:pre;overflow-x:auto;line-height:normal;font-family:Menlo,'DejaVu Sans Mono',consolas,'Courier New',monospace\"><span style=\"color: #7fbfbf; text-decoration-color: #7fbfbf\">10:36:30 GMT 夏令时 </span>Created task <span style=\"color: #008000; text-decoration-color: #008000\">'best_solution_GA'</span> with task_id                \n",
       "<span style=\"color: #7fbfbf; text-decoration-color: #7fbfbf\">                    </span><span style=\"color: #008000; text-decoration-color: #008000\">'he-c5a8af68-7268-4b1f-b98d-0770ae5bf0d9'</span> and task_type     \n",
       "<span style=\"color: #7fbfbf; text-decoration-color: #7fbfbf\">                    </span><span style=\"color: #008000; text-decoration-color: #008000\">'HEAT'</span>.                                                     \n",
       "</pre>\n"
      ],
      "text/plain": [
       "\u001b[2;36m10:36:30 GMT 夏令时\u001b[0m\u001b[2;36m \u001b[0mCreated task \u001b[32m'best_solution_GA'\u001b[0m with task_id                \n",
       "\u001b[2;36m                    \u001b[0m\u001b[32m'he-c5a8af68-7268-4b1f-b98d-0770ae5bf0d9'\u001b[0m and task_type     \n",
       "\u001b[2;36m                    \u001b[0m\u001b[32m'HEAT'\u001b[0m.                                                     \n"
      ]
     },
     "metadata": {},
     "output_type": "display_data"
    },
    {
     "data": {
      "text/html": [
       "<pre style=\"white-space:pre;overflow-x:auto;line-height:normal;font-family:Menlo,'DejaVu Sans Mono',consolas,'Courier New',monospace\"><span style=\"color: #7fbfbf; text-decoration-color: #7fbfbf\">                 </span>Tidy3D's Heat solver is currently in the beta stage. Cost of   \n",
       "<span style=\"color: #7fbfbf; text-decoration-color: #7fbfbf\">                 </span>Heat simulations is subject to change in the future.           \n",
       "</pre>\n"
      ],
      "text/plain": [
       "\u001b[2;36m                \u001b[0m\u001b[2;36m \u001b[0mTidy3D's Heat solver is currently in the beta stage. Cost of   \n",
       "\u001b[2;36m                 \u001b[0mHeat simulations is subject to change in the future.           \n"
      ]
     },
     "metadata": {},
     "output_type": "display_data"
    },
    {
     "data": {
      "text/html": [
       "<pre style=\"white-space:pre;overflow-x:auto;line-height:normal;font-family:Menlo,'DejaVu Sans Mono',consolas,'Courier New',monospace\"><span style=\"color: #7fbfbf; text-decoration-color: #7fbfbf\">                 </span>View task using web UI at                                      \n",
       "<span style=\"color: #7fbfbf; text-decoration-color: #7fbfbf\">                 </span><a href=\"https://tidy3d.simulation.cloud/workbench?taskId=he-c5a8af68-7268-4b1f-b98d-0770ae5bf0d9\" target=\"_blank\"><span style=\"color: #008000; text-decoration-color: #008000\">'https://tidy3d.simulation.cloud/workbench?taskId=he-c5a8af68-7</span></a>\n",
       "<span style=\"color: #7fbfbf; text-decoration-color: #7fbfbf\">                 </span><a href=\"https://tidy3d.simulation.cloud/workbench?taskId=he-c5a8af68-7268-4b1f-b98d-0770ae5bf0d9\" target=\"_blank\"><span style=\"color: #008000; text-decoration-color: #008000\">268-4b1f-b98d-0770ae5bf0d9'</span></a>.                                   \n",
       "</pre>\n"
      ],
      "text/plain": [
       "\u001b[2;36m                \u001b[0m\u001b[2;36m \u001b[0mView task using web UI at                                      \n",
       "\u001b[2;36m                 \u001b[0m\u001b]8;id=408108;https://tidy3d.simulation.cloud/workbench?taskId=he-c5a8af68-7268-4b1f-b98d-0770ae5bf0d9\u001b\\\u001b[32m'https://tidy3d.simulation.cloud/workbench?\u001b[0m\u001b]8;;\u001b\\\u001b]8;id=556582;https://tidy3d.simulation.cloud/workbench?taskId=he-c5a8af68-7268-4b1f-b98d-0770ae5bf0d9\u001b\\\u001b[32mtaskId\u001b[0m\u001b]8;;\u001b\\\u001b]8;id=408108;https://tidy3d.simulation.cloud/workbench?taskId=he-c5a8af68-7268-4b1f-b98d-0770ae5bf0d9\u001b\\\u001b[32m=\u001b[0m\u001b]8;;\u001b\\\u001b]8;id=549471;https://tidy3d.simulation.cloud/workbench?taskId=he-c5a8af68-7268-4b1f-b98d-0770ae5bf0d9\u001b\\\u001b[32mhe\u001b[0m\u001b]8;;\u001b\\\u001b]8;id=408108;https://tidy3d.simulation.cloud/workbench?taskId=he-c5a8af68-7268-4b1f-b98d-0770ae5bf0d9\u001b\\\u001b[32m-c5a8af68-7\u001b[0m\u001b]8;;\u001b\\\n",
       "\u001b[2;36m                 \u001b[0m\u001b]8;id=408108;https://tidy3d.simulation.cloud/workbench?taskId=he-c5a8af68-7268-4b1f-b98d-0770ae5bf0d9\u001b\\\u001b[32m268-4b1f-b98d-0770ae5bf0d9'\u001b[0m\u001b]8;;\u001b\\.                                   \n"
      ]
     },
     "metadata": {},
     "output_type": "display_data"
    },
    {
     "data": {
      "text/html": [
       "<pre style=\"white-space:pre;overflow-x:auto;line-height:normal;font-family:Menlo,'DejaVu Sans Mono',consolas,'Courier New',monospace\">c:\\Users\\A\\tidy3d\\.conda\\Lib\\site-packages\\rich\\live.py:231: UserWarning: \n",
       "install \"ipywidgets\" for Jupyter support\n",
       "  warnings.warn('install \"ipywidgets\" for Jupyter support')\n",
       "</pre>\n"
      ],
      "text/plain": [
       "c:\\Users\\A\\tidy3d\\.conda\\Lib\\site-packages\\rich\\live.py:231: UserWarning: \n",
       "install \"ipywidgets\" for Jupyter support\n",
       "  warnings.warn('install \"ipywidgets\" for Jupyter support')\n"
      ]
     },
     "metadata": {},
     "output_type": "display_data"
    },
    {
     "data": {
      "text/html": [
       "<pre style=\"white-space:pre;overflow-x:auto;line-height:normal;font-family:Menlo,'DejaVu Sans Mono',consolas,'Courier New',monospace\"></pre>\n"
      ],
      "text/plain": []
     },
     "metadata": {},
     "output_type": "display_data"
    },
    {
     "data": {
      "text/html": [
       "<pre style=\"white-space:pre;overflow-x:auto;line-height:normal;font-family:Menlo,'DejaVu Sans Mono',consolas,'Courier New',monospace\"><span style=\"color: #7fbfbf; text-decoration-color: #7fbfbf\">10:36:33 GMT 夏令时 </span>status = success                                            \n",
       "</pre>\n"
      ],
      "text/plain": [
       "\u001b[2;36m10:36:33 GMT 夏令时\u001b[0m\u001b[2;36m \u001b[0mstatus = success                                            \n"
      ]
     },
     "metadata": {},
     "output_type": "display_data"
    },
    {
     "data": {
      "text/html": [
       "<pre style=\"white-space:pre;overflow-x:auto;line-height:normal;font-family:Menlo,'DejaVu Sans Mono',consolas,'Courier New',monospace\"></pre>\n"
      ],
      "text/plain": []
     },
     "metadata": {},
     "output_type": "display_data"
    },
    {
     "data": {
      "text/html": [
       "<pre style=\"white-space:pre;overflow-x:auto;line-height:normal;font-family:Menlo,'DejaVu Sans Mono',consolas,'Courier New',monospace\"><span style=\"color: #7fbfbf; text-decoration-color: #7fbfbf\">10:38:33 GMT 夏令时 </span>loading simulation from sim.hdf5                            \n",
       "</pre>\n"
      ],
      "text/plain": [
       "\u001b[2;36m10:38:33 GMT 夏令时\u001b[0m\u001b[2;36m \u001b[0mloading simulation from sim.hdf5                            \n"
      ]
     },
     "metadata": {},
     "output_type": "display_data"
    }
   ],
   "source": [
    "sim = make_sim_petal(solution)\n",
    "print(solution)\n",
    "print(solution_fitness)\n",
    "sim.plot(z=0.4)\n",
    "plt.show()\n",
    "best_fitness = ga_instance.best_solutions_fitness\n",
    "generations = range(len(best_fitness))\n",
    "print(best_fitness)\n",
    "plt.plot(generations, best_fitness)\n",
    "plt.title(\"Best Fitness over Generations\")\n",
    "plt.xlabel(\"Generation\")\n",
    "plt.ylabel(\"Best Fitness\")\n",
    "\n",
    "plt.show()\n",
    "heat_sim_data_planar = (web.run(simulation=sim, path = \"sim.hdf5\", task_name=\"best_solution_GA\"))\n"
   ]
  },
  {
   "cell_type": "code",
   "execution_count": 17,
   "metadata": {},
   "outputs": [
    {
     "data": {
      "text/plain": [
       "<Axes: title={'center': 'cross section at y=30.00'}, xlabel='x', ylabel='z'>"
      ]
     },
     "execution_count": 17,
     "metadata": {},
     "output_type": "execute_result"
    },
    {
     "data": {
      "image/png": "[encoded data removed]",
      "text/plain": [
       "<Figure size 640x480 with 2 Axes>"
      ]
     },
     "metadata": {},
     "output_type": "display_data"
    },
    {
     "data": {
      "image/png": "[encoded data removed]",
      "text/plain": [
       "<Figure size 640x480 with 2 Axes>"
      ]
     },
     "metadata": {},
     "output_type": "display_data"
    }
   ],
   "source": [
    "heat_sim_data_planar.plot_field(\"temperature\", z= 0.4, structures_alpha=0.01, vmin=300)\n",
    "heat_sim_data_planar.plot_field(\"temperature\", y= 30, structures_alpha=0.01, vmin=300)\n"
   ]
  }
 ],
 "metadata": {
  "kernelspec": {
   "display_name": "Python 3",
   "language": "python",
   "name": "python3"
  },
  "language_info": {
   "codemirror_mode": {
    "name": "ipython",
    "version": 3
   },
   "file_extension": ".py",
   "mimetype": "text/x-python",
   "name": "python",
   "nbconvert_exporter": "python",
   "pygments_lexer": "ipython3",
   "version": "3.11.10"
  }
 },
 "nbformat": 4,
 "nbformat_minor": 2
}
